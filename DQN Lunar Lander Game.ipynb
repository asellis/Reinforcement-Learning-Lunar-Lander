{
 "cells": [
  {
   "cell_type": "markdown",
   "id": "legitimate-jordan",
   "metadata": {},
   "source": [
    "# Imports"
   ]
  },
  {
   "cell_type": "code",
   "execution_count": 1,
   "id": "discrete-score",
   "metadata": {},
   "outputs": [],
   "source": [
    "import gym # Contains Reinforcement Learning enviornments\n",
    "\n",
    "import numpy as np\n",
    "import matplotlib.pyplot as plt\n",
    "from matplotlib import animation # To create video of an episode\n",
    "import pandas as pd\n",
    "\n",
    "from IPython.display import clear_output\n",
    "from IPython import display\n",
    "from IPython.display import HTML\n",
    "\n",
    "np.random.seed(1)\n",
    "\n",
    "from collections import namedtuple, deque, defaultdict\n",
    "import math\n",
    "import random\n",
    "\n",
    "import time\n",
    "import json # To export data"
   ]
  },
  {
   "cell_type": "code",
   "execution_count": 2,
   "id": "altered-commander",
   "metadata": {},
   "outputs": [
    {
     "name": "stderr",
     "output_type": "stream",
     "text": [
      "/home/aaron/anaconda3/envs/ml/lib/python3.9/site-packages/ipykernel/ipkernel.py:283: DeprecationWarning: `should_run_async` will not call `transform_cell` automatically in the future. Please pass the result to `transformed_cell` argument and any exception that happen during thetransform in `preprocessing_exc_tuple` in IPython 7.17 and above.\n",
      "  and should_run_async(code)\n"
     ]
    }
   ],
   "source": [
    "# NN Libraries\n",
    "# https://pytorch.org/tutorials/intermediate/reinforcement_q_learning.html\n",
    "import torch\n",
    "import torch.nn as nn\n",
    "import torch.optim as optim\n",
    "import torch.nn.functional as F\n",
    "import torchvision.transforms as T"
   ]
  },
  {
   "cell_type": "markdown",
   "id": "hidden-provincial",
   "metadata": {},
   "source": [
    "## Neural Network and RL Agent"
   ]
  },
  {
   "cell_type": "code",
   "execution_count": 3,
   "id": "paperback-pledge",
   "metadata": {},
   "outputs": [
    {
     "name": "stderr",
     "output_type": "stream",
     "text": [
      "/home/aaron/anaconda3/envs/ml/lib/python3.9/site-packages/ipykernel/ipkernel.py:283: DeprecationWarning: `should_run_async` will not call `transform_cell` automatically in the future. Please pass the result to `transformed_cell` argument and any exception that happen during thetransform in `preprocessing_exc_tuple` in IPython 7.17 and above.\n",
      "  and should_run_async(code)\n"
     ]
    }
   ],
   "source": [
    "# Adapted from https://pytorch.org/tutorials/intermediate/reinforcement_q_learning.html\n",
    "# and https://github.com/philtabor/Youtube-Code-Repository/blob/master/ReinforcementLearning/DeepQLearning/simple_dqn_torch_2020.py\n",
    "\n",
    "device = torch.device('cuda:0' if torch.cuda.is_available() else 'cpu')\n",
    "\n",
    "class DQN(nn.Module):\n",
    "    def __init__(self, lr, input_size, layer1_dims, layer2_dims, n_actions):\n",
    "        \"\"\"\n",
    "        Basic neural network implementation for Deep Q Learning.\n",
    "        \n",
    "        lr: Learning Rate\n",
    "        input_size: Size of the state\n",
    "        layer1_dims: Dimensional size of layer 1\n",
    "        layer2_dims: Dimensional size of layer 2\n",
    "        n_actions: Number of actions\n",
    "        \"\"\"\n",
    "        # Base class initialization\n",
    "        super(DQN, self).__init__()\n",
    "        \n",
    "        # Neural network setup\n",
    "        self.input_dims = input_size\n",
    "        self.layer1_dims = layer1_dims\n",
    "        self.layer2_dims = layer2_dims\n",
    "        self.n_actions = n_actions\n",
    "        \n",
    "        # Neural Network Layers\n",
    "        # First layer must have input size equal to the size of the state (input_size)\n",
    "        self.layer1 = nn.Linear(input_size, self.layer1_dims)\n",
    "        self.layer2 = nn.Linear(self.layer1_dims, self.layer2_dims)\n",
    "        # Last layer must map to the number of actions (n_actions)\n",
    "        self.layer3 = nn.Linear(self.layer2_dims, self.n_actions)\n",
    "\n",
    "        # Neural Network Optimizer\n",
    "        self.optimizer = optim.Adam(self.parameters(), lr=lr)\n",
    "        \n",
    "        # Neural Network Loss Function\n",
    "        self.loss = nn.MSELoss()\n",
    "        \n",
    "        # Setup device to train on (GPU/CPU)\n",
    "        self.device = device\n",
    "        self.to(self.device)\n",
    "\n",
    "    def forward(self, state):\n",
    "        \"\"\"\n",
    "        Feed a state into the network.  Returns actions.\n",
    "        \"\"\"\n",
    "        x = F.relu(self.layer1(state))\n",
    "        x = F.relu(self.layer2(x))\n",
    "        actions = self.layer3(x)\n",
    "        \n",
    "        return actions"
   ]
  },
  {
   "cell_type": "code",
   "execution_count": 4,
   "id": "talented-somalia",
   "metadata": {},
   "outputs": [],
   "source": [
    "# Adapted from https://www.katnoria.com/nb_dqn_lunar/\n",
    "# and https://pytorch.org/tutorials/intermediate/reinforcement_q_learning.html\n",
    "class Replay_Memory():\n",
    "    # Stores transitions in a queue\n",
    "    def __init__(self, max_size=100000, batch_size=8, seed=-1):\n",
    "        \"\"\"\n",
    "        Stores transition history of the enviornment to learn on.\n",
    "        Additional details on Replay Memory can be read in DQNNaturPaper by Mnih, et al.\n",
    "        \"\"\"\n",
    "        \n",
    "        self.memory = deque(maxlen=max_size)\n",
    "        \n",
    "        self.batch_size = batch_size\n",
    "        \n",
    "        # Memory will store a set of transitions\n",
    "        self.Transition = namedtuple('Transition', field_names=('state', 'action', 'reward', 'next_state', 'done'))\n",
    "        \n",
    "        # Set seed for sampling consistency\n",
    "        if seed >= 0:\n",
    "            random.seed(seed)\n",
    "        \n",
    "    def add(self, state, action, reward, next_state, done):\n",
    "        \"\"\"\n",
    "        Add a transition to the memory\n",
    "        \"\"\"\n",
    "        self.memory.append(self.Transition(state, action, reward, next_state, done))\n",
    "        \n",
    "    def sample(self):\n",
    "        \"\"\"\n",
    "        Retrieve a sample of transitions to train on.\n",
    "        Size of sample is determined by batch_size during initialization.\n",
    "        \"\"\"\n",
    "        samples = random.sample(self.memory, k=self.batch_size)\n",
    "        \n",
    "        # Use float32 for Pytorch typing\n",
    "        states = np.array([transition.state for transition in samples], dtype=np.float32)\n",
    "        actions = np.array([transition.action for transition in samples], dtype=np.float32)\n",
    "        rewards = np.array([transition.reward for transition in samples], dtype=np.float32)\n",
    "        next_states = np.array([transition.next_state for transition in samples], dtype=np.float32)\n",
    "        dones = np.array([transition.done for transition in samples], dtype=np.bool)\n",
    "        \n",
    "        return (states, actions, rewards, next_states, dones)\n",
    "    \n",
    "    def __len__(self):\n",
    "        \"\"\"\n",
    "        Returns the number of transitions stored in the memory.\n",
    "        \"\"\"\n",
    "        return len(self.memory)"
   ]
  },
  {
   "cell_type": "code",
   "execution_count": 5,
   "id": "grave-findings",
   "metadata": {},
   "outputs": [],
   "source": [
    "class DQN_Agent():\n",
    "    # Class that takes care of neural network and q memory\n",
    "    def __init__(self, input_size, n_actions, lr=0.001, \n",
    "                 gamma=0.999, epsilon=1.0, epsilon_min=0.01, epsilon_decay=0.99,\n",
    "                 max_mem_size=100000, batch_size=8, \n",
    "                 seed=-1, target_update_interval=10, use_target_net=True):\n",
    "        \"\"\"\n",
    "        Agent used to implement Deep Q Learning algorithm.\n",
    "        \n",
    "        input_size: Size of the state.  Requried for neural network size.\n",
    "        n_actions: Number of available actions.  Required for neural network size.\n",
    "        lr: Learning rate\n",
    "        gamma: Discount factor\n",
    "        epsilon: The starting epsilon used to take greedy actions.\n",
    "        epsilon_min: The minimum value epsilon can be (for epsilon decay)\n",
    "        epsilon_decay: Reduces epsilon each update to the percentage of the previous epsilon.\n",
    "                       Will not reduce epsilon below epsilon_min.\n",
    "        max_mem_size: The max size of the replay memory\n",
    "        batch_size: The size of the samples to learn on\n",
    "        seed: A value to seed random and numpy libraries.  Seed must be greater than or equal to 0.\n",
    "        target_update_interal: How many cycles before updating the target nueral network.\n",
    "        use_taget_nut: Enables the use of a target network for updates (more stable).\n",
    "        \"\"\"\n",
    "        if seed >= 0:\n",
    "            random.seed(seed)\n",
    "            np.random.seed(seed)\n",
    "        \n",
    "        self.gamma = gamma\n",
    "        self.epsilon=epsilon\n",
    "        self.n_actions = n_actions\n",
    "        self.input_size = input_size\n",
    "        self.lr = lr\n",
    "        self.max_mem_size = max_mem_size\n",
    "        \n",
    "        # Initialize the memory storage\n",
    "        self.memory = Replay_Memory(max_size=max_mem_size, batch_size=batch_size)\n",
    "        self.batch_size = batch_size\n",
    "        \n",
    "        # Setup Neural Networks\n",
    "        self.Q_policy_nn = DQN(lr, input_size, 64, 64, n_actions)\n",
    "        self.Q_target_nn = DQN(lr, input_size, 64, 64, n_actions)\n",
    "        self.Q_target_nn.load_state_dict(self.Q_policy_nn.state_dict())\n",
    "        \n",
    "        self.use_target_net = use_target_net\n",
    "        \n",
    "        # How offten to update the fixed target network\n",
    "        self.target_update_interval = target_update_interval\n",
    "        self.target_update_count = 0\n",
    "        \n",
    "        # Setup epsilon decay\n",
    "        self.epsilon_min = epsilon_min\n",
    "        self.epsilon_decay = epsilon_decay\n",
    "        \n",
    "    def add_transition(self, state, action, reward, next_state, done):\n",
    "        \"\"\"\n",
    "        Adds the state to memory.\n",
    "        If the update_interval is reached, will learn on the current memory with batch_size.\n",
    "        \"\"\"\n",
    "        self.memory.add(state, action, reward, next_state, done)\n",
    "                \n",
    "    def learn(self):\n",
    "        \"\"\"\n",
    "        Learns from the batch of transitions.\n",
    "        \"\"\"\n",
    "        \n",
    "        # Return if there is not enough instances to create a batch\n",
    "        if len(self.memory) < self.batch_size:\n",
    "            return\n",
    "        \n",
    "        self.Q_policy_nn.optimizer.zero_grad()\n",
    "        \n",
    "        # Get a batch of memory\n",
    "        states, actions, rewards, next_states, dones = self.memory.sample()\n",
    "        states = torch.tensor(states).to(self.Q_policy_nn.device)\n",
    "        rewards = torch.tensor(rewards).to(self.Q_policy_nn.device)\n",
    "        next_states = torch.tensor(next_states).to(self.Q_policy_nn.device)\n",
    "        dones = torch.tensor(dones).to(self.Q_policy_nn.device)\n",
    "        \n",
    "        \n",
    "        batch_index = np.arange(self.batch_size, dtype=np.int32)\n",
    "        \n",
    "        q_eval = self.Q_policy_nn.forward(states)[batch_index, actions] # Q\n",
    "        \n",
    "        # Set q_next if target network is enabled\n",
    "        if self.use_target_net:\n",
    "            q_next = self.Q_target_nn.forward(next_states)\n",
    "        else:\n",
    "            q_next = self.Q_policy_nn.forward(next_states)\n",
    "            \n",
    "        q_next[dones] = 0 # Q terminal should be 0\n",
    "        \n",
    "        q_target = rewards + self.gamma *torch.max(q_next, dim=1)[0] # y\n",
    "        \n",
    "        loss = self.Q_policy_nn.loss(q_target, q_eval).to(self.Q_policy_nn.device) # error between y and Q in DQN paper\n",
    "        loss.backward()\n",
    "        self.Q_policy_nn.optimizer.step()\n",
    "        \n",
    "        # Decay epsilon\n",
    "        if self.epsilon*self.epsilon_decay >= self.epsilon_min:\n",
    "            self.epsilon = self.epsilon*self.epsilon_decay\n",
    "        else:\n",
    "            self.epsilon = self.epsilon_min\n",
    "\n",
    "        # Update fixed target network\n",
    "        self.target_update_count += 1\n",
    "        if self.target_update_count % self.target_update_interval == 0:\n",
    "            self.Q_target_nn.load_state_dict(self.Q_policy_nn.state_dict())        \n",
    "        \n",
    "    def select_action(self, state):\n",
    "        \"\"\"\n",
    "        Takes an action based on epsilon greedy\n",
    "        \"\"\"\n",
    "        if random.random() <= self.epsilon:\n",
    "            action = np.random.randint(self.n_actions)\n",
    "        else:\n",
    "            tensor_state = torch.tensor([state]).to(self.Q_policy_nn.device)\n",
    "            state_actions = self.Q_policy_nn.forward(tensor_state)\n",
    "            action = torch.argmax(state_actions).item()\n",
    "            \n",
    "        return action"
   ]
  },
  {
   "cell_type": "code",
   "execution_count": 6,
   "id": "portuguese-tracker",
   "metadata": {},
   "outputs": [],
   "source": [
    "def create_episode_video(env, agent, text=''):\n",
    "    \"\"\"\n",
    "    Creates a video showcasing an episode.\n",
    "    The random action rate (epsilon) of the agent is temporarily changed to 0\n",
    "    to ensure only the optimal action is taken\n",
    "    \"\"\"\n",
    "    temp_epsilon = agent.epsilon\n",
    "    agent.epsilon = -1\n",
    "    \n",
    "    frames = []\n",
    "    state = env.reset()\n",
    "    frames.append(env.render('rgb_array'))\n",
    "    done = False\n",
    "    while not done:\n",
    "        action = agent.select_action(state)\n",
    "        next_state, reward, done, info = env.step(action)\n",
    "        state = next_state\n",
    "        frames.append(env.render('rgb_array'))\n",
    "        \n",
    "    agent.epsilon = temp_epsilon\n",
    "    \n",
    "    # Animation part adapted from: https://thecleverprogrammer.com/2020/07/26/openai-gym-in-machine-learning/\n",
    "    fig = plt.figure()\n",
    "    fig.subplots_adjust(left=0, bottom=0, right=1, top=1, wspace=None, hspace=None)\n",
    "    patch = plt.imshow(frames[0])\n",
    "    \n",
    "    label = plt.text(frames[0].shape[1]/2, frames[0].shape[0]-30, text, ha='center', va='center', color='red', fontsize=20)\n",
    "    \n",
    "    def animate(i):\n",
    "        patch.set_data(frames[i])\n",
    "        return patch\n",
    "\n",
    "    plt.axis('off')\n",
    "    anim = animation.FuncAnimation(fig, animate, frames=len(frames), repeat=False, interval=50)\n",
    "    plt.close()\n",
    "    return anim\n",
    "    "
   ]
  },
  {
   "cell_type": "markdown",
   "id": "frozen-congress",
   "metadata": {},
   "source": [
    "# Initial Training"
   ]
  },
  {
   "cell_type": "code",
   "execution_count": 7,
   "id": "muslim-mystery",
   "metadata": {},
   "outputs": [
    {
     "name": "stderr",
     "output_type": "stream",
     "text": [
      "/home/aaron/anaconda3/envs/ml/lib/python3.9/site-packages/gym/core.py:329: DeprecationWarning: \u001b[33mWARN: Initializing wrapper in old step API which returns one bool instead of two. It is recommended to set `new_step_api=True` to use new step API. This will be the default behaviour in future.\u001b[0m\n",
      "  deprecation(\n",
      "/home/aaron/anaconda3/envs/ml/lib/python3.9/site-packages/gym/wrappers/step_api_compatibility.py:39: DeprecationWarning: \u001b[33mWARN: Initializing environment in old step API which returns one bool instead of two. It is recommended to set `new_step_api=True` to use new step API. This will be the default behaviour in future.\u001b[0m\n",
      "  deprecation(\n",
      "/home/aaron/anaconda3/envs/ml/lib/python3.9/site-packages/gym/core.py:268: DeprecationWarning: \u001b[33mWARN: Function `env.seed(seed)` is marked as deprecated and will be removed in the future. Please use `env.reset(seed=seed)` instead.\u001b[0m\n",
      "  deprecation(\n"
     ]
    }
   ],
   "source": [
    "env = gym.make('LunarLander-v2')\n",
    "env.seed(1)\n",
    "state = env.reset()"
   ]
  },
  {
   "cell_type": "code",
   "execution_count": 8,
   "id": "blank-tours",
   "metadata": {},
   "outputs": [],
   "source": [
    "'''\n",
    "Inputs (8): (x, y, ẋ, ẏ, θ, θ̇ , leg L , leg R )\n",
    "The state variables x and y are the horizontal and vertical position, ẋ and ẏ are the horizontal and vertical\n",
    "speed, and θ and θ̇ are the angle and angular speed of the lander. Finally, leg L and leg R are binary values to\n",
    "indicate whether the left leg or right leg of the lunar lander is touching the ground.\n",
    "\n",
    "Actions (4): do nothing, fire the left orientation engine, fire the main engine, fire the right orientation engine.\n",
    "'''\n",
    "agent = DQN_Agent(gamma=0.99, epsilon=1.0, n_actions=env.action_space.n, input_size=len(state), lr=0.001,\n",
    "                  epsilon_min=0.1, epsilon_decay=0.99995,\n",
    "                  batch_size=64, max_mem_size=100000, target_update_interval=10)"
   ]
  },
  {
   "cell_type": "code",
   "execution_count": null,
   "id": "exposed-universal",
   "metadata": {
    "scrolled": true
   },
   "outputs": [],
   "source": [
    "initial_training_data = {'scores':[], 'epsilons':[], 'gamma':agent.gamma, 'lr':agent.lr,\n",
    "                         'epsilon_start':agent.epsilon, 'epsilon_min':agent.epsilon_min, \n",
    "                         'epsilon_decay':agent.epsilon_decay, 'batch_size':agent.batch_size,\n",
    "                        'max_mem_size':agent.max_mem_size,\n",
    "                         'target_update_interval':agent.target_update_interval}\n",
    "\n",
    "scores = []\n",
    "epsilons = []\n",
    "\n",
    "episodes = 500\n",
    "\n",
    "# Print training statistics every n episodes\n",
    "print_every = 20\n",
    "\n",
    "initial_training_data['epsiodes'] = episodes\n",
    "\n",
    "model_episodes = set([1, 10, 25, 50, 75, 100, 150, 200, 250, 300, 350, 400, 450, 500])\n",
    "for i in range(episodes):\n",
    "    score = 0\n",
    "    done = False\n",
    "    state = env.reset()\n",
    "    while not done:\n",
    "        action = agent.select_action(state)\n",
    "        next_state, reward, done, info = env.step(action)\n",
    "        score += reward\n",
    "        agent.add_transition(state, action, reward, \n",
    "                                next_state, done)\n",
    "        state = next_state\n",
    "        \n",
    "        #if counter % learn_n == 0:\n",
    "        agent.learn()\n",
    "        #counter += 1\n",
    "    initial_training_data['scores'].append(score)\n",
    "    initial_training_data['epsilons'].append(agent.epsilon)\n",
    "\n",
    "    avg_score = np.mean(initial_training_data['scores'][-100:])\n",
    "    if i%print_every == 0:\n",
    "        print('Episode: {} \\tScore: {:.2f} \\tAverage Score: {:.2f} \\tEpsilon: {:.2f}'.format(\n",
    "             i, initial_training_data['scores'][i], avg_score, initial_training_data['epsilons'][i]))\n",
    "        \n",
    "    # Save model\n",
    "    if i + 1 in model_episodes:\n",
    "        torch.save(agent.Q_policy_nn.state_dict(), 'Q_policy_model_episodes_{}.pt'.format(i+1))"
   ]
  },
  {
   "cell_type": "code",
   "execution_count": 10,
   "id": "optimum-marking",
   "metadata": {},
   "outputs": [],
   "source": [
    "# Save model\n",
    "q_policy_save_path = \"Q_policy_model.pt\"\n",
    "\n",
    "torch.save(agent.Q_policy_nn.state_dict(), q_policy_save_path)"
   ]
  },
  {
   "cell_type": "code",
   "execution_count": 11,
   "id": "palestinian-configuration",
   "metadata": {},
   "outputs": [
    {
     "data": {
      "text/plain": [
       "<All keys matched successfully>"
      ]
     },
     "execution_count": 11,
     "metadata": {},
     "output_type": "execute_result"
    }
   ],
   "source": [
    "# Load model\n",
    "q_policy_save_path = \"Q_policy_model.pt\"\n",
    "\n",
    "agent.Q_policy_nn.load_state_dict(torch.load(q_policy_save_path))"
   ]
  },
  {
   "cell_type": "code",
   "execution_count": 12,
   "id": "floral-nursing",
   "metadata": {},
   "outputs": [],
   "source": [
    "initial_train_file = 'initial_model.json'"
   ]
  },
  {
   "cell_type": "code",
   "execution_count": 13,
   "id": "stopped-robertson",
   "metadata": {},
   "outputs": [],
   "source": [
    "# Save the data\n",
    "with open(initial_train_file, 'w') as json_file:\n",
    "    json.dump(initial_training_data, json_file)"
   ]
  },
  {
   "cell_type": "code",
   "execution_count": 14,
   "id": "maritime-footage",
   "metadata": {},
   "outputs": [],
   "source": [
    "# Load saved data\n",
    "with open(initial_train_file, 'r') as json_file:\n",
    "    initial_training_data = json.load(json_file)"
   ]
  },
  {
   "cell_type": "code",
   "execution_count": 15,
   "id": "enclosed-format",
   "metadata": {},
   "outputs": [
    {
     "data": {
      "image/png": "[encoded data removed]",
      "text/plain": [
       "<Figure size 360x360 with 1 Axes>"
      ]
     },
     "metadata": {
      "needs_background": "light"
     },
     "output_type": "display_data"
    }
   ],
   "source": [
    "rolling_average = 50\n",
    "avg_scores = pd.DataFrame(initial_training_data['scores']).rolling(rolling_average).mean()\n",
    "\n",
    "fig, (ax1) = plt.subplots(1, 1, figsize=(5,5))\n",
    "\n",
    "ax1.plot(range(len(avg_scores)), avg_scores)\n",
    "\n",
    "ax1.set_xlabel(\"Episode\")\n",
    "ax1.set_ylabel(\"Score (Average Over {} Episodes)\".format(rolling_average))\n",
    "ax1.set_title(\"Average Score vs Episode\")\n",
    "\n",
    "fig.suptitle('Initial Training (With Target Network)')\n",
    "\n",
    "plt.show()"
   ]
  },
  {
   "cell_type": "code",
   "execution_count": 16,
   "id": "indian-amsterdam",
   "metadata": {},
   "outputs": [
    {
     "name": "stderr",
     "output_type": "stream",
     "text": [
      "/home/aaron/anaconda3/envs/ml/lib/python3.9/site-packages/ipykernel/ipkernel.py:283: DeprecationWarning: `should_run_async` will not call `transform_cell` automatically in the future. Please pass the result to `transformed_cell` argument and any exception that happen during thetransform in `preprocessing_exc_tuple` in IPython 7.17 and above.\n",
      "  and should_run_async(code)\n",
      "/home/aaron/anaconda3/envs/ml/lib/python3.9/site-packages/gym/core.py:51: DeprecationWarning: \u001b[33mWARN: The argument mode in render method is deprecated; use render_mode during environment initialization instead.\n",
      "See here for more information: https://www.gymlibrary.ml/content/api/\u001b[0m\n",
      "  deprecation(\n"
     ]
    }
   ],
   "source": [
    "# Create animation\n",
    "vid = create_episode_video(env, agent, text='Test')"
   ]
  },
  {
   "cell_type": "code",
   "execution_count": 17,
   "id": "bizarre-rough",
   "metadata": {},
   "outputs": [],
   "source": [
    "# Save animation to file\n",
    "vid.save('Lunar_Lander_Episode.mp4', writer='ffmpeg', fps=30)"
   ]
  },
  {
   "cell_type": "code",
   "execution_count": 18,
   "id": "sustained-whale",
   "metadata": {},
   "outputs": [
    {
     "name": "stderr",
     "output_type": "stream",
     "text": [
      "/home/aaron/anaconda3/envs/ml/lib/python3.9/site-packages/ipykernel/ipkernel.py:283: DeprecationWarning: `should_run_async` will not call `transform_cell` automatically in the future. Please pass the result to `transformed_cell` argument and any exception that happen during thetransform in `preprocessing_exc_tuple` in IPython 7.17 and above.\n",
      "  and should_run_async(code)\n"
     ]
    },
    {
     "data": {
      "text/html": [
       "<video width=\"432\" height=\"288\" controls autoplay>\n",
       "  <source type=\"video/mp4\" src=\"data:video/mp4;base64,AAAAHGZ0eXBNNFYgAAACAGlzb21pc28yYXZjMQAAAAhmcmVlAACte21kYXQAAAKgBgX//5zcRem9\n",
       "5tlIt5Ys2CDZI+7veDI2NCAtIGNvcmUgMTU3IC0gSC4yNjQvTVBFRy00IEFWQyBjb2RlYyAtIENv\n",
       "cHlsZWZ0IDIwMDMtMjAxOCAtIGh0dHA6Ly93d3cudmlkZW9sYW4ub3JnL3gyNjQuaHRtbCAtIG9w\n",
       "dGlvbnM6IGNhYmFjPTEgcmVmPTMgZGVibG9jaz0xOjA6MCBhbmFseXNlPTB4MzoweDExMyBtZT1o\n",
       "ZXggc3VibWU9NyBwc3k9MSBwc3lfcmQ9MS4wMDowLjAwIG1peGVkX3JlZj0xIG1lX3JhbmdlPTE2\n",
       "IGNocm9tYV9tZT0xIHRyZWxsaXM9MSA4eDhkY3Q9MSBjcW09MCBkZWFkem9uZT0yMSwxMSBmYXN0\n",
       "X3Bza2lwPTEgY2hyb21hX3FwX29mZnNldD0tMiB0aHJlYWRzPTkgbG9va2FoZWFkX3RocmVhZHM9\n",
       "MSBzbGljZWRfdGhyZWFkcz0wIG5yPTAgZGVjaW1hdGU9MSBpbnRlcmxhY2VkPTAgYmx1cmF5X2Nv\n",
       "bXBhdD0wIGNvbnN0cmFpbmVkX2ludHJhPTAgYmZyYW1lcz0zIGJfcHlyYW1pZD0yIGJfYWRhcHQ9\n",
       "MSBiX2JpYXM9MCBkaXJlY3Q9MSB3ZWlnaHRiPTEgb3Blbl9nb3A9MCB3ZWlnaHRwPTIga2V5aW50\n",
       "PTI1MCBrZXlpbnRfbWluPTIwIHNjZW5lY3V0PTQwIGludHJhX3JlZnJlc2g9MCByY19sb29rYWhl\n",
       "YWQ9NDAgcmM9Y3JmIG1idHJlZT0xIGNyZj0yMy4wIHFjb21wPTAuNjAgcXBtaW49MCBxcG1heD02\n",
       "OSBxcHN0ZXA9NCBpcF9yYXRpbz0xLjQwIGFxPTE6MS4wMACAAAAGlWWIhAA///73aJ8Cm15hqoDk\n",
       "lcUl20+B/6tncIpbyWiXCY/T0cCaDR2KY32pghjQgDA/Vi4Nc/0az+axFtvG+kIaYSQRRjqvG4Xn\n",
       "YfzgFqbLsXo+hKVV4e1Mjb6/4qpaTTb0hp95PPiWT9Ny59En7146+RdZs8RLoxrJ0R1QhLJsszTo\n",
       "74Ny4P4UKIrOse2sjCMFpza8mTi348oNdPPoHxgqmgAS2mo5JzsqI+ePzHKxSoAAAqIA9dJAMo8l\n",
       "ks1+9LzLQUbajrQCAm41D7tLu7pyisyyPA5/tLFRH/dPiKBgF9S3Gbn9TZEYbg+Qosf1reo5CgUu\n",
       "tPYw8/AmvwLSu9Dm2x7zVoQkvLVoQaXpMT19urVCW0hUYFpleozoE9eAYfqEKAKJ7hVMYVtH71HH\n",
       "8K0q3ojFoRdMlJ9udfZHyaEVSnL3JZBqgcQoht0IMjnymfY+m00m8Anw2Voe5AMgDy7tK1jAmw2i\n",
       "CgUfPSp9H+8p9SRWpwJ/0SsZW5OEWoiifnZylrl4u3JhJXrXtOfZU1QkkOCa0fWhGj62tPObu8YY\n",
       "z6nxh6ofRUyZ7+2vhUXdPXKY5GTlfLUT9NQeSL5dS6f8odOJWJdM9Ajzc0E219xZoDaIqo7zkArH\n",
       "lRl/El0F23rALdzbtuw73dvXFTWmhS0ypXpemlk+ZG21idcsL30Qf2GS2/rHcV6upICIWKZmz750\n",
       "0dJnu/3CZ5Fz0ED+I7dbeUB4MFIVFxUBF80PZVKNE9KLjdgGYuv+V/YLbpXX8tFimLvTfvMYfUDv\n",
       "eP57GoWwSi8j5x1YgZDzbM1pkfGlTJlhZoLHliy8phnCZXdzwPJ0BICySHmh73NDTt0Zge/J1ruv\n",
       "5cAXvn+6wKIcyBviD0SrJugU32PjrMD8VRtf/d1I977fsc+8znZ+8fG/sl1O1pdOmDIlqo05IvvS\n",
       "wbRX5I6HaJ0xprXizIC7GtNANYNmuOGEWtBzroWZt79sf6PPa6oopodtlRHj3xArOPIHANAl6bac\n",
       "4iR60ex7wHXJ8G4YukdJ6L9it1cKw2tbRuKlXV2NPXLU07a8+i7Y/iI+ISbPKGVuqQISBshGmSAs\n",
       "Vd6oK1fAP1FZ9Oyezc9vekIK2RXSaT5gCzfniwuh2rUKg+xbm6lYbD74R0rt01oqVGQLC5t9qH+i\n",
       "UvxZpYgttfVq7oVycBwaLf4cvLtboeYsHLoL8rSohO+lMt7HZyXUhzsj/v7BFHystBvzFneCF/B8\n",
       "xXmWtbDm1ScMAnfUZl/Js9uj5P0Nt3v9JjKMwB0IjplGktVIQWxepARjUb03AYg6+/+isIYzcdOs\n",
       "1MYoqLivuJGSB52YjNR4y1qnbuzWelq/ussjKRJOLW/eJXifIun3mykNUyBwa79NN1Wgusk1JCRn\n",
       "ARMDVgx4pDmlfbsoVhVi/vl3//8nFFXMFfP/M6S5xKkzjE/CfwMJsEsVZrJKsQWDmsh5NU38MbH3\n",
       "tvyDl8AZKGn0s1bN2dO8ALdvVAj4i3moF+PSho2dvLt3dXITpBzVR5+n/OQ36HOkmnce9uQB5uJ+\n",
       "ZyENqdrD21CQPwSYLvzZ0ncbB4ic2L7Ahf9kJlAGp9WAiX/duFoTC5VxsjdVE8k7ulS3SvvmO/ED\n",
       "KNjrdqtRNRxA/I0UItc7qSblAc9Q7/juHBEV0roQ4ttxlrnTQ7iZ//8JOrCC5N8JjsviV3sauj1H\n",
       "JTJJiNNvvOq/jobHtAKlLXW+4/C9tGed2NTm8iYymKXDdvvoWsmWJByOgmZGnEkDd/25ZU0/8kzf\n",
       "o4MzMCcUgoeNeG3ryG1YbIHS+zEf+66JUk0wPSqtsNoVfmkjfUx9UaBIaGYXO1e6MqTTtTqccn3j\n",
       "/HzW3Fr+oZW8KJG9LefZmbS2SNNl+OdWNZJvqeTT0IIeF3W/pHGWO2k30sqwsHKbblLRE/LT3DI5\n",
       "ZQzs9Wye51YjyDBNzla3D6AMKmRP4HvVQL+uGS5xYcnbmpWqtKiJUW95Mten3Bb4F5n/PaYhHFlO\n",
       "J5fVFPd46V6sismW35BCmjng4RUr575c5bVFr5/tGPgZLfa1LdipIe9WiepYOPAS8i1xcQu46bH0\n",
       "oK0TCNQkWdV7i9M+yNaIYd8Ae5ksY5JnomBcsoQ5mrcL7Kje1S763Crk/ww2v3LaXIOt6ojB7gxo\n",
       "CaWS1fqSiKV3LUcSdqMNEPNtK6VXocTKGTrkyIGzAAcwFnaAAAGl80bzY0n7rJ3gBUd3aM32eQX9\n",
       "OkK3mWV544Qw3prMLAhJAAAAq0GaJGxD//6py4CBFfoALV7Ss+Uvzk1KYZRizpgLvSeShLGkH2KV\n",
       "4e/u9nUKeAY3/HywStbZFhiALZXvdtUYX7vdZOq/m/+ab/m4Mx6cKAbscFy1boyugBVME/QV393J\n",
       "ADHOhzCmc+qCMccg/cfCG/8rjT9a8/fru3ioH63ufJd2icqyeYy0rODx5BmsiA7j+Pu1A7ZgZLbp\n",
       "yQnzPZiQP8x1rR1cl9dyIdRssAAAADtBnkJ4hn8MuBml8F5h9AAubGiVFeYIgaYgh3D981Uafx8x\n",
       "wO/NLG5NHd4Mc6gDmYHQNk19gXFISt8TcQAAADQBnmF0Qr8UiyIAW1seaP1uQpHdOeWdf64Ulv40\n",
       "cSeYK0rrDTIYB8RSbaEkVmbG44hUVEVYAAAAOgGeY2pCvxSLIgBuKGQzk65oNlo/Ee5Gi/Aiq8sX\n",
       "7pt+un4bjHxWkwK1fh5CiHWEmroSZKNe9NxY17UAAACKQZpoSahBaJlMCH///qnOSdMFm1i9gBKf\n",
       "4RQHkPAPhYXr9fdbkRmPgrSo0a8GI5fFt4a+G53RjsFFrhA29BisO70zhRggxrrujimLaHFEU61M\n",
       "vBkDA4e921RkfaVvLHTOhS/yDeMv5sU7Rm6JdLw0awMkW4eWR9w5scEIO/VHFfg2vnCvX4M8zClf\n",
       "AAAAPEGehkURLDP/DkdSiZTp6LfvWHYAA36sg8ww56iHickZq6YeJv1KPBlblLNHY71auKgAY9UP\n",
       "01/CKLR/gQAAACwBnqV0Qr8UPm3fsAHBrTgRt8+ZCiCYGPsCTKUXr9yPaKquH/Q3QkesWYhtOQAA\n",
       "ADABnqdqQr8SSpLamx1LuZaOIAA3p5IIslYNksGR8D+2vFGE7jJZBNvcqAMo+0A8D4AAAACnQZqs\n",
       "SahBbJlMCH///qnLGwX4ZG9QCCh6kZxROaKAkyx5/Je6C5xXIC+YltR9xoo0BjJb07dM1UMM4DBQ\n",
       "D0lFidznQA6c9rudm1mfTo1ET6YlKvdrqV1bdEQvdtUY3+i/bZrBr/ib7mTSHWqY17UolQgW45GR\n",
       "xflv/enown7cwSmUGjExaHsBlzS5XY7Otwz/eyGwppTZCIyHoipGgoIaWRtSg5z16YAAAABRQZ7K\n",
       "RRUsM/8OOpibA6QZLi0pENlMkCuhi70MOAIQSuBOLugXI583aQLWkiS9sDBT+VonrZW+L5mn9cpC\n",
       "DFQpyJYdiSkqHM5VcWVfmTxJH39rAAAANgGe6XRCvxO9dH0tJAGvUNabmAWpbeDv2tVW8yLVCRMk\n",
       "3UM/3HMHV/kvEAbzbvywJG9Nh9SfHAAAAFMBnutqQr8T54rfKqNY0ngpfu/k5vQBHaoknBSKOV8v\n",
       "qJ13U4OQDPTX/LSiF5H/I2HDk0tIfOenllaAKpXuvBhKT7F9yWK7M2WlkVOj/tdt28QvgAAAAIVB\n",
       "mvBJqEFsmUwIf//+qcuFHHDoBWGJXdpFJS2YZ7vgGUuv54ICnpd40LcSm+a47BZW+XYOI6cSgWVD\n",
       "dATktY8lSGAgsgIg9z4zeke7amqssFQz/kXKEyMTCVlj94/+6Ywf5OKxeHsERQISvlposawdc5z4\n",
       "eUun15/TepkN72vF+M7io9rvAAAAW0GfDkUVLDP/DgH3/3/1FvQCBjO7sefRXy9BtVLzGHL4LxPN\n",
       "mxlPKNOEt4GFtMTTaeUBU/bMdzw3fEYo4BTQWYFy4hdHjTR6cmo/n5+5AbNvuP4YUZst13IqIeEA\n",
       "AABPAZ8tdEK/FDW4LG0Gpunwy3NxYAjs8VI7xE7XH/r9lurkFi5r1AGCtWSvvcO+vogRm44Uw5qi\n",
       "YHI/Ms4hrGezbYJl+Vka3tWriMWMmyOu0wAAADgBny9qQr8PMPr/GAWwRG+JsOfzjhwACNUcPBMC\n",
       "0Jz86Mb90rZbrALJo4J63wLIj7bgGByEEkHR/AAAAFlBmzRJqEFsmUwIf//+qcsYffZB0xY6H0Av\n",
       "2/+1vRzMEV4ngeYizLsyZjrqC35KhQB4eSuHrUJEAHf6XRPayFUypgwDF0q4B5jqGy9M7mxDaloC\n",
       "DTds4eXgQAAAAClBn1JFFSwz/w4kwwALfdeSAYDXpuYJD8NGXn48wP8T5ZGxgUwy/raIyQAAACIB\n",
       "n3F0Qr8URmxfYBy9Wxvc2qANvzgpr221ybSpJk5wfwSwAAAAFgGfc2pCvxQoYxSnk462HWQ444To\n",
       "WsAAAACDQZt4SahBbJlMCH///qnTFe9TsMnAEN2oaM1axc09WU9RyX0aUfD6bBUNG8pqu+hcjTCC\n",
       "y0yvJ6S6w0kLrV/jFlJK2aIVZM2RYs/Omk1d/gcbUUXxrE9qjCaMOXl/PWPf4M+/FYj/pHv2aHhF\n",
       "4v8IjtYndQ4ACLfn1VTWkKtOH2cOLKEAAAA2QZ+WRRUsM/8OodgAVLKfEvHbx33WHbibYTb/39ts\n",
       "tI67sTdNgivSh2luEPSm2ORlj1jEchGwAAAAGgGftXRCvxQWcR741s5r5FbkxEYgTqsI/8ZxAAAA\n",
       "JAGft2pCvxQ1Oxoj2ap0AG0yQ527vnLrfLQUmGVlqW3iODbAgQAAALBBm7xJqEFsmUwIf//+qcsY\n",
       "zk9bgA4Rl2QVkTZguzJ5uK7EWUCnFrFmdATVhkRMYYiorUxVk0Z8vcuFzCTZQJXvM8n09FpszP1k\n",
       "LQM4DZG+O1FBf9PQdMO1k4gYv7KR5tynGv1t836rVbnpePfOlpjtnGtvWO0VnIJp3GF6pSgqwPfd\n",
       "tUYVopAfN9VjYu+Y33PaY4RaY0mRfvae6DAJ669k2jv9pT/XynfnSjuv2LM6/wAAAENBn9pFFSwz\n",
       "/w4laV3R50IWoIakgBFYmuMnk9rfvYNyNjGxmXQQZoO80N7v+IpQhw6g9mRVLc0o61ZnIIK2FFkL\n",
       "4+aNAAAAJgGf+XRCvxFW89JIB5xccwZ5z8qNLPF2JwWN0v8a/LTu7ecJ19FwAAAALQGf+2pCvxQs\n",
       "w1i8mxI7TPBb+AGmreVbbJCu63XflneR9Jz+Zw7WcWWXwMqrkwAAAMZBm+BJqEFsmUwId//+qdBi\n",
       "/7FEwoOAG035nCq3aTqsVjmKt4gTQlK+F7jX0mV5aGRa7AZPjger3+VysHeRQ6f0THq7QP8aQuQt\n",
       "YWYfUIGu+84YNEZKKQduZVTMvpyUxD08YmecJoK2aGgOSvKvMyerISJPkIZpkf0P1jlSLQOYa8+Q\n",
       "7RVQHvdtKS5j1MdKMpANpMn6s7uMCiP+KOPnlyiG6OdLF5vgiY/0wA6EZWWfsDADryCBEjlXHdC4\n",
       "JVL5fiYkSKycVUEAAAA5QZ4eRRUsM/8OJWhQesPa+QAtbrfdjfxX/NOBbX+nAJMHY208s5WAdImr\n",
       "3V1iEhxYinXrEGHUN51AAAAAIgGePXRCvxQHVYrH5HWzEKEb54AWtsLJN3wf+aw97xeyyiYAAAA7\n",
       "AZ4/akK/FA4+86pHOgBKTH6w2kDM+bohlqfR6UYHo/NmrpUsAmHpaBsqn4+gO3xrciTBq2lGpYkA\n",
       "wIEAAADMQZoiSahBbJlMFEw///6pyxF6LPAJ8Spjuzf312E3xnzm7A049XyC8I4TCQUkvLV3FkQa\n",
       "v+ZzFqSQk2jJu093GLFNgQ97lKc4eQPuuMG+jQc13I2/JsDCVG8aGgyJaV+USDPvzfdxDP9R7BKs\n",
       "zvevkIxNQLGCmIa8iw5gG2PKha8XY77tpOk16ySsJYFc1+Ufd1AMOs5bV9nVEqmh4kh3Svo3TK1y\n",
       "lpYEdhdZM6KmVmf3/6iil8uO4XhPX//nsMqGS64e4UfYgoAiahiwAAAAWgGeQWpCvxQXiuRHny9N\n",
       "86AEbYz80x+lFJKDkXMHsooFgEzTj+jlM5Ik3kW2UHh9JtOuT7zn54C0/DPEPaLegJbS8m23rpbL\n",
       "wc6+1lkxaIdhushp1sasYZmTRwAAANNBmkZJ4QpSZTAh//6p029FPAVMtGNzoDbmCoBoEkzCrbeo\n",
       "FKbUI7oDp33KPo7Nj7fb8Go0NSdkZ8TddmQHD5IFjiXMRKq7v9kewsJE+jAaNXTmNitZ5jTBt5WJ\n",
       "dwtni9JcEgF1e3B0zIMeYLJCX0+QZQbYg73taAg8+6gVixR9//hMceIhlE3UalTkdJr/8IfIWCev\n",
       "1oH+N8RnpLXN57F57C+kJNAoUDmFhXzzx9t+ZIUslSZgZLDyrV5QFfH7p3CltA42/LDcrzRcNxhU\n",
       "DoLezGBAAAAAbkGeZEU0TDP/DQ3oWTlYrIjFb3bo+AED8Kr+W5tMf+9fWQ1VtjCRj9cmOviO1V3q\n",
       "Nu++dUE95YAXy+BUZeVrl+vpnTF31Rc5ynrrFKU6gCS9UbnHMnirAdlCF3lE3iYDmMb3zgDcqVgK\n",
       "2o+6hKThAAAATAGeg3RCvxRKooJjUbfyleudwAsYvLvBLj3Eq/9fZQL4wmqy7MJtYMRRtWwgI+j1\n",
       "bNbmtcnxseGn83Ra37XlwCMDzZubyLjLxl04DFkAAABrAZ6FakK/Eo8zPcmpqZHerMAF02F9r3kj\n",
       "/vJqGwHYbCAZQY4BEyK6tIT1ALzD09Hv0ilYFqRPzOgNXV7guJ/zq1sIdZ5yoac6M00Pz5rVtaXb\n",
       "DyV5TB1Kr0mj1xfuRsTrDLxOn9t7tnC+DDcAAADrQZqKSahBaJlMCH///qmzdL0datACL5bKZXdR\n",
       "SkFFa7UEy9JoVh5PduZ2FbzggERgrssv3Do+egBiKJPhGrCR+DfioPP5kV6l/wMAm6V6tvv9Atsh\n",
       "/5bx0eXYdUEDCDsdwwGpaRFXQKHHDGp8n6WD6W/HGXevXZUum4mhNNWzwdfFocx2NPX977tnDrHt\n",
       "6JMEKt5gR/XZw098tazLY7COFyxr3yQ2qiNb9QiK1uMU0DvTjoiSWS2FJvLze3CFdazuOZUWjwVM\n",
       "pXNn0LpBYTJc0KiH+Z5goOBa7TeoTDXJj8M5c7DlzSJJW3nygwAAAIBBnqhFESwz/w4vEYdvm0ri\n",
       "lxkpOBz/bxovp3EPuuYFEBhCJE/RwAWjzfdvo10TPmSpjXjG65MC1WWSlRlYA8fNneHW1+Pcj9Pd\n",
       "J+sAavUZkubV5519aV6ZqVUc9KZWwYfaO40St9MHV/5uZ+zYnbL6Gi/HbGTK6gSzJxjG+dzG7AAA\n",
       "AHYBnsd0Qr8PwYza8FIpj7PpTUALb8D8xPHa7WhnrI6lc2k1kwpO79eKxHIf8FffQJXou42I40Xq\n",
       "s4r3YUk/zXcfwN1vk48Fo47xmO0Gs+eG25S/p0xcJvkb9qOEXH3h0Vh/Tavdf/297k2jMjSF7uVw\n",
       "sRglUgi4AAAAgwGeyWpCvw/B2o20Ao3XEoAAukAOcbrL/KD4WqToBpoKRdwjm789Rl4OX2hpPzg/\n",
       "QTH/afep2uxbYmf5CQUhHzMTDcwz0q89WpRCtBUEw3CYzEpgUfIsZ34EpVCSvZLXUT1IJsHlfzRO\n",
       "pM9Zy5zNLs643n7wtj/5qLHrzplXIdEzL58xAAABCUGazkmoQWyZTAh///6ptnBQkIGiHSAEYGg0\n",
       "XWejBFcLd0gUJYywZ/kHOq2iEJRAoNdg2mmPaLGoEFNeJJSsKEIfk509Y6ORVLFty8UWPgf56UWb\n",
       "B5P/0f1qe9HtOmGhguvBodd2PzXcovIQfdF7GjuqXCGwos7DfxVKAMzN7K/k90i6pQFJJGad3wK5\n",
       "6cpn97tnB1/3mo+hLZZ/xtqVTT0/Xi5aaj+Ox3nmxJAl8WwqST+md2MKIwltW+2DDpjkTAN6yxBh\n",
       "LP96oZhRsYo5tpFV6gGEheAWCKLJFohIv/0BGcvECHa/gav0tH+fNMN4gg5YQGXqELV6Z05HqzDi\n",
       "3GeXt9srxr04R8AAAACNQZ7sRRUsM/8L277d8/090AADjGX1NT0bponAWkPHvHvb45fVhKBbQ6nu\n",
       "+7Ul6r/S126XMLU8ynp5bYVHOD2ohKk5psPxMjnml5sWCgDaHC9ScawkiySJETdlvx9TGbYUvMwA\n",
       "7L9TMh67yz1/fdjrxqYK1+vYBjn/QBWbSqCwsvATT+4nKhn0gDOB5KxMAAAAaAGfC3RCvxEakRfQ\n",
       "CGAAElfuIpHfnhEvtyZ6msuxizwSAlFU9rR0QA+a9Rt7Px8WG9DI2XsL+14fGdSlN0XpUzLurXes\n",
       "m726hrk3WhiU7r44e16LVKb/T3aZmw5sHFSrcawuyms/6W2BAAAAWAGfDWpCvw/RNAdNtIuvsM/U\n",
       "vgpVEALN1DHMLuajd96kgojEQAXRzJFEMEMm21T6GquxyXThXBlvdHthMJU9XxJGaCprevTnDb9O\n",
       "m2prMLYMKgDl9oCYky0AAAEZQZsSSahBbJlMCH///qm4HYfEGUXahLl280RgDhIQ2iOBsvXSCWdh\n",
       "DqsL+i0Eb2ARLv3Kd2gTOlh6fuJGAMV/jzYyii9IWuR2W0UISFUemU3VJIAAlJHZLQANjEeJmDG8\n",
       "H9Z1EnCRp8c/j6gQLN5OtDIJWDdsturKfr6M/6HQsuWrzXCK4bVB4bTGDN2bvu2cPmH8J5aX3qv4\n",
       "S6fNgkMmda8vuOHrfGhugUNzA/SEhWnJUxWA+gwVmlOukeR8wFbhNwFNN4CoDWfA1coSYHiOsNJ1\n",
       "rvAlioC3vUZHy5ZQNcb7jhM5gfQ1P1+MpPpgzgVCwN8GScaFomWgWtY1s7ObMQkRFhF+Y2LerhcG\n",
       "xveK6zUr9dltHrAeErcAAACTQZ8wRRUsM/8L2VvABENwAUGSlOuVbiL/c0SUoeuWnP27IRfIV1S7\n",
       "mZwQvw4OLP0a9svq89kgfKfipAx1Pk62dZmY88n7D+n+ey50plqP3ERRMzBs6PkZzKId0qIaSAfv\n",
       "YZBl2sRLssAoEIjk+oJorhdzxWJWo3oZfvEoc8q8K8ek8pvizdfQOYc8zMmgi4CK0WxAAAAAhQGf\n",
       "T3RCvxEo/BU1oKIAiG7hbQ/eJPiWpdikNa6w5xBhIdfq1ayVrxmQoSszLnaciAtrMowboLBxwAvN\n",
       "+LWxvh3J3u0V2KpVdo+6Ut5lEzUlex6evtyrTqOkb4QUgMMD60gKeCZhwKF8s/iQJ1K7LRn5fpu/\n",
       "kjZTR/LrReCJ4seH9k3LGVAAAAB4AZ9RakK/D+P6/h7AU91eZZqlZPWaUIPqXQATt5W5kelojvpn\n",
       "0ZwIa2c8dqxJDxAfOfcanDdL97vUsqmFoszP6UdvAHrHzYYEtN1QDMnTU5uOE2I87blXo30nGNqU\n",
       "pRfgSHWx2Kp0CHNZprNi13J/VKCjNAiyD6E3AAAAsUGbVUmoQWyZTAh///6puDW6ngdzZapXeb8g\n",
       "COfh7ohi0QyspFTBmvRwzuJpk6+LrYELLTtACNFe6ppaFZQuJX9qKXhRlfzlxosgJDWYux1vqFJt\n",
       "Psnpl5433vds3kASz3nS3brsd+WjFReqNCLlXIQP/4ZD3Py+/5coqMYOIz0NZcZAcj8YxHMDmwb3\n",
       "gKXvrsKuvh6lUrlQD4JG3Ip3+E7J/y7YQpuI/+vlO/UyZovNwAAAAIJBn3NFFSwv/w5JGvKSjHU3\n",
       "j85Wo534FGusyBZ+bpv3jzUAP9VWAI+VKXV1SFqsSVZzYb/z7J99sE+EC5as0aTFyyqdRob5t6v5\n",
       "ohhLCK196+2531a7v8kzKC66i6JurM8cGTHiJssh+rFh6xwtm+LoG2V1lgi+RhLSF2FsXr8YYDug\n",
       "AAAAjgGflGpCvw8Wf7eIjMecoJsgxPVKACaOxhwn9EMe2fvkbtvzUpHpNYhlQ4v/L40yGbBYubCF\n",
       "SMEMkPXOp6Hwxp84e55TBrDdbrc0qSwEaR8rL+7VuL2MeUDC8fW6AophVW1SGkNaNkr7lgqj+y1Y\n",
       "DeNObMdsXX41qb54uj8eyjsZsSxNrQWZRhfKaF1YYd0AAAESQZuZSahBbJlMCH///qmzpq3QAmZJ\n",
       "fj/AQ+8KAKMXDrtx++B7hpeN9L+/jYrrWUuFVL01UgWF6v0cObYnhoWaBYyjkl8e3DZekHdtK0Ar\n",
       "xEOe6sjYn89MsbVF0QMLRJUC1P4oNfZ6LtS0LF/CKDgRBHTcEyvlBzgntj45aBZPkpvEcPskLKxe\n",
       "P4+6td3y5ZuCGnXvkXjXF7tLfI7k+72rN33bN4XAu8vyhmf+5GMHx6W3DlDSSuYIIqjRAz/EactI\n",
       "ldUdx13b/27jcN3sMFJDR4/Jzg6O8g9DdwraAhSFQXHzSvFktsxjKPKzXrK2DdMe9wH+hs7KDBiH\n",
       "LurGsdINpNFZEujuIJRMoIKWryavn5F/gAAAAKZBn7dFFSwz/wwaCQoef9zpdifuQAwsZXAvYAHA\n",
       "YtkGfDoFfZohwnm2LBghC35Y4cjgq4Ywqc/dAe31mF4kQMjzDTVjaD6t+u4Yd2sCSGoFqEnJgwzo\n",
       "TLv/Kpq+K5Q6SkRK3U9PPp7asKFBFfPLmTFSRBMnJsB9V0+4Yz/0lto7AAGlt6MfJ8a3EKFb8dcF\n",
       "UGqgP+D6Z0hHAH0fL9QOAKOxhxjVLAIrAAAAZwGf1nRCvw7285QYlVl16hcJfV5NyQANGTEOTKpq\n",
       "3gPpDJyKNVXafTYS9KZZhbG8rBI0Ea/S9RKhPH4qBK/ebUsuKdxmDGemz6pL2hvfn7EKurV4Kot/\n",
       "I5GfWatrjnm/y8gLKdBZxSUAAACIAZ/YakK/EVytzupQmGypjVob/72gCHRFVshJsG+O83ScJwMB\n",
       "m6XJW3KNftcE33lnebuXy4pulLmyRL8bmqXi+wLQSslsCTFfr2cV6G1K5I+WPEILI71URg7wpCKH\n",
       "ltnNailjNnzhN2u4ZsrAkvJMAJd9yXJax8Zmmi3MYMT78/2wIiC5n8QkvAAAARlBm91JqEFsmUwI\n",
       "f//+qfwce9ABdV2AFgiBL9LdXP4erbCXNc7Y22eWANp9/PXKlcvD2uyFn+4XVPUJuc3e67lxqbu2\n",
       "IE2sA4UqNm8GOS6RqsNf0DS/e3Pd8xTOs8ZAcXgqfSsg4Xx9/2EJl5HCVg6MY9Gzu8SulfHgjdbd\n",
       "BiPshfXxau6Z+ndzH/KnDtHbpNvkEXREKUJloGwBgrqKlTd1pWUm/25nI9pXOm4FvlloAHP3tqtp\n",
       "jOHVak2HaB7ufwE46YYwQIGvDDxQcm8gz9tpAD0L6Wig+TrbB5Bt4JuHSXbTah0W6KALM63KScDV\n",
       "xNQ9HjYIvpfkEWMoWfATn48+55IpLAGz50Tj2pijethYdO57UGXlPZ5DuQAAAKVBn/tFFSwz/xDl\n",
       "XyepAEGuJRkwhSEB69N8koDRcoeFYmw9pI24qxeMeGjnxyJlqJc+V06ARF+PNvnkJ2+224HG68yC\n",
       "KcZO9WXabFvy9py1Q+JRagD6+yz6mu2AcPvxYis3NLbJUI8+SpjCOMZV9Tl+7jkmVSzJqVK7zgMx\n",
       "9hErIXKdf5jWZp6NGEM4/9Fjyil/2St6R8ICDSgjA4RlZ5kNo6ASG/AAAACTAZ4adEK/FEY1Fc6B\n",
       "c+5gCNVqoizrt+1NvrDMhkUCK5yBCCUW70A5pICRMn4bwXldD2u27wh6U4Cr8ITMTxd704ZMvyd6\n",
       "g+gVxHC6MpX0F5+QI7ljaMEjCA7eYsmWbZyWmOi3uWD4HxyU1sWDOm//uVONduazE9/5bPgmU2Wt\n",
       "KqUTvjTSIssyaZIIjGUm38gLH/7LAAAAewGeHGpCvxfPAMAmvkXLef4A5dcbhbOHCk1BI+Wi4cw3\n",
       "MdBILD/E0zH0WpTbU251Dkd9xqZeEXNTnz4S2b/zbGDfLrEGWJdcT+oEUVzXEFkv9oUL0cSsm68z\n",
       "7KUN3mBjkZici7ZL2cGj2UoECGlZCgm5lpFAnTm0HACXgQAAAPJBmgFJqEFsmUwIf//+qfzyPegA\n",
       "4tT85BwZDvckUEhP+4078bW5TZ4fPDzpdepLEtFVpN4mBy8LtwgaHA44KAJA3ZJ/xHVCl//3Tq30\n",
       "MyQz9Pz5ynJTb6iga7LclfW7PX+fr5bABA+BlunPsugejX75CkzZ9OrSy/7wRlDbmAd6LDzG/IFM\n",
       "KYqrdQo0AG9Qrp+t8RLzEwORRgyiNcoxVU0IG0Gg5NuQb8M6YT1PQpT4riU9ljcheqykBU4rA8WF\n",
       "huZe5CGUCz3hq/jByhmWyryZmB0efkJjOimOEviV1O7Zv9IcbdwUNm5LqavasgDdK4cpIAAAAMRB\n",
       "nj9FFSwz/xDzCdankNVy0AI9jhN03vKB7uh+OLttIXVeTdJf5KghVohHorfbSKPIl3JiqYN8MLw0\n",
       "yM2bR9AmBo+lmWlbZoiVaeBpeGLbNQsADBKLPGuspIUMANanMa0SmGh45dv1KYRrCSvMhbARxy5E\n",
       "jnBq8/nVZHX5V6O8GTqTV75gAfYB0NFi31TjPzUFPqPBOs9lAjgMPqJL8kzmixeTr8LAHg0nU475\n",
       "xeUugEIVl6Tu5NbPBKMZ5MWbnDZTEwPaAAAAegGeXnRCvxw6UQDUqgLm7yWSMZN2JBmsrdJSc6wH\n",
       "30P8Aw5kNTIibM40dQd4LldajTjhqDZbfB6KjejPt6asB3wlinDa9aH5KTulLZzoU3Io5vGISxry\n",
       "pJR/aVVhGKFrFXxcJoPziLYphAO1lGyZB28oU+C9V70jMWQdAAAAjQGeQGpCvxdB06QB6VQL2fjJ\n",
       "DhdqM9dhHkCc9iccAzkrARVbHiQGa4bpLLI5oDQGJjvheu/Juou8+s/yIUt+612V/s1Gl0ZxngFb\n",
       "61Gq8r8P3V0zYhc+/udNdpNf4eEHA6OTll2gificnT9I4kxtr/uT08St+6HIvlgEE2Z3MXb2KmZJ\n",
       "2YSufbwok8/IWAAAAOFBmkVJqEFsmUwIf//+qfzxWcAWs2VYAOEn07IwMKrDJb2gzeDrRtpgUvbP\n",
       "Q9c7QIIs/Kz4NGMS/qQrqjZmipUuMC0RF9wSIZd+Vo2U6YD21XGWRyuNjgc4M+Bjx19Lyd6NseeL\n",
       "uFSUNR3WjZ8IE5RqLKQPSQ2ZSSFtqH68TAW7DMuqKnmrCDhY/9a5Pub2851enQ6qyGqcIAnIhRXz\n",
       "c4JK65haS4mF/HkWPXDyJUtmn3qn6ryICXHwK1QLdHNdu+bf3monouv6WqavKNsA8qx9XVeNB9Jf\n",
       "mjVs3qPsoZDjI2EAAACHQZ5jRRUsM/8UVBSd0I4aicAQ+NravWFruYWirZXdJsbr3PCNb58NJOal\n",
       "K3MOOpVJsQfeTBI6+tLa+8go0Ix9RhUwXbNB95ef4H0KYYmIWUfH2k2y+qrVPHMVjvELpHAQI6RF\n",
       "2VdjMhvg/j8duC8iV7pBKGNIw4Ya0dYPEcLYwGkAUOX37AtqAAAAcQGegnRCvxcQjBbEhtwzh+Eo\n",
       "6YAvIIzj2OMGCGlrUO/FIYV5COUMYHls616OXuzY3rTJdnSyIcmPs/PMPmanusVolyfhlW0NoXWi\n",
       "qemJ5X2ulh31NmyLUj9vw/3jQKqhzp662xD2sTM9mLTPxUSOC3e1AAAAiQGehGpCvw1qvYLjG3St\n",
       "tJAHQkQN3jXk6KUvNVEIwLCW2vfgWdUzP1Z+k9wrS8kijEgPsVZUJL+Mf50wdgjw0uKzUeWnnwBe\n",
       "PzefoxfjZQbgifN18Lj11qBYTtv3BHRkXBUDR/EwXBulByWnw6U6pZMK/8+rjTa/YL3/++e73Cnm\n",
       "MSXTvEmUKMqBAAABBEGaiUmoQWyZTAh///6plgXj6dgA3YG63NsnUWsZrvjvQ3+EPpx1ztu241OY\n",
       "U71qGWysqsV+DAJqR3N6Ia/5Seazs/R/H32nW3kSRPKgLDE+vY+EDrrj3Q9iePpH990ddvDUJjT6\n",
       "DZJqzXortNVnDaNVejb27LLsZnm6bi8UO8AFMcaP4NPfq5YiY1SUfjaZemzQKrbPVOO3l+FqZODM\n",
       "MiIEAF3cj4wOrdv4Y0uvuuP8R+5TAlp/dAub4Wp3r49Im3tQKn0rBXRiVEEPQgI5J1wKrXFolydN\n",
       "bQdG+eW6Qr6FizSviFfk6+eOX03UynydyYFZVLzXJBWFAon0sVtG9i3j3WlBAAAAm0Gep0UVLDP/\n",
       "FGTY7LaqyVxdWeQBJe52AFgpVyskbr0BdPhISqZ6I4z89W6qafBifiFAN0+JZYxttebjs7S66P24\n",
       "R6LTfBKmS+gxRDf9Jfp1lV9wyeNL/OirytqRRDJ3hFLny6ws6pd2iwUVs+O9/8izCESoDIxZC3wN\n",
       "s8Ydati+gdS0y09Y/x6RnGZQ3SeeYqlrSY/H0Ky/LBHRAAAAfgGexnRCvwKP04LlwZ/MiAOYdsA9\n",
       "7tjHQnMFA10Dlq43Ycc5FbLJHl/nC/ZgaAeKA8+TSXpqDAcJ9zloEYN7oZ3sJdhCrk78+T4vlqDh\n",
       "1HdRiTASQxfcEZfYrLmn0Je2lrsOali2p0+C6jqjGFTiiE3s4gWguJCNxnAfnPgUkAAAAHkBnshq\n",
       "Qr8CkV1L9gE0nDXwH96dOARa2n/g4+Ltrin54kTcz2Sn1c0OQUU/PRq+3ZXulZpHwF7FsRI2+nVq\n",
       "o1w5Ax9KeJyRFz/zEsHAFFvuqzwmmyzAawxV1zB197SQvU3oETaqpwPDEaJ7/LKK4SZAtCoe6FuG\n",
       "mK8nAAAA5UGazUmoQWyZTAh///6plgXjtvMSVv8Ol7EgBO3xpnpT7EJvlX86uO1lqjytSXADMbdO\n",
       "GuT+wA6jSM+mLoIDfZUNhXBJi5LB6lJIy15l2ztC0muq6ZoPHvGdXgmmLjzJR3Sxxr08uN+NEwPs\n",
       "leLVRtta8uQALboywf73IZCvechK81MJBkbvN9ZDRxKgNWUw7XtFG9mG2JtfgsoVZ7M3UNPqmljU\n",
       "Ob7u0AaGtYWPuIH7PpNNKYQYLqW++TQiu6rOcXrxtbx6nuBox+CMOOYR0HUL2Tb2LW+fqNxP2b8i\n",
       "87AxTkL/sYEAAACoQZ7rRRUsM/8UZNemfDQQAvCNifby4UnHnCLPulrCnt/OeFN0rG1AZk28dASJ\n",
       "6wpMOj/SOodAtEA9OVqZa4zLuF2hjpYkGLoX4edpCJbMYrgTwJgVaBp86XoqZpTHLed1dUihBvCP\n",
       "0v28OpRMvuYUxR/vq4QlFgN8q44zXNP4A6Y5y9LKHR9kwfbLV8NyefOn2bMeYofwB2BARBUJxf48\n",
       "FbkNaThFpOeAAAAAkAGfCnRCvwKPzjoLfoAJ0GcRVUvvn3yQp96ALjGPy/i2w+kwrhCHwXk177Im\n",
       "l/sTvOIpEfm8uhsVYl1YMyS4GqZMBs0MhIAFWN2cS2dXM8e7KGAR6x02nu71SMmZ11Mgr7jbQ+9J\n",
       "YQbhpiVGYsFTueIzWA5SK1aZltMlW+5JYrGH5TzFV5JIwPzGNH40ELnlgAAAAJIBnwxqQr8CdVtJ\n",
       "0QBt+dGh3gvJ4NCn10i4B29CVGSKqPUCOKjQpxOC/nBu5Hmczl5VMma/WHt/urOA7NXgQ3aU4M7O\n",
       "R+sZTbbIVb1z2Svq2ASlUaDSaGgEOQTgO6tS0GbyFe/CioJV02uVwp+YzYP5jJdY4wLzrItssRDo\n",
       "YbDiMOqyGwpNOPFsf+FRA+iBbHO1gQAAAPxBmxFJqEFsmUwIf//+qZYEn3SqkpGx+RyAA6VtVDQI\n",
       "M/xDTG1hbrK8XKVkdk+XtlsoBjJQ0nRGRp9OFG68/Ea/HMjYlyO+06rplezqnHDRR+JPSqfWTt7o\n",
       "lqaaSgrlozR+qdXqmVVDoQxIlNDe0sEVwnt2MFdLOXS4Z3mR7JNaq0X0QDnM31Zou4pGdIBF2Esi\n",
       "4XoiL43k9R/nX23HFmEJmGHdZOm/mG8ikYPWPAyEzGAf+X1AvYEqescvww4h4NMWAjhfsnNyJWa5\n",
       "6ku4fxvMNpKi3Rmm3hjq6wEzgb6RG+JV/EINJAZR5h4fdAjFqZSM2Ng2903rNkUTiyEAAAC3QZ8v\n",
       "RRUsM/8UZNeo1OgE18lTaDJdpr43D4vnBaxvn9HhiMA9lA59RT3BurN2FIpUCScS1V93zV5cEMSn\n",
       "Ejf4ex0FIN0R0BiyS075xajwrpf+OHrmGjerplpl0M4XbdXoxb+pAUEODBBaRm9ITIKUMZUCqkO4\n",
       "m5Bh7KgzcWCDlTd2neYKqAPGBBeHiJGSTfCN4ZAsuPqvOorhoS3Bd+REjtkwZB49JFrT/PLn+4AC\n",
       "NZrAWSxx/lnBAAAAgQGfTnRCvwKRwa+iAHR7lJIe29tUueY9ALQ5Qw63XV+qoDTVDmryY5FF7wY/\n",
       "qxMqF8+VcqAER6YtViWi0UnFEEys1Rhkfa8O3Mi0pgyHBvpW6ozyQwLe/VY2f6Rd39jqyHYjkWMc\n",
       "SXNdgnBNlMcBPsJXtQms9mLWAij4d6LucJAE3AAAAKYBn1BqQr8ClD4gGpPYmc2F+dKAKoRPEH91\n",
       "KhRM7ezQa55S6f4yGELZs3aiX3xuC+qF/J1K1iZvbfZL6hMcl2Iasn2c3ni+BuazGhStsjtBQhE3\n",
       "pkvJUFfrzPGTXLPVyKTyu0sWOfk5rKzF9ZHZHMD3khw4ZUuUZVK8xUSDCGaitbWbVE99GddEIBhu\n",
       "VjoplV6Rckc+QBQDnl2VAzXRegc4/VMNTEzAAAABAUGbVUmoQWyZTAh3//6plgC9elQAMD7rLipk\n",
       "Cvn71ihh4ALWfPMMQVFDvLcdallVjoFSneYThgpOP8dZc1h+AA5owWeGxfUIF/O/AFf/wBXjbNrH\n",
       "f8gTOlj8J/4rqBdhKtl1B9TnaNwqMPwjq0kdHiLH6Z7E7uCoSD9nXrzpMDLVLJmavnISm7/vbEPo\n",
       "WPGWPaJeN/O4juTfnxTmodtNf4gZaw7Aexwl8qTphyVlbgJn7eMAfXbYP1YA/aX2O8qOnwPnwzC7\n",
       "r46KJafZmpZ1Z6FDj1EW4pS5Kz7N8DefzxL5WlrRD8dlCI5TKB0GMRPcpfeFCm1q3vaELAE9oKVz\n",
       "MMc/AAAAn0Gfc0UVLDP/FGTXrwuOkBayn4Av9uFYflD6dPDpOagYLtwmNeumZEcz2Qeff+J5cesP\n",
       "ZbSIuXTqa0Rs1EMwQuCZiJI535lbFQ5DISC5ZfnYIZ/HktJm6o/SACRen33uByA+O8M/53al15ww\n",
       "yrMRdv1f2eGLiU9uK4JBZcTlwV6HiP31/TkxYFJA3UqLOrqM7vLZOa2LQy6MpMwiAM2xdwAAAHAB\n",
       "n5J0Qr8CR8FcKoFDMiQCaOH8gm2sDy9k09WUp5BlCzmraPZux6ooVhXZenDyNGTnUh7owWEBoHoe\n",
       "PeU+69ays4mBueADt5Itq6SU99z7fS/PRkK55OmpQGZcZokPqriqppB+2v5abDlGOYjrY4a2AAAA\n",
       "kgGflGpCvwJIyoZq/FD3NzWIBq+cJ3F+8Qp/OCpWtnozOtVC5cEADluetZLN83ovHlhmYcNHluE/\n",
       "l9ggeGhVhOsBc4NLPW9AMKrJ7AdrieR0BkAl8mPaRZ3GaZzIojggF92fibd1uXyblLtIyoz3FKJO\n",
       "rNtyARcOSu9Zqb2zcVY5Yn4Pt3mFakiGfaKBFdwNhs3XAAAA3UGbmEmoQWyZTAh///6plgCU/MTX\n",
       "0+XpoLI2z4ViPp6gPT7+uI2MN7D7Z/d46T0q69tdxxtZSGZD2EnblCLw1qanU3Qfy53Mox2N3dLh\n",
       "TnJ6Lx63g57Q0AyeZUTwiebCJJabIij7t+A0Kb1q4cQLV2rZ0NUN3gXZ5SRXh9aoNu5b8KuHZTIq\n",
       "Sxk/yJBYAVEWzzmI3tz0i3VImwFT+hiWN1Lgl1pcjTcplRAF551c6kApMzP6RjlZw87QWb9lFrqc\n",
       "1BMCDENcA8qHXfRN9mvePye/ZfZaq+oKMWZw85iwAAAAn0GftkUVLC//AbLhgXOGB1mbwCXteRX1\n",
       "JXEyH7vknHIm2a8GAxWUcOAzef8Vo4u6o7x2odueD1H2SQ26BvsIHkOfO5LR7dv0NqJa9nzYb/Pt\n",
       "/ea+LflT90xYqneQ1rDmIGd/gwwKm79Ok6uqAQ1B3YwEne1a6stx0tp2VCZB/LG7ucOOFEWCxslg\n",
       "5UfrtJQtLfoDFlwBrJRihpq4Em2BwQAAAJgBn9dqQr8CSMpw6syJGBgFWEEv1E6weuhWd+g9/JgL\n",
       "YFRZp2gnZ80wxzowA5yBW9eOwROjTODr0pN9T68Sa6ULLjc0ncXVXR4yUnjqXKjpPc8NENWPvxev\n",
       "b+yqi6D5eIA2ddSrcLXK11DixG2ej+dqScyOGNFQmeWiiFRlVsinXy+xzs7F2fH01A6gSer7AOoi\n",
       "xfLHGxVKgQAAAPdBm9tJqEFsmUwIf//+qZYAWb4V2atAXCFKJi+z3FyOICfx5dndggfxWcknN6io\n",
       "z65wMcYom4OifMHuGknXoRD78k8HVlVrMhQfy44DfiNNJAtJ0D6gRuCuJ1YNxFNQ5xWgDarlwDqb\n",
       "fhf4ceAPPNeuB0tiLOyb8g4wKs9JjUQBHnXRA4YyR8Hz/32qRPR/qmvtnCIo+K/u4uDIw1nTYnzK\n",
       "44f5lJ+F91a0oX/N3ugI0Yeasem8KNJXQqAJkD6gSlJth1XFvQEh4t8sWnBJoTY1awmJxJuw643h\n",
       "c7xZY7Ew8tEbPsjBRlV4nZiQ/dLzTy45ZZFsv/dwAAAAokGf+UUVLC//AbLhfk/QTJGeBUZtU09d\n",
       "AJM3xUGW3rsrShVy3riGd+pBYrXsPXXm07Q+zQ/2P0lJs+cStGmXI7GKXGMooKq6saoNSY888uXp\n",
       "mp+ae7yOFPajKPF3Iu96JMxJxZyRYZCLXfE1tfq3PXU/QuJWgloS6LtpZgqFglhdAEdZx+uXANM/\n",
       "ZS5uMvLudmvlaweH0lnU5ow6FrWSN5LIYQAAAMABnhpqQr8CSMplt8eAaNQz5ZK9M6SD94LBAwMd\n",
       "if5vr1+qEhtN5asCjLVuwJe7yEMiINbu6YQDZgFi40EnZSCoz9+Ug15ijR8S/T3Y+yb3DqO9zjTA\n",
       "HIij7B8+QQOFMhsBAGetnImYeGwynpSCLRkdTHmT5/CuUFOzcF0iQ4hAFRBgRuK7iKfeR7GS2ths\n",
       "BSIs5m6o0u6KV9qk6/CZuB+4UaBK9+LYpKzpbkKdcmj8PDX9A0xGyMbtD7eHFUBDzCAAAAEYQZof\n",
       "SahBbJlMCH///qmWAC7dyXQAjK2q0vSBZb6U18v5NCK6zq/y3QHGmr1EGs87YZOGAMz7Diial6ug\n",
       "stq70Rzht+NV7U2BRHDRs+1SmRYjMEdSGXus1YSE9jJl48SYckAgEXacYsIh1v9YoTuOJHkZ+Wnz\n",
       "nxuw6BvshrGVgR/7Ds91hFFu49sXidMHV2/F8BEK4bAAi6MnRKSf/9C1bYPc5FtkHMz0mhDqXCbY\n",
       "Pb3+61m7zk0K9jrUC6/9G6ibks1hCVBxV8GnKrMfv1N/b1dk7M9248dx96lGGTaL9D6JgO50Ppd7\n",
       "OzIYbl0dQf5BqNEVqLPGdF2y4i0mh+5FgK2dDNnrsVXxrmGgLDK35iqqgwPKxKuReQAAAKpBnj1F\n",
       "FSwz/wFCrvEghqIyoJZayqy4kARkfcfQIH+8bGx97KEbUsrguqiMpckmOLaVIAb9z33f5HIFVnE2\n",
       "Fo/f1RrcpOa5nVpf4qR+l2WVPz+rrnwrPoCVzk0Mt1AC/2SzdQnUOjnt/lf5x1W0HeCJTNs/ppsh\n",
       "J5wrjx2NenVgYYwh3PudmkVU9Lf0OT04cu63A4E2ZuxHGo4Il8YgTMViQr0yy0szPs+VMQAAAHcB\n",
       "nlx0Qr8CR8BlEmkxEjJ+QA5/eVm0B7X/Q7tnJAnAjQ1zMWTcFXmG7gqj4qiYeIaSN5kAQ0c3be9V\n",
       "GuFOgr+rxyCRuFLNSFbm4Ns7qGjTDeow9zIaF67ACw9z6JnkZQAG3l60tH8sU/nwYYcCGLt2l/DV\n",
       "HHHg/QAAAK0Bnl5qQr8CSMplGi1dvWFsAUAXMuNSfqPatpO0EtMtx/6EdzBmGoBZvhMfMZqF7q/s\n",
       "lR8JxyyPgjV/ONep7DBat5+xv/p6BBp3MuQLpcFOLuLxPnnZ5YqODREc7R6ky92XzYhoqCxpMPck\n",
       "1MBfcaWgdNvShexWlfbb0WlWlxmoeHS8wAIi4pwiwXQNPebP8FNKLXjOTGmCE+slt5lBLfAXoqT2\n",
       "0YJhw6hkWRksoAAAAOBBmkJJqEFsmUwIf//+qZYALx8KZW7oWfY8JMe528AUnQ0NIQvQu79qTmnZ\n",
       "uksb9NGztttZ+pP0vAlXWCcYjjT2a4zFd8CzX37m5n1FLjqOL0BTfERN/8aHYHKjdfEsIZ/kU/jG\n",
       "h+NDT9np989OGyREBfSVpT8xlwN+2ISAhchZjYYZrEilW+nZ9VtDzToWHHUF18AQPvYi0T4DsFAa\n",
       "6sKMyhtJNIcIwIRVtY2vVjGAxK08haHGhc6CGVA97XApkl4nOQDedFNNoWT5CM54kPosBOVMJFcf\n",
       "zskCjkchOoxkCwAAAKpBnmBFFSwv/wGy4X5P5Z2VxCp4Tv09idh4ALBK72FlYeWqDcdUsEZj2DII\n",
       "Wr/NMb14SgGSgE5M6Be04ACUhCpRZuhfllUrXpGJswNOGD56NzVpyMh6l5j0SZuaGgryG3z53lBi\n",
       "3kksETaixRukhucXWCupa9iDPU354Z3B0QiIY1g30vlryxJ3eZm/2G+/o6+DyVahyPC51TaNFm3/\n",
       "l6JBUgWsi8Q7oZiTOQAAAIQBnoFqQr8CSMplGizmHLSA/0BQzSmDvauhDNPACLG8OpBNLuZ046b+\n",
       "TjfQ+iO2Iec5VnS5tN9bNLr1fG0ktpAfCVHiHBeWH2EcfKRlVT/XZ0Fh657GdmmE1qgDJiYuT3Vn\n",
       "mWEAHjgUOIpJoTnoIBQy5VVnY+zkti3i0lIBv0lWB0qkWIsAAAElQZqGSahBbJlMCH///qmWACM/\n",
       "MTYvfjW+F2K7p+V9gEGhYNlcpwaBzoI8EwIjP7Krx7lcFvPNcSVs8Ty8MdhwfcfLfl1FKCiR1f7g\n",
       "rr/S9TnyLjlciNbjliTAaS8NST7ZVT44fN56EIuiC9Cfog0OgFULRe8oGW0qgijNQ6eHGXatqKaB\n",
       "FlCUEIPU+DneZ8aYj/+tAcAX2nniwvMki7fvIK5rSKWB3qLevsHQjJpAWK3vc3YxVKsP6a7/EqbS\n",
       "pfe046hFmdsxAYM7dDXArTK8XIdrUfMrkbakqf2KuIqui+Nb9jcUWiao4aPkJWv7BHWqQCIBwiq4\n",
       "NKh9EXADOFHgxDSg1OUMc0nC4DIBDJzuCVerMU0+Mjpp1oxy3lmyvxc8DCRfoz8AAAClQZ6kRRUs\n",
       "M/8BQq7xJ8nDIncBfTllgAqWGB1AM30MokRtAfzDmfKOwetm4tQEHLeX6DlNEypsqsxNyCBMCtAv\n",
       "FPhg2BhN1EzTeWgDNaYCkEwD/OJefdeYUXxF/iwwfDVEofmifv63XoAskWXx5n3DMDq70Lrwb01J\n",
       "CnGbFk9otZFiTdmRiMtnGi65DRiOb1lZ2QW+E24frdl4SjhMK5N4nxuidPMPAAAAoQGew3RCvwJH\n",
       "wGUSaHNzH2+kAUGDnEVBZGF4HZMIE/h5U4rnisOa9w56dNbxXhTE8BgsupCG6TD90rXQtihBmWnZ\n",
       "GOZrGbU/FLzQ8K8r9TqlvxYGjRPe97RzdSPcMygWkRtWOFW29Aj2mJss6P769rwwoo7cF6EiWKn3\n",
       "SK53PB98J0rhl3zLcZbEAruKQOeTFTQudSAP9ouvUvjJMjk5IVQhAAAAcQGexWpCvwJIymUaK5+g\n",
       "aAaNY7VdzYhHov+Z+5v7FupLMJRBKGAzfkelDzoh6/bbOR0LFBhTe+HU2Q8H5xNvJMrZFuOpwABr\n",
       "D5/H74ZxDE3LC/J9MyO6klfdrK6EeovOUC7h9XrvHDrbPgDwDQRIkbqhAAAA9EGaykmoQWyZTAh/\n",
       "//6plgAULnnldDHcqvBJiQA2q5hEEHpp9ftWZLX2+AfLSpJRL67lLcIIkRUWz8MNthBGnqKlfn6a\n",
       "DCBu7TABpBMVtj8C8wCdgkL8blPapNWYB/OoGHJZFKQBJpUCDrsTwPn5yolunBcC40zz9thdtpXy\n",
       "aOe0fRNLYN6z3JOTbGGvVmee4tZkwwxyut1vcoUnNarDMHyiGVDybVwe2/JtnNTxPEhCNIxLBEBR\n",
       "WMQ2Dz+z8a5ToYmOhd8yRgVf+es24N32Ada+ibujhPVKgpSds4a28LF5J/RVvOBXDoyYACUp6YH/\n",
       "0co542EAAACKQZ7oRRUsM/8BQq7xJ8nDInRSaHpXEMiGbYHLlADoaSLdonqz7jZvEXSq3JqjpueA\n",
       "Qk0vI8tgsxEVwNy/E2mWydycWnmRV6L0qs7ynz19DgsfGQ3Bsz4FxohQu5yS8tD+YZkurGhm+BFm\n",
       "KQBGe4s8N6X44EnyBGjN1RQSe0wrjbV8BxqhEDkpagSkAAAAgAGfB3RCvwJHwGUSZyI9i9TJLPUj\n",
       "zTGAKZKhyA6/JFANRkv2L4jgmVri4EJPmpj8sqmrl8THkxmVMFKkOqJs2oKhpmaLvTBFrEs7vEPv\n",
       "SP4ThKsdd/9FkszBucl+SD8Pgnm8j8wRrk7y2YVuDDQZ5+PVE5DIQmCFXu95O4DGQ92AAAAAfQGf\n",
       "CWpCvwJIymUaK24C/7NoPYypMb0NJpkg/JtAFh86HpJCQ5Zne02PSQ1VancfGHugyDMjoMBXaSFX\n",
       "ff+/SuXl0l6YwYzIoD3BiNJUyHn6BpCe80Mbg7qY/mbSBgXwyp8yrhfQTu3l3R52L1PEY7UpGOrX\n",
       "vmPPUuGHOu2tAAAA70GbDkmoQWyZTAh///6plgALN8K2qKZ8n5QhhzfHX24KWJ3fZoCimqBx3C2V\n",
       "mCTOFeNc0oxEFqZbCCeSEbQsbX8OMMzSxGnCaqAL6jmLWMdHyFwm00GZkT8kYhhEL1co7pQ8eSMq\n",
       "7Mon14+WyNU5sylo4M5u1OFWIsHNfzs94hHfJV7NfHCXtQGH1Py7TTfX2Q/ZITSTcWh9LvkbMfA5\n",
       "BUsxBBK08W0eIJKhQMrOjdz+ytyG/m7q0iIajRB232fA0N4vEPhEY9vQwRg5wCDgbXLBUUe0/ZRM\n",
       "S5ngAQdKVwkB5rVhq0NbLKBDlTR5rhvAAAAAqkGfLEUVLDP/AUKu8SfJwyJ0LFfcnah3Glk95I2f\n",
       "HDdrJ29utAYc+IdEbACW0RZwT0aniVn7qU3LyHgV6R3n81hWdU+ZmG68MxbXGivuC8JEbQ43qscD\n",
       "6shMPJrQ87olz5tSQihEZHHhjIto9pM5vUP8bO9QXqBPwFSljbJllBoWuljXW4sDgzuzJUsberir\n",
       "A5J4pO4XpsigmO3Wnemi0QoWBjY1guPDS3o4AAAAWgGfS3RCvwJHwGUSZw25WjFtAAxiWcCawVZH\n",
       "wGE/lEDYwIz8JSrrOdojoSV2YvId8DopI6z0G66v5wYhaj2UOe6I5vEMazh/uItkvKvTWXgcXXBA\n",
       "hfkajy98fwAAAGMBn01qQr8CSMplGitclceGOAaFZmj5CvIjXOa4MHgHqndCWZRhRYdaRIcGbVcB\n",
       "+izyj4BLBDtZHBkIxggdYw5jpb4ngY0nUUkPYhz2ZyM8QKPw/XKlnLwf+AnQ/z94sR92c/kAAADq\n",
       "QZtSSahBbJlMCH///qmWAAoXPPK6GO3tUNdEpoAJVKV5vQ1Xka6o453PYVz2ArQ0ao0O1KV9SnNI\n",
       "sXVz15g1ASU2N11MdjhwcquE/rgjYbnXB50tqrHy1FB/LMwL4yifTtP/Jc6wsgJyrZ2S/gsc7gDT\n",
       "TFSjwyUVVaq1F0iYACFPur+F0iDYxNFF/KwCZGCEdB68VhqVNPMBui8e0zzvVP1sFvLvZrP7hT03\n",
       "cHlSaaF55kNiryQJXrRP3a49r+vEjDIHcOQUMTrK5EXN38z7RLAFfZu/iFZQqdYtzGh+Kk/zoD67\n",
       "mSioKrdBAAAApkGfcEUVLDP/AUKu8SfJwyJ0LFezRDw/ipvv5O1Z61AJyUTeM4VAVDv+G0N8Eb5a\n",
       "rHDW+uqzE8rhrAFh3typLc1t0Y6m73lK1DBre1HexCGBLpq6CqY/Jfgy5s8QWftxSoGw1xDck7b7\n",
       "mZZuPCdtJvgFmV9+WrT9PCCHRAWEiuS4GIemLO2T9GxXWr0kB41jO0Vy0biXoWIXPFLYQADobEYI\n",
       "JAsgtIAAAABnAZ+PdEK/AkfAZRJnDbkl8xxq++9iyqFzYQ1KqwNkR/VWzjlFz2yhTpbaLjj8HUng\n",
       "Cm5Ded0U3x9WY+DzpxsCj6bspkShW5+8fZjCoRgvZ96HOmvwrbM3Zp4C9CFVIUukhw1aO0MbGgAA\n",
       "AF4Bn5FqQr8CSMplGitclULUwUFxVPjisVR6/yJgBaOkQsNQ1bLrIGBfnRtp/cfObHp8inEM4pJ1\n",
       "FetI8qxglku+NbhyK4Mmp0sWQPVdMEiKCD2Z1cww92zPIOkZgCSBAAAA1UGblUmoQWyZTAh///6p\n",
       "lgAFd4W/CH1iABco2Co8wsdmkHd06/pZj16KkDXo0B6Gb6gmdM/D/3+S2Bnl75+x6MEPnjI8EBHy\n",
       "XRWSDkG4DW6S5Ly2HMhuNiL+GpIpM9Z811Ks7juojtmIZbaDKw62HafEDXDoiW8y0oweRYr8T1Jk\n",
       "9s387bWZpFgzBoe3RYzqcUrpDQ6NF7hkkltFaVlLMLrMkgwuBmjnBSJovwzZJ5udvxX6wkgs2FFZ\n",
       "tuMtB71TvYqXnyoxrxfpWJi6e1TOaUe8CCN3QQAAAIlBn7NFFSwv/wGy4X5P5aFJ/r/g62ZpslsA\n",
       "VbhOaDnsiyvd/rPzbrzpDatrFt2m9bEoQJvVvMZUntiHu8OKhJ0UqnnoE9YeJrOBanxxpUaa/MiO\n",
       "GI4DnGDRcruYv4nafVv63vhldX2SxUVfzVzqXA81pfEdNrZbBqv+uXRSJHHKccoiaZ3VdTM/DwAA\n",
       "AG4Bn9RqQr8CSMplGitclULSrofXig+2UaAOJjuSSOWxlnAFIBGH9i8ubOQeFkwgParQ/LJSpuTv\n",
       "yF5Oj+gdSZ4On3j6XyjBROSGBVm+n6QWwjwtgd9vjy2lyLn0BGbKwQshI0gHLDrBkrUEhnjBrwAA\n",
       "AO9Bm9lJqEFsmUwIf//+qZYABXfhW14OXdNBI2yp6OaLMpolS9AC/Aw8+SzVRLaCXebo5RG4VbDl\n",
       "cEthN+RwtBxqclrhH2vthmvzBO25L9C34XPEhpmzqt/8A/h8vAVutPELLo9bj3qMOS5McmCUR/fx\n",
       "BA7TNt1ltd8ZFIeXUYXTNlzRjJOyo88MPm1mlrs9x2LjPyuhRvSEH5ocGkXvSnNFwYVv6F9nJVAM\n",
       "ZiZPKybiSZYt9rBtoNfmhUZUb8HXFQzBfTtreu289xczrHE9DyVnowt7JNNXfQzq0usgaHrsVeAV\n",
       "LzGgvThjULdJPvL6gAAAAKJBn/dFFSwz/wFCrvEnycMidCxXXyQGAOYThWMpZZmcvhslEY2pCzQy\n",
       "LfWn8HxOW+5/KebbzXUw2aUd3tdduKRCPcgK3vizMszFG/37FtXi6qb/Ch21ucJQa/KWw3JUzmg8\n",
       "rsYxS5zLt1JRqc4lYT6clvLqSWQAr0d/Xvm+LICJWjxqhdS7AtL3gRYhgjt/1A9EJ8U7HgMN+eOy\n",
       "Sj5Wxe9t2MEAAACdAZ4WdEK/AkfAZRJnDbjN/2vCskAgeoPLke0xtVQcygUpheRmy5ait7eybBRP\n",
       "iW62MELIoNelJjBJ1d816JNRsEVSKGtEGfym7zWRqIgNP7eXcyNx72Q1bPIQc45swXX7yBZsj8QV\n",
       "wAMBpBHPsciZdqEHXjBM9/HpGHx0/IPwIU7Abb9h1V6SN5CkJSb1HuSNe7Vp2TwD0i/qo7MHIQAA\n",
       "AIoBnhhqQr8CSMplGitclUHDSvsGBIuV/W4u0QqbYA5X/s26Iwsh3gHe7QDg6NRmDHIOOkUr2kFV\n",
       "5wgTRuXg9ybByMCnNo/9p7Hcx9nNvrakm6LfA/3N9fHJqCol9Z3UoEbiEO7mkI/Jc2pFaulQTuYg\n",
       "0l9/JcJLK4CADAHwfudMUwaNgsJBzSeL/M4AAADvQZodSahBbJlMCHf//qmWAAUvnnkZrdqPbdgk\n",
       "m+AAtNgtfAveiKciKuveRoVj1G7Zkj7TLgBRCCoFUE9PjuzczeBqhkIn7ofRHNhCBeEuYGYuOPiI\n",
       "ewujQWaQUwnOT1W3ETDZCBbrLMx2PXk9Gxhoud5iJOxjoR/1tYJGL8tFWvATbp36ae5ywR8oiPW0\n",
       "+eE+u23rgEwtWLpy06XqA6HOIXO878s8dINl4gDn62kW4BAbrWDh8IMvz1xOqW6UTY1U+8F1UsJi\n",
       "nyd7isqheXduP9y/yqau+irbpZBPJW+kfPbFwPaq2vhDa0JpNLKSKYEAAACgQZ47RRUsM/8BQq7x\n",
       "J8nDInQsV15FDd3pn+HgB0DIDateZrS97aIGTe0FkfEMlfmAHkfJjuES1GRI6B+rv+H4D9bMybSU\n",
       "Y+lVSTzpznwBXAXlSArFnymgaekIUpkHudylxd/NPpZ6klk9PXVBbatJc9AB9O3I495q4rxgtnAd\n",
       "e+L8VUPW/axj1bTcGmhyNSKSqrXvZ3klq1nGLe+0+9AhoAAAAJABnlp0Qr8CR8BlEmcNuM7RRcfm\n",
       "xIACQQ+qVCe38gfyOOXQfvZkbkKsJ9eDB7VsdFYNt6NgAcC5XUY9oUPmsg6M4sHSnVb1W1k7SMH6\n",
       "s//1kmqtpWoRk8iDNTHwiGW3qFArTM9vOFsKdPalWi5f9UlNJt+L1QbVseveqNui/gJnk2nJeUcj\n",
       "Wg4egUNWJDy+nn0AAAB/AZ5cakK/AkjKZRorXJVC08TJct+pAJAu154rTpYb5OIgBHg6iL7Gddo4\n",
       "AxyZ90ggpE+jHSxD7kqndP6NrzJlRtMUNluK/qmDifr4i23Qs0hLzrMrGvwIatjVla+ULycH/VDB\n",
       "3gS08nUc/Q06jsryjQ9an+trudJwv9LFycBT8QAAAQRBmkFJqEFsmUwId//+qZYAAqnwBllNY1+0\n",
       "AXOdiBZzSEhK7L8ksv59AFGdR9q9uHZ0J1LQqvzZEfRo0jY7Si+0KUk18keSlGUrsUQm5f0xtSoW\n",
       "s0rxaM1vqt3k2GwoUouMGOrsaFXj+YSzxIrGzS3egYKRM9sMm5QRjVAt3k0yWC5FUqUA9+eoxXdP\n",
       "/v/oy3AopoazXtRHRqUHuZf2/bcW5AUAjDy+iC0Vzm9vqdNubG5EEPhOdYy7Xi7y69wq6+twuFhW\n",
       "JoJEVQ4coj/h9K4BMbBOL8E4PbhArez9k8UKVU8Y+LIBG3GRlNhSA3PX2jOeKWfaaplGtv6lqIcY\n",
       "oEoAVYuTSwAAAKFBnn9FFSwz/wFCrvEnycMidCxXXoAtOTJAETH2SeZKUYJ/VoDlO4UC9iDVDwmN\n",
       "CM8zwAWZgl6x6YX8EKxv5ylEvbEGdikHm/GC1FcEg2fTOHnRVAEJRxEggLTfT6T856VzG6NP17Nc\n",
       "rzw5hvAWwP2lerF3x8yrBZz6ntjYJXvcBh/tadQr6/2qwACHCGFv9tIRRp7CuPXTT7tMgMtb4Hl6\n",
       "QAAAAKABnp50Qr8CR8BlEmcNuM7PidwlJLp9M7tfAESjmXg0Ps8AppIdcm8QLl7/x9WBu1uzDVpw\n",
       "Mt+txbTlmRRVd28NZ9q/nrVxiVpL/fpoWQNxEhihmlGmnn/X8zdNKt2pyqpBLoqKjpv2+ji1dATE\n",
       "cq2s4s1oltFWmstsdcx3rjTRjbj06/fe5sI8zkFgvicVw5Rq7OxJI9QDkkxomNuwn8wxAAAAfQGe\n",
       "gGpCvwJIymUaK1yVQtOAQHQB0Cv3CnD7WiF8hzt/G5JAGK8YG1ruZ3BkrnDnGp4GoX/8+76wTqE+\n",
       "2jzOHKmsV8dd3JhruzJBdGxMHPRI39QsGNl4KlRX7xA1iRUcwtWr+ZBcCYvY2zKsInbXOU2JF8N+\n",
       "gYc1Q23Z3eNgAAABCkGagkmoQWyZTAh///6plgACk/SSYQBXqDuJM5YZrJ0jMLz6BEARdtKmNAyH\n",
       "vpUDOdprGgow/c/2GKvey9trKt5hoAJX+TO1naAOBixTUex8tQi6oh8Vh9/LD/2Ol2+p5ZEdNHKf\n",
       "3+sv4Nk2KJvRbQTl5qpMgci93kE+9DAn7VO6WbsHrk8aDYjgk5vMtt81nTUftw9NVG6X5psrD2MP\n",
       "JxpVrX0A8FsBqgw5Ao7CkWYEZx248eKKV2v0nZ70vkX1pz+0n4uEXIEQdFMte7OCDTXlJrwIfFaq\n",
       "Qfl6oyHabNaqDRsKJt4AdmlMlP6N4jl4V0Qy2trAsUQME6Ouo4F3hwUDXHPxclzempWXAAABHUGa\n",
       "pknhClJlMCH//qmWAAKTwe44poGLaudv/GZSoQbhAIXUjlw0WiGujP5gKq06H7cByqt9rwl+3R/r\n",
       "+m3KdEui+mdpPcEIhHABausERC/LeITFPjZtykg7k/mCLYXkC90g1NUT2l5ICV9nvl47uQsxLm52\n",
       "3cLlxBO5wQ5uo8wYk46OsVe+3RtDdfL4QaihJwx5Fds/1JJ51QcIArHSabM0kAqV1SmGswYHniLV\n",
       "T5T/lJdJ6cYpmkbI3QvGYTpaOUz5NLLoxMUVjttIYTQMUsAa2FACjfgU/iUinvjWYAW8jq1lAiCG\n",
       "wU63IpKFj8SlX4l6p5KpS0oMcPVmshBcdtKelljGVrnZsRqB4akk/Am6m09x5118NaaT/LQlMAAA\n",
       "ALxBnsRFNEwz/wFCkFtfTJovGhX6o0A5SryWV1hSyUs2+c7/4VO2tACPepFrPnbe6E3/oQLSkrj6\n",
       "A8SP7Jlobj744d6zfxmhRnfJ7QfnrW3MgH4srNqpp6DJUAHFVUs8vj/MQEbuNSiuqtnc5hi/e0UO\n",
       "Wneo4fnSMVl4SsIdwybvrfRPhhzoXvAaCe68Qrr1jMR6mWC8eTvD8fL+jWtu1V3u1QQ7GH92Qd8o\n",
       "ijqFwJseMVUh33n6SAB9QM6B0wAAAIQBnuN0Qr8CR8BlEmcNuM7Pj+PH7brwb9OKrboAtrovqAnW\n",
       "vikLWwoZ7MOvhQTMAie7P+gzVjPtglgDeSoCYMWXtjyKA1rUOlvv0cw7ryT0q9cA8fl64o0Pd44x\n",
       "ZfupA2qk8ZaMmOdN0T/fnO4i4WgWjXHRixgmYkfRFuHb6SHi38mDdWUAAAB7AZ7lakK/AkjKZRor\n",
       "XJVC073uDZHPhqqPBZMQAIPPQ3X3W24g+Otk3CONbzoxCZqpoLuAdtdG1Rava688ddCTgyeoIid3\n",
       "iuN0sCzFdHQtijya8oi1zkT5JlQoWsjJiFzm78Py0t/OZ+GuWyyyK6FGF3GpYu3gskmcUG9NAAAB\n",
       "DEGa6kmoQWiZTAh///6plgACl888roY5ZNkpEwl9xNAAPjC/2fKfBS0dBdm2ieR2MprDBdT1Mt6u\n",
       "2ePZa/thN/Qhp2cB+0ol7fxcHBpWV8IbNkQ4Xbrmy9Qf4UCQI42k4TvBlV9MfS40gwx06e4Fn2e1\n",
       "3Asnb2cv1AzxCUQImGHWUnVZ66W6K1HLmeKOdOX6vWKzh8ja+uw8VT8bzF4dZbnt3t8Ma14CgKiz\n",
       "h6YVR+1tMpKwder7CVSI7skOCamfKZD5wvRgk3tRcgY5S2oEyRKRH/shPd6bnrAdlp6/AHKQk1k8\n",
       "a4Y32U1zS/o/DddGkzhyhj82A58jl9+xfljGOH8qFWAUp0CubaWwG1kAAACrQZ8IRREsM/8BQq7x\n",
       "J8nDInQsV16AKspnXhr6Xwzd5JADg8bqoUnKHYuX+1FjGdbSbBZIMvzQ4hNMLjxediWBEN8KhGQp\n",
       "+aNYiccpTb11yvXSiy5Q1JWbJXLMMctQKj40x2wKqywKhxqiQxDXezoXppJ0Pc2e0ckeJJm7OLQR\n",
       "dGFtDBigQUNeHZfkp6CKT95Su4qhCs+1gTHAsG4EYexxgZ2L7vKSFlxd6GxAAAAAhgGfJ3RCvwJH\n",
       "wGUSZw24zs+ITz8FOud6kvZxwKWSjzZCxb1YDFxp8WjaD3hlscdKIp5gPD/v1Bl2g4k+BOONk+R5\n",
       "LdGAcwds18ctsqDRl+A5WNq1earFQOyYeAmRaYoe4A/2J7lPscQM9h6uYT6s8xnoxRpRB+oMY9Ew\n",
       "BCDU/PK2g08764aWAAAAiwGfKWpCvwJIymUaK1yVQtO/YMU6qQSrf9iNAGYhyiT1P/ZwL7YbhEGq\n",
       "RGEzI8g2/A0J5KAUwGgyc/pals7uV9/oNHHeEIyJkvDxJPWumj6v/9ur84Tmg8RDJMAEYk26JGXK\n",
       "jLIFGqMqJU0glLfVKpEK1AZ9lpz4Y+3aZmjrUDciauXBdy6PUCBDIkEAAAEWQZsuSahBbJlMCH//\n",
       "/qmWAAFd+FbX3js7HR32a7Rdh2IkxTTCruNsIdiCB4Q7nv1tbYvYL0yk6PN+m62vRz+nAZ9bieEG\n",
       "kVc3LWG0Vxmf9AaFGod8U3s/mXKLFhF/9kF/N9HyEZSF58hpnNBDt1Mr5/1rzhGX/Zc16SOYrKWv\n",
       "881uy0mCc+RXK3uYFZupYWPCgHwZn6pQH9wDMMy53WImifStDB0lpDYy5IrwPf7H1v7DgzSMHPNE\n",
       "RBg5fuahx3771UiizrqjWbWpz56CT0mrrrpzSeOKA6pEif5xwvSo0VJpCqh0O4eSWyWXBFk8PICR\n",
       "s7uVSW0j9LJd7URG4MZDXnI8seUFnWAZln2LNtD0ZJTevHDLUr4AAACSQZ9MRRUsM/8BQq7xJ8nD\n",
       "InQsV16AGM4FSANKCh3kgwEpe6Bjcl3m5Yn3EQpMLRaOGtYB35HpRiNS2R53+m1tRCAHlXrg7XNq\n",
       "DsUpzw/G+Wx1z8ktJbYapckI3fgUj+D90Qvhu/zxHbFv4gkZww1fhk8NVMdoS7TeyDz1N73uvk1r\n",
       "SmfbSWpYHb8XlthU8UFXquAAAACLAZ9rdEK/AkfAZRJnDbjOz5CnvEycZ7WAxCP8wCB55pvBAcyc\n",
       "5dXDK93gcofhoBPkl4ewzhtVqTRz0wP/LqOvnluwxlTS/tBLwHtYx3nduzk8jugXzboPLaQ43z7R\n",
       "u0dunvTCbNNi4qNibB5MfCxS7eBYe+UMwAA0xCJIXcrw+zTYhLyAleGG+V/1cQAAAJEBn21qQr8C\n",
       "SMplGitclULTxMleFRsEt92z7EAK5oRDu3LOTFvfpwL8ZK/fWhKZ/YlRPRVi8jV8Y/lliFwTWaLP\n",
       "IL3IpNAoIepgkiKaRNuKmmI03mK+o/hO4khaZGfgIe9DFmywGaAGWr2LmAfuMLQHjb4zZoCSBthJ\n",
       "dqS8tuXSW5taE5WOq3bYZ14Q4nPsKUVBAAABJEGbckmoQWyZTAh///6plgABSbdKVdhsKAd6wfcA\n",
       "Is8n+//26B6xYcrFQlPOj5CrMhlOvEsIM+QnNf/c9zpxpM3piayGlDdKogZI8OGktuApUGV+y02n\n",
       "3AxSpc3vmMUSYLvzjjk7O4VB9IGd4foPSirapUbels9qVp8f8fu7cPUWsLswxom4jbjFRrdROtXp\n",
       "QHDipaP//N0Gdy9wFz0BwPyrwhnPRPFy/DJWRRbevIvqLX26TMN7H2Cj9/RRscvSMaMfg/g1cf79\n",
       "2mPyae2HUEQIAnbvbf1WR3MRtqwhVgFNVZlSrAsHLX64IQCSDNxtUd2WNWZO6OB1VXYqW19tLvYw\n",
       "NA/5ANKkvQxwmBkLh9lkv/xu+HWhzsD9jLUiT1ns7dYXlmEAAACOQZ+QRRUsM/8BQq7xJ8nDInQs\n",
       "V16AFl3GVYOtptajfteCwAukEAOQr4mlj/Y7O4HCzZefEx9JmgyRChABNrMo8Gc/KnEV2nR0p/gg\n",
       "ezBecKHRc3dwyDQpf2dInSmd7AtcP2+qnPhpAN1NSVDVcLQBIRFrWhB/dWDr2hWHtsdHOOTL42BH\n",
       "78eOeQDXvTgK6AAAAHsBn690Qr8CR8BlEmcNuM7PUBv2/SnMuS8NtZgDoFyzW7yQbnIwvlAsHvh/\n",
       "SYCATocUDdgf3o5IjI2Ivbvl/Yako6kwiwHASwIUk3PdCeeWRJYRPD9fntyESjSJ5gtZQAXYK0UO\n",
       "x7jh2MXgKGZQhNe0AKmuITWAzZeBOoAAAABwAZ+xakK/AkjKZRorXJVC05/nKIdsvXAt8/MAR2qI\n",
       "luSePGk8mHPTqQycu5BlmEt5Q8ArSuxe3OGKYgoX9vlcVu6Hfz2nc925sEOWo3XhtRioDTu5wTXh\n",
       "MtVK9SvNazgBduSSgzM4TlmDt4xkbuFAIQAAAUBBm7ZJqEFsmUwIf//+qZYAAV3hby4hJFAAnW08\n",
       "FoqISJ5xlb4cgO/TyxWUc+nkZlUQt/GTeq8Do9GNX37ndwH4j5BFgrLo9l6NL53DM9tDnrWPOTle\n",
       "o5DUwiHdtUnQ+QW/i/00Q7SU/PXCgz1bvRjRpJUGV/76NWwTIji8oPtGdPD9T07MBWmJoI8Fp+zg\n",
       "dAXDvRZzJNvk7QAfrk661oeujYUfa7sDFElaLaHDxbU7JmBQ7msb98ELxZyjx6tElg5lK50L1jHv\n",
       "i37qYItbwpgum9vLLI6vNpNF+BBGUrCFxuR0XEFmPGfElR+xcGh0Ahy9jq01sq6ZSYVfB/5CPlKl\n",
       "0kHUDlvK0wcatbivoa7BZ1DZTu6e/Odo7WrjsS3U+qjs8Q4vsi+2GJT2GKZ8yrwh8/wJxPIxFqPd\n",
       "culSYmpjgAAAAIxBn9RFFSwz/wFCrvEnycMidCxXXoAXjg/n4ADbXVX6a3rej47Xc/lT6d2sZApU\n",
       "S5BuRE6dIPLMSGSl7vgcgBkUrc7Bh7aLM/2k28vVYFUeBuWkm/sbblFrLQxt4B1FnNC40lasS/xj\n",
       "l514cadH5c6JZEZC6Xb1Fmfe19yioPZrRERi2L+u3oIXA5gQ0AAAAIoBn/N0Qr8CR8BlEmcNuM7P\n",
       "gIDmXLEAK4rGotNwxW495ob2IqCSVqOG8P2asJuIEgVkNzCTKYUKtQ3NMtJZ93h/ky04EWbCzwaf\n",
       "LrHCqUlT2v6EplIygCXVT/4v8jeK36qJ9Poa6VpCksXZgWTkW9+EpbqojnOCoaP3XET72pOaRdfP\n",
       "9gTmxltDxcEAAACVAZ/1akK/AkjKZRorXJVC07sXIcasc/D2rgA6BcC1j37pia2uYxPL+qNcv+So\n",
       "rHWKqZf2VGDxkZd0EvgXq1IniQjKG3+lZst+Z2507VjFQ+6xBlMqDCsQhcUZfFLF4pnI/dtd0aBQ\n",
       "WSqg5h/l6SSagfTtZLUpk6g8u4cYVJFJQY7OeqdfY905FpspXHRKW/nVjJc1oAQAAAFGQZv6SahB\n",
       "bJlMCH///qmWAAFd+FMiq501QATkYwhsXb40cSfpQu6/Fltvnj4Xupcor92lKr4jG9fhLPNd5uZT\n",
       "qPzzfUtJsBKN0rB8+gTF+H5G2S0z3VYIizkR+b7IQ3SbW8hpXwYgUfMyZf6hZlu4uLCbtnKimcVg\n",
       "3eHJYGJkKa2pEKMzjEGWEbkIRo5ZhTjUDE4ZXcm0W9F5vjN6Rl1peaGuiNobzDnucQahWLD3P1Rz\n",
       "hxyc9fQrH6nNa/kWBA+DlBCofWZJmduO++4kU/A9ObxguGrQPppize/LY+g6/bfWUeyoFFtQiP/5\n",
       "sBZ8/8gMLJI3AeW5fpKurgNMyAdGtqwmT8A2gSyaSdSAOeL3Njhz9O6LK0vtEqh2kZpeqUM9Bh9N\n",
       "DHsVqQHi3kM+ZWZai3jc4gRkc57mGxyyh1LS82Oovx7s4PEAAACJQZ4YRRUsM/8BQq7xJ8nDInQs\n",
       "V16AKKwqb4YAcwBzc/D34pWoq5d+sa03pEyMsP2U3oxEbcin47sbWYeL2l3oeQqyl7w3nNRFbMLM\n",
       "/7DxciGAtxpG97h+LfhJLjUfYkTxSyUvBRbBxolrbrdw9xcNVDz+/Ml+NDgp5PAuaTTPOoYxTKYQ\n",
       "/if7QbEAAACMAZ43dEK/AkfAZRJnDbjOz4CBBg9fSx6W31oBCO6yCSawk0F4xmNV4vqcbRj0rz2y\n",
       "T5onbCa+mFN11wh4SSbdfhgccK+3l1SgWLNZb6Iujen7xL/CZulzs5SYuZrq7NeC/K+S2oyztnYI\n",
       "39TUZKnktORUOXFck8okZT9l6QeH2Lbx5LkaeOFaZOgSLSAAAABfAZ45akK/AkjKZRorXJVC06My\n",
       "NgyXZeV9i2XJdgpstwfXIAb07/zph+m4SpX+0zVUtzmmGdJpMG/x3Qq+pz5+D7y/QtZ9M+Jyxy4+\n",
       "sqk3wN0DPjZ4y9CBy/nTuckLCmkAAAFlQZo+SahBbJlMCH///qmWAAFv32EeX9/zJACyyCyFYb8C\n",
       "GSRU3cTJM91DNWPmwjKEgRPxQcQcv3pVB/QVX0r7wI3JKR/h4ML8tjx4eRz3ew1fvoEsMrsYNICu\n",
       "ACIn1BtIW5sqWf7KxNAfqXBtz9uShhIUdt7f/b0QH6ynJlwgsA4daEU8B5KecIX27gFTQ7+LnWCw\n",
       "VxfQJ/tFmvAPfySFz21KDMsA1354rQkj3Oq9sLWFKNrJ0WHxcyoOivTWPxA+ij6jPg7ycVRZN/Nq\n",
       "AXPrFFQ3Bh1tNp7xGIS8W6z6mOuty+ti3CVnAkPHyFYX8rFI6Y57w4go7F9OnbdkBvDDRW+29jiB\n",
       "IHJ9C/J8Qfv7PlNejGpV292BAhRDdO7DaOtepR5rJblH/ahbKgKF9MfqXa25Wx35WqvLO/3/od4C\n",
       "22RIelcHS2IWcmJpMycobEe1LBz9KSoWtfmoBWsIn3RW/zmOYe+YAAAArEGeXEUVLDP/AUKu8SfJ\n",
       "wyJ0LFdegE8Bdb3qIq3GPiFIACMjVkwq4MYSHxxrJK4Ejr29/kf3xYnjOIEPPwDAvTiDbi5rCxo2\n",
       "e229YUaMhbja7xM+Y9N6exx3T1JTE819yB/kXRV6oQYzcCVH5PcXPtsH0Vod28c7qirgh1S0TVW2\n",
       "s0S9E4MA/YeZCIJ1U3y1KDuQS5ieQLgzWZzMvGeE1tlWnDQ/gHYH4kMo8KEAAAB0AZ57dEK/AkfA\n",
       "ZRJnDbjOz1OuFldsAESiyHr+dRqoBDzR5ThBzh8rPIomMzCLNruAzhuSIexOumQT+Bb13wNS0SCd\n",
       "lrioDDwMNNPrp2UNLzi1loh3DQCVz4yE+aFVsvtrf/Gck2Hyrl2WHG+gVKaSeSgbKCEAAAB4AZ59\n",
       "akK/AkjKZRorXJVC08RP4du3T7EgE0nqN1LaXLj0a0nAIJfD9kc73bjNCHK52M6VPxHf2rcPLz4d\n",
       "FQ/u3N89CyTvJMQML3S0WJDjRP+kv8b3rw8Ds0+AePM18uWupJH2q7hV8yZ8km12UwGKUm0e74oG\n",
       "KPOmAAABFUGaYkmoQWyZTAh///6plgABbgm3GVUQw906C96XXt7i3y7HebHB+bcTrGXFMRSmjxyB\n",
       "RfAzd4ECfBKg9dJF0QqNXLIE0MfWKiUVcSgrY9hSCD/cmZRVClQXoNndkn4U2haPOouLGl98NylU\n",
       "MnX+ZBo3q9Fh3BllX8iCNUcMqX1ocau7+uXg2AwTdHZsHyX8bWAALe8YUQU4BMLU9NO4Op5Jm6YZ\n",
       "CkDO8XOYQS4SDjyhN3b3vq5VMW0aN3RHmK+bmF+mYre4mJ9i1lK2vv+HKJ0x97AMwr9m6lyrrn41\n",
       "TFIXJGLKIzmiczhV/gvieejLX5IElvdcF3cXhh8Afv+8Sh64wguNdmkEwjWPM2aX0Bv9vY/9zMoA\n",
       "AACnQZ6ARRUsM/8BQq7xJ8nDInQsV16ATt1fUnXkkjLIwdcNwxfP1BAA43/keA+QwNVBG7njAuNW\n",
       "bAnIFvxiVeM6k4hFkKCojwS1Y6DL5K5vUmd4mKKm5+EJrZoc70jBvohpZg+0kS0lLFbCcYIoB+AV\n",
       "ZXkWyQUIRJTInBfeBoG/ocXZbzoRoi4wzWPFW+FrmuxrWrh0eBrCjwXGKrSWoqkCwV6w8Byy8OEA\n",
       "AACFAZ6/dEK/AkfAZRJnDbjOz4/jDv6cQBr1yCWlSbj9mXXr2jZX34HLI0rt4PC8qcdT3gLEbeLI\n",
       "LO3ilY5h9OYQUq1sWv3WqlwpbaO2c7oK6IHJdrkppRZq/QmyNBQ9nNoczDq7ZpuZ2GmMO77eWnmf\n",
       "QcqcPs3w/toO/xkLmJrc51sP916/cAAAAHEBnqFqQr8CSMplGitclULTxE/h3po45u+ZrqB3zJeX\n",
       "YoQBW/OjQ749QSBHp4TmyFBdqH5ABY9r0evSKNdfrGMPTPjbs/VYIvJ68V1z7kkuztulD4w5rT2C\n",
       "QINJg5q1ywJ6HhEyJcVVV4aq2i7ZqALXjwAAAQdBmqZJqEFsmUwIf//+qZYAAUvnnlm3B0KY39NM\n",
       "Afly3DEE1HwhXcFSmGN4nBN/b3VccsoH6gIdn/IvqfdrLcHIGbek8O6G7dAx8dBq1t5KPVx+USAB\n",
       "KTGD1hvQXEff8mLxwxzZz2pN5fXaBIrfREms2X5dlAPEhMD47uKlIzgLXXpIw5wmqpKa12hwMppq\n",
       "pkY4UDBZBwCDc117po/TEjGby1ldlbMh1hOlayFdQHeWanPzrbWvAkh6DXWiNfU8xaEQKzGn1xYr\n",
       "w5NpPL6ZXcQt+iVOgd/KT8AbGU7X+MyMrwDy1FVS0kc/mW/3oKl5vkyNENQHez1Klf/45VKokezB\n",
       "41XOvukMbAAAAKBBnsRFFSwz/wFCrvEnycMidCxXXoBO3V9SnggUfvQMCADjg7djlK/2RAEbFw5e\n",
       "u2J5pEDT8XMrUeKbKEPcS7AiILoeYwBbgvGexmYc3KPscaW5M+i/bDw6HdFUzf6jcSgFCN30fdPR\n",
       "vc810h+Q4sazMAwTymiYlkw12fBONEr6mX6/TW+ItfPmH+HRFmy9lNSF+ZNdxkBO9WO/bLQyAadn\n",
       "AAAAgAGe43RCvwJHwGUSZw24zs+P4w4n0cUht8y4U0qVoqmI/hmnhCwCfq/doZIOtQeKv/kmypYF\n",
       "xQfBv/LEQ3YAsCsuKebDJTcaI98smlLuPbARCFFN4l4L6kXeOeYU/Ru4M32SHx28ywAB0nb8CqBw\n",
       "XrHj7geXuwFjZfSqXBVuVSbNAAAAhAGe5WpCvwJIymUaK1yVQtPET+Hen5RuTJProioHwbZDarXD\n",
       "BhWoAK4rKzX8fd15Sa2v5A+p8Pgk6LaI2MdMC2X3cgSPIY1aPHSAPx+eSCmrqKMQbmxve4AO2DcE\n",
       "t4aYW4OGjV0eUlsxLjeTZkKT4KKokvgak5WLwWcKlFLQt8+zwN9f4QAAAS5BmupJqEFsmUwIf//+\n",
       "qZYAAKo8QzeTWgkA0oxvqtboaE0B3JCB48aeWHjetBQhou/0bfbl+AXoj46ChNuByUoimYP9JQQb\n",
       "dJxZ36tl7SbbptcS/1uFrO9dDOK4Jjl0/0k3slMXbF/jZnH0fQVixZ6NUdluFpop12+Jb7ZHG2AL\n",
       "q84MRkygP11xQ5Uws4Pqn0K+GOwLIyQET+NRKDbmAvNcmO2IB6GhO13yQ1l+cuGAqHDlHPM9bR4q\n",
       "9PSVgKkwqpTPNRott0B3IxfFNuBQ6fMYH6WaLYh6ibAGIZ746xItwRy/CNfC371FjlEbLANlDZHi\n",
       "DsmQI+JS+GGCy92GBD5E4JmmcCNEZbwmWREEQ69PtmFLtPoa8ytw8kMuZFZ+65chqLoBRdWl548+\n",
       "BqZMfQAAAJNBnwhFFSwz/wFCrvEnycMidCxXXoBO3V9SkugnXzv48uy1rqlABsY2vRkCyET3wyfi\n",
       "6Xx8A/aCNzeERQBecGsl3C9+MQkNGvTwOJv7OpbVvZb2qAF8Fsq/7nk+Ce1tXYZphZPlKUE+eGSV\n",
       "L3p+pTir78fRuQyaNL25/pEqxF+82HfB1GUsDzfDVr/AA4QIosYgLKAAAAB3AZ8ndEK/AkfAZRJn\n",
       "DbjOz4/jDib1T2iNzD7gbKEUAJ3HUc99Zx1b4PYoPqJIrHzNH2qZTU/zOKyJRe/nlfmqA67vl37r\n",
       "TRRzhc/ckJmi6zfIstte4erycmk9Jr4sgSO+3unbO2TaMm2LUH6e7E7k/2v9bTq0gA8AAACFAZ8p\n",
       "akK/AkjKZRorXJVC08RP4d4/CLOK0toYgAnFWVfZJ+37VUYskcHjBDygCdbDMqBKPTsKHWI8Frcb\n",
       "LErjAFdIdd6Kf43R4Q8U/BXKTpf4tzMJ7av3NXVGZYf8xlzyDQP3L6EffYlBDMmWvIgEbgmbdjmK\n",
       "EociYRj4YK5KONM0p34dYQAAAQ1Bmy5JqEFsmUwIf//+qZYAAW3ptoALjh1gfv5dZ9++BCsIuXwx\n",
       "gwnKaRDnR6A6NbcItkW/9E0Pu0nCzHk/g2Xr1rjryUq7ssb8MLI1SZveeuuSxqKb5pdLq07OuPrr\n",
       "mVA/FEFTcLEpTsxHtlHjxeNBOXBJIvc+YS/eYwalGCNSPVbOOFjyGvsRFO/cY7xYzKb9bvvaWjyl\n",
       "DEKUzYx3nAn3qq5WNR1qvjY58K1aBLliw+cAu0Bq/hcPAqziz7w52kqsiBoc8mcnctCMmNhENL9f\n",
       "rPDTEsE9vLQ6b35uPulqCToP+L7q+N5hR8dn58ccSgABiq+OPQOgIKmYSxtHlTX2vJvanw0riqW/\n",
       "L63qgAAAAKhBn0xFFSwz/wFCrvEnycMidCxXXoBO3V9Sa8QqwG/BrCKyAIyPfHcEP6hltTaQsQdV\n",
       "Xr2tX1hyXsJbWPsL5trgK2+YhtWAwNrRiFnDdvA/4mpC5nmwxz2BoNrb4+g9fmZtHVMs0KyMU/by\n",
       "jZWEXNmoPDeTwRcF2yWm36eyI+AKnxJ/XR1qvcTVYNyxdJRjF6/94zdMcRM9bDNQC2MHE6bGxyDZ\n",
       "I3jDn0QAAACHAZ9rdEK/AkfAZRJnDbjOz4/jDif5ou62DqV+9cgBDto7OKOhQGZL0m3TI+rOH13M\n",
       "fQP0liXfcH+uRJiq0UEBj49OHma6NG1XiS8cRhDdHdtYKMACKwRXqJ2wN/HZjt0MN+rIuRX1XuFZ\n",
       "1ON2sdj279cSm9K5/HEUWjR8rAQMhROiq3ZggUHBAAAAkAGfbWpCvwJIymUaK1yVQtPET+Hbtw5i\n",
       "ANueWGA83IdSBIdgOI2JWxMVo1sKkkvGPccLXfb5AugeiuLDSqJMo8X1Wbjl19PXIcenX8GzSFP9\n",
       "ErsRXFrLnfL94fau8QA+/Y2mq7g0baCauclAGzTgcpLuzk9Ny91tzCENsk/2ayzdZ2L/RXlulfyl\n",
       "s7m6jORWwQAAAPRBm3JJqEFsmUwIf//+qZYAAW4JtC+hr60AbBEB3fGMEChh96BqvHLO9gPOzXh8\n",
       "tfgTW1TdrPj8yv8pXtd7vCr1ZDwsBkOXKFg4cJYjXKgJBvWoGv3ZM2w35JsA3tfkMEYxnB7DvQzE\n",
       "337HnoPAVDCozmzglTTyVnYGNXa/5YS0IcZjTlWDue/phD9Jt5rJ/qfkrfKm4zMWCyKcgih/DPXc\n",
       "Qrcw3JDXMCTelblxJhC7mXOk4SBmxplh3A4JDKBDtTEpVQPw4SeKzl1Fu6tWAgITXxNVhc/SWA4B\n",
       "rDLXxJT2dibQSLgIFRGU4kKtpZt9O6EttbppAAAAm0GfkEUVLDP/AUKu8SfJwyJ0LFdegE7dX2/8\n",
       "RQBZ3x3IxCP1Jfg6Ju5bEXcfIX8T0wvTxCmgktR13/gCUWKsi+5coZ6yNI2OzhKROqQbQX59uqw8\n",
       "GC7dO8RIOS30IthXXE1Zd72d4oZVVgDGFev7Q6GGkWSEypGgkz6yaDPDpE9+hZx6Wm/8S1oXZus8\n",
       "mo/LWVIGVNoEQCV+/QNyAAAAdgGfr3RCvwJHwGUSZw24zs+WaO/2T9k8ACPAGV2RaruJweeD7NdN\n",
       "a5+bIZO2z6LWlK4IlRx3qsYsXiEgGCfMd/lq0qk1KMdqJesSFw3u3GSn4LZsRJFIrCWBb5B3C67P\n",
       "J7+E2qTQs5VKd38rkEKOwBPjYXOmcaAAAABjAZ+xakK/AkjKZRorXJVC08i/hOKZuR6RgokgpHXk\n",
       "UGyF4LcABc3ICWdkh1IfN4w+yU/kP+iSTrRt3qGd77tCa55fiweLt/ku93NQbPUsjL8x3rxJAdDj\n",
       "O7aVll/+BkifUe6pAAABAkGbtkmoQWyZTAh///6plgAArfm73ABOtpzZzKNlTfh3cY5HoE83nnzV\n",
       "q6+wTAk07SuuCyIxXokRggi6EN6hSrPsuqYllJiPMhxVDaxN9xpTW/Yi9Vpg9z+ZnNRybdB3Zfeu\n",
       "rQEswlmvtvrr3N0D0Ey2rBtgP9sosmh3I6YpyA1Mf/7QPGGtUNx369jfJ0j6WM7jLUuWLkFushrK\n",
       "3USC+X55AZfYm10xbsu9WUXY9dT6Q9mvR/CE+DvpSY+loGFCHoFN3dSDbyh26R9Q8F8DkEWbd2AV\n",
       "2qCjd3z5PCyRvjIgHjy5Fg0e+se69Jhu8tVoj665JTGpgn8UsxCy/+mGpa95gAAAAMFBn9RFFSwz\n",
       "/wFCrvEnycMidCxXXoBO3VeBBk1BEIIABdBr9NbELY9OwBsDLIHfHkWQEFMXB7ot3+DDTIayQ0rX\n",
       "Fo32BexXViy8KhHVL/zAGyn3V/qlOu0+exD8r/r0Io6+qR0tvwJY4s/ISW+ZZbT6KFMc3eHwRCcQ\n",
       "Gb+nHbeDujaANuwXCivLBnErRMxSZz1qTcxxhbcJxKda9euGMYeo0spp1brkz2gpO7wnNbh1z6da\n",
       "7UZFGoMhiQw4RvCuCwHTAAAAbwGf83RCvwJHwGUSZw24zs+P4wvQ/EU2G8QAh20h/61x4coA29nr\n",
       "9KNr5iHx2tA3lvfVw44MX99b+IVuSMne7OsVWHS/i8jhFwxYmvBlIasyhJ38Tw9Jx6675IZBXOko\n",
       "HZ1NQdTx30LC/8mBep7fqQAAAKoBn/VqQr8CSMplGitclULTxE/f/6PtLUQByhmvfVsRvOFWArQu\n",
       "7ieohIFzEkAYH9LjP4guHv4GrIFDEz437HMDHZoRCqtEgDchrkH6K9bG+HVTyizpI4OeYVG2IH3w\n",
       "Ok+ud4aWZmMo2RxRuc376NM2yXuYEBmxEkuMjyiSmD67I3HsG/xeT8Sul1Da8cX+sQthWXoN2S2r\n",
       "33SoCKji9U3x4he/nkjDuZL50wAAAPRBm/pJqEFsmUwIf//+qZYAAK78KYoZSABQaAfYaSNkIY6Y\n",
       "r6+e32Zw+Db/Ae4jnEMZWth39sV1LiwiWKpNmbinoFSVq1Y5pK/Cm1iyZERuih9payqmzmbdHuEO\n",
       "Ya5p8Uswakaehtsa5dMAnS8gHkhP+JqX7pDEbqiy2v4ELrkNxDqdGOZItCTMf+WVQRpwErv/LEDA\n",
       "oY4Z91Qsro9IqFuMy0eDWgJmLFZUqlaAxG6kInuj7W3V2eGwW45V96AAfIeyNoGZBxnAXcj2x+sn\n",
       "YiNf+zM5kE1mGqrslhdbARq3MXzNYDmKfEBZ0h+z9f8k4cxIxVSBAAAAdkGeGEUVLDP/AUKu8SfJ\n",
       "wyJ0LFdegE7dV4EMh1KAD58i8obaz0mNaa3eRwPY+jalGUPgNC1E7rBjdL6Es+d5QHwbclamZfgM\n",
       "oCSw/ldobwAeH82mSaLCjs8Zz/WVyOGUAsmCutfjpt9k4V73Sj/lK3r2Sw8ygCEAAABuAZ43dEK/\n",
       "AkfAZRJnDbjOz4/jC3xoKnbUDgFAKf9YV/UfjVZaBtouov4b7GrrMyb31GzNvU9PeXN9SV4qEbdm\n",
       "OWleNltcKOXUubDtCd+HUkBsTQeVLYx1pWV0mC3P9Q8csnRppobIvlpDYi3kYoIAAABwAZ45akK/\n",
       "AkjKZRorXJVC08RP3+HjijBi8JO2DggjAt3CF2EAVYUsO1ocSwMQl+4LLO8ZLrFh/pEf6TOndUpv\n",
       "22AOZpVR0uvetNptBDCbfaTGidkz2u2bfvZVhrK21eI+demQWts5f9JII7Ljyfy9xwAAAMxBmj5J\n",
       "qEFsmUwIf//+qZYAALKKb42pKACcjPrz+Rri1PkvRGBQF2sVoUNlkjTvIX8o0dk6S4Qg0UmJXl9q\n",
       "AbtzM9zeRblhShJ/PcX1jvvJJ2eOF3G/Ybm+npHOy7dDGmSB+wvBZy+6Cwm2i+dKFyFT5quJ2M3K\n",
       "8BbvvH5fYJNcdFH9W2/0lSU3Z6KuCJTF1bPSQXX/jvJ9w3DsFQFlKYBKsoqdXdDLnapCcCGHjycK\n",
       "NMR2c2l8Zazfsb7eA400YwR45EXhLaSjXriZMBMAAACCQZ5cRRUsM/8BQq7xJ8nDInQsV16ATt1T\n",
       "xkjeUrNiQArfKExBpZPfk6l8//mDrn8kM3XQk12aeM7lKGG8+ni4zaYZSL0ih6IbTipX9QQS0+ik\n",
       "l5HnYhimwMsKqm8TPzBt+NzwbBpiGpWG0oWY5bz0w/5shAui1f/6Y//RF1h0JvcpYQAAAGUBnnt0\n",
       "Qr8CR8BlEmcNuM7Pj+LyiDbnHFGP7GQldPAPnPIFlXI33LepUiuZZn8keexIP4F2XrqQKku6Rti7\n",
       "srfUZV4jslvmzZjdYitIAinYKmGkXyOExEfvUNgheAvJDBbaqhuNhQAAAGUBnn1qQr8CSMplGitc\n",
       "lULTxE/QT5PqEAUxwzawJ+agh8rYTcuZFWYnBCD1lu9yUHuuCltbKZljbQhKUmHsUPKSr8ZzBalS\n",
       "lsKN9ZhzQ5DCSmay0kiNquFYMGlVoPSCXc1U8rtD7QAAAPxBmmJJqEFsmUwId//+qZYAALKE7Wzy\n",
       "sH4NAqGWourfGVzW6EI0ja9xb/CsX+LFxO5rXm58pC+TWCN3jevSbv4+SnG16OdyHTTpL/W6NKSv\n",
       "/wMl0k47j044Yq9+IobdnH/bwjeNjuNymGQ6elrzMbCZrVQH7ROQGJWrJ71+bLuxXtgdPzOTjNY2\n",
       "hO0jexLoA0w+45a0Biu16WcdXE2DOYIa7IAADuE+oDJ+vskbH7z8JTC7m+XvV3ssnflXK98KIK/t\n",
       "QN3oGY5Jnb6osFhxn0mG9wANtnUxkWN5WKCMKXKuMg2Xa3gZHJuYGOtMkLMhTZuqwcyJzW00tEIe\n",
       "3hQAAACRQZ6ARRUsM/8BQq7xJ8nDInQsV16ATt1W14DEKiAKL6dOKmHEmhTCaLj2U0w5rrySOgxw\n",
       "IwDtkpTyM6RB69fsDtEFEy5ksdxx9iReK//prHi8J+95Z71CrLg5mdlyPFNQ0kblHQKW20xTqGk3\n",
       "IpydO5DabkVAJMU0s9YrMmMvpw//juyRS/Lg1EQhPoHorTQpYQAAAHcBnr90Qr8CR8BlEmcNuM7P\n",
       "j+LSoLBf3fSQxdgAvxS+2vH8rAA20mDo27obZ8Wpl997pk+e8ose0bv5RFUXlvxQiS2Yuz+G63Ov\n",
       "56JiBeFBBhNyWgWQ1SjBa22v2tsc/bg7vpKH1E/hRhvTV+rhcxOlSlno16sVgAAAAGsBnqFqQr8C\n",
       "SMplGitclULTxE+5r7+XoBo1odqKqjnMh1qlvyMfOhBGid8c3zJksXeyAQej+96HISyCCZXVmOYP\n",
       "6tTDvWY5PSGkKKnSMPuzTO+wZiQosfLv5hJelyALmvGolDcFTn6z4mULcQAAAK1BmqRJqEFsmUwU\n",
       "TD///qmWAACu/CtF/Af3IWZly8z+Ea/Gqr6T/cfDvcb2wcoM2kX7jwiCBJY/ZP5kPzdxfzUXcz5Z\n",
       "GIml0Cowrbr/3rKwC6doOZFN7rjYD1nk+1qrVGpZpePz+M5TfSSPnK1ETgtKnSneAiiUFLPHfM4B\n",
       "xNZMkA8IGmAsrbTiAC0PGyHCTxWihG6dpzCEBUqZtfKStOQ7+YxCJ9rV3fttTZRQLAAAAGUBnsNq\n",
       "Qr8CSV6Seumz1r1+1QI5YeoYUBinD5ypjKDsmy5s2UKMAbp6l3vBfbwakvqA1vferJeY8JCyhDvJ\n",
       "T/+NyIf+OrmgLID3isHk0typVlJwOaTgZyoifrMf5ivZTiYgvKNywQAAAKdBmshJ4QpSZTAh//6p\n",
       "lgAAVL5yYphDqbnXmAFT6i+kdMsQVf/3hsyLFI4klCKh/b3J9rG3NkTpiw2LtuM1b3QfYHyDNBf+\n",
       "s/OYlTSn52TAZVANxtNs/jx73KJm41FP57B+He5K5aq1YLZAQGRdqWijnQLP1YUKDkr78lIeflfB\n",
       "YbY6zypUF6p51LCOznkFZ+fFgI1TDrwAOj23Q4ZI3Sh18oDMoeft2QAAAGVBnuZFNEwz/wFCkFtf\n",
       "TJovGhX6o0A5KbFDlk4IVVINf0s1FOmH4RL1lxqsQAmr1tz+qF+bNLvMfItxNi/H34nJhNwaypWP\n",
       "l/CETE0yxe5+IPYX6dZVbwoay1DK5Fr4AMNXd9KjwwAAAFQBnwV0Qr8CR8BlEmcNuM7Pj+LxUJ2R\n",
       "m5KOzCgBt8X1/4ceFm/9Ooqw1QplvrGuaEEpvcFtK2kx7L6wlMbNCpmj/0VfUXsV4GmGr4rIf+oc\n",
       "MPHf6EEAAABRAZ8HakK/AkjKZRorXJVC08RPzu/uv+1V4wHV3lYAXP+8/Rawa9/n9pMx1JZQVlyH\n",
       "0Rv7VKZToE9zFxv0aKKbU38hRZx4Nv41AATlzp496OqAAAAA6UGbDEmoQWiZTAh///6plgAAVRj0\n",
       "bR1jQAcFMvPIumSb8EB86ekDccOoKUkEEASRmPEcQvcmhGPavUkVYYr8jLHG/anoghi8sVpShqVc\n",
       "j2eo5nz6pde3rI3rbD3uxNTWolbNAasAkahG5uWcYjroR5RX/3nZpbz+xtsRSdPfW0Bddwj5uWyh\n",
       "6wCHANQvJEPAeuc8MNKNyEOiegfn4EzmPF122MJInOTsyoT4djTG9e+EEsfM1r0aufF29yv2N8R1\n",
       "VaX69Gmd8e0AtLsqpZaA38jmHESy4fXRFOEaIjqCoUAU7C7h3BTuWhtgAAAAcUGfKkURLDP/AUKu\n",
       "8SfJwyJ0LFdegE7dU203OuhITVfq9nAATWrvhSysuIQZ0yGlstvCYfLtvnZgc1DTqitn0sndeDGA\n",
       "xEcbUNDA+LoVTjeuQjW091XhoD9Oo0YKsCrcN8Vhmz3Jpu6tPH8MACGHZ4GxAAAAQQGfSXRCvwJH\n",
       "wGUSZw24zs+P4vH3OL3JvWWNCxfkGOpy0jQhAB32JP8Xg4jBi3bjOPHoE2KCNSt/cXiMV5FUUzPg\n",
       "AAAAYgGfS2pCvwJIymUaK1yVQtPET89UQ47BUp6JrffiwAt408IGxzcHIcnfuKV0bn9rrKasxqvk\n",
       "jrbhdUKWW6YeIz7ttJuVpNmmaZFyfbMH1wYdzayBdoOzN6RDibe3aho2xtSAAAAA60GbUEmoQWyZ\n",
       "TAh///6plgAApfwA/uHu6XeaprQAOEPMEFWdNQyPpNB0GjtxhNkMJTnGfiuQ34ULcLevyTHShrFH\n",
       "6y7+zVUkzvyRoQ5L3Pw8gJFY/1zNheBX3870CF25hYJ9trkHaPscbyH3N90lS1A6kosvBFTb81AI\n",
       "m0Y/fc32f2EF6QM2dfn3gkO3DVrZ+PowLXf2N0SY/qS4w64th9tjFSYV0huu0fFC3WpwxVYDr4ri\n",
       "siuzwd1NsXO2kQ7exweWw6JzzRnPlolf/+3eNmZl1JVnvf/ApIY2i0kRC5l8LwA6ZRcnkjrsAfEA\n",
       "AAByQZ9uRRUsM/8BQq7xJ8nDInQsV16ATt1TagkNLRp6F3voQsAOgba/LLbu7yg2VSvWcnnuwy2R\n",
       "h2ZsNbObg5to3DF+gNrEsFFKvhOzVaCbjT5uxIOTdQXplfmM+gGOiQy93sD3emCJCC7O/T9o8seT\n",
       "Xq+BAAAAaQGfjXRCvwJHwGUSZw24zs+P4vFQnXhjhBAIOPJhB42Dc9yHobqThRbJ2EEci/w6t7Qt\n",
       "GVtPoPZpRzmiSGpfh3BPBve5B65gQV7BY5baXZIlKXTMEWfxkwa4pO7NX1Sjws49GL8ev1z2oQAA\n",
       "AGkBn49qQr8CSMplGitclULTxE/O7+6BqPoAbmp2gi4p/poSCgvblsl0A3YR89ZO28P73wjk2jkm\n",
       "r4MOoFXdsXLrd2X8DkSEaLwPPfQV9jcjYfJ8lgnHip0zn05USGIGAFFo7jDeKt2vIj4AAAEGQZuU\n",
       "SahBbJlMCH///qmWAABUtkS9qQAzHAZKaDhoRkz5S1wnrJC4KSZHxyIuGhrY+Qa7f7bj9u8ptWro\n",
       "C1G4Q7+/SvOirD4GFhJP9xdfjmDYvCl8wTO6PgtWTA7vf5tf/1089FfOsE3LDylWSnYP+lAbhBhL\n",
       "honi6mu5G6THcUUTSC0VMdPlLp5idiak3pSQpySdNsoFFn9zOLsmZeL12CndwWAyi2r+O9KmAIpl\n",
       "KIxGaNvpMotqAkKnZhCJ94QnuUqsj69NBpYuceFSoEM/hIqudimo8I1hgVf5bkEV69pfz3GCh4Wy\n",
       "u8YJMjSRkF2bdPyUfqTD6x8Gk92Wh7+wuySXDooCwAAAAIRBn7JFFSwz/wFCrvEnycMidCxXXoBO\n",
       "3VNtNzrUy6nqgAirsf1pJz+lnzHzR/c10V506etee1D9dxeoglyHUixfv/zkhmFlF96vLUXito7Y\n",
       "jT0fm9y555WwBNDlcXX9Ou0G2DDHUG93Q08+D+3lVqQUBtbdjrkNUG/Gu79YXcXdev7AqYEAAABa\n",
       "AZ/RdEK/AkfAZRJnDbjOz4/i8Uh5ZTyXekaq4RbECwBf7PUjKEU37R9hwSxtgYKzZfGl4nbtZB2O\n",
       "+Ac0+b68fkmyGNRelJCclXzGDd8tT/RnuYO3DBebiydwAAAAZQGf02pCvwJIymUaK1yVQtPET87l\n",
       "wb6/NsAFs7rFxznHYskv3O3IH/NFRa8vPxRb/D4XJ/WXztR2TCZ2ovKiDLlV6R0BO2wCpMg/HpjC\n",
       "p91n2bNvcDx1+hZzovUgX3Y+egQDgCdwAAAA50Gb10moQWyZTAh///6plgAAVN7tG4954Auxy5cM\n",
       "0wJDrtr8tYXEwUzP+Pmnmibzlqa1o/wUydgkFO/p70heTxYMwmtSccpSS4wbhfSLcLBZItgfo8jh\n",
       "nVEOX8jDyFRo8imUL7BXBspM3x3c3v7ut3q3prg4EE4zafB3sJywJZ152nfJTlXH+t6CZYfXrCiN\n",
       "fGsSi17dGQOOBbvI4ljEvF9kLd7G+sBeLr0bAhKQuxbM9gvT15v4K5bCqxO8ik/NO3fA1osAenUc\n",
       "BjDPzMfTnee66htSjPP9I1dcjSOFdsg9XxH+BKHhcQAAAH5Bn/VFFSwv/wGy4X5P5aFJ/r/g62sS\n",
       "MN02NoAUG2oxqh/+J+Ovnz2Pb8862d5DBNnmV9V7nkBZY+NXlP/++jMXqYYGi2DVeJz3OIJ2roBj\n",
       "OmL9D/6q44VEiZtbeqlEy3c8gH25wBgclb7Haz28rvJOMQ5KpbGO3IaxUORb3oAAAACFAZ4WakK/\n",
       "AkjKZRorXJVC08RPyDRZAACKm9Hfcw30sMKcXSFWfSU/ut4MhJTyFEbtF61sTz0lWsoHF/72zbW4\n",
       "a9ueJMdyx+YLuENQB2aGlgquQHrTZBJPnDHnoIggKmyshHwRnEll6AIOaSE0Lp7Hi7KpbcbE3R9P\n",
       "7r7LfcY4HwfOvD4oZwAAAN5BmhtJqEFsmUwIf//+qZYAAFm94RtYRqlNAFBYyeTeb2KB9+442/HE\n",
       "Vjr+qO6p6/o4G4C+VsSorzmTx+EkX6I9M8VxtT0nyk2pkDVVz2Uqqvx8n4fZo2EsgSaJY7/ZT525\n",
       "p+LXqIoZSmY3cBaCssYmTRF5XzaYnj7kL0EBaTrT9LlLnbaplFujokDxdzor1vMuzbAGzVfmXqWI\n",
       "rGvVpMV8DwusYjOLCXBgCe63a99K0i8ApEiVcvaBACBOnWYzOKDgIHw48oFwn1WJf5MSjgNq9+3f\n",
       "7GL7O5dcrD5CFoMAAABuQZ45RRUsM/8BQq7xJ8nDInQsV16ATt1R2acFvADdeJ6xV7yaz8m9otu9\n",
       "aUz6JWEQq+TgbHcslJ7uWXY7kGxh9iM7RJUYR9XjtdF102VMmA5Qlol4rGNpPeM2v4APW0uwMcSc\n",
       "mBwrzeJO+nFIwIAAAABMAZ5YdEK/AkfAZRJnDbjOz4/i7zzGAFHKptjUs+uYzIZSa6JHkSYaBgY1\n",
       "7Dvq07P6G+qHWrCaRKPSMJrIwKPX/vqY9P7UYPr30+Qc0QAAAF4BnlpqQr8CSMplGitclULTxE/I\n",
       "Q8LZAJpOr9GBUMMvkf4lRfdi4xKIO33uwev4dvlXp5b7GnsQBsGuEaQnQxrBhzx4OnoXswEinO84\n",
       "ZhlugD34CpgHs+iBpgZx1zknAAAA1kGaX0moQWyZTAh///6plgAAVLjkqtQBQEigFrfUgfPUFhhf\n",
       "vZwRNNJRFXPxg9y5EyEfFR9DgQrMoqsgiWETYIfD9msEHnWOcsGH/w3CkqqD5ILDFQW1aH3SyZtM\n",
       "557nY0UohR2KKccta66A9XoG3NEDl482FGKNGvdfweRBomZycFBoUZM3XKgUAEbI2Vr+q3XzpR3L\n",
       "2i1DhtwPDH3UUlRDEl5oF2k5c+6HwnjhXx93Ri7XrTbGgRCPL9lrAs+Qa62x0x8T+Sx4QQwlipEf\n",
       "7wNUoUGUfUEAAABzQZ59RRUsM/8BQq7xJ8nDInQsV16ATt1Rzue7NmBU9nwAOs7toi/TydB7Z+Pc\n",
       "61b9E9Wctxs9oDHHY0a4hyVeiDppsUMon0UuQP2jLUySDlP/HLINWADhhQSTzKomGGxCNiIaIgbF\n",
       "GPZRqZ/kkqk1jzq6+QAAAE8Bnpx0Qr8CR8BlEmcNuM7Pj+Lm5J2pZUm60licAk06Nh8qXM5Ykym2\n",
       "DT87Maa5dqmez2Qm0Y+35kuDT+fpuWUEKZuKpvQTFf6ULh6ErOOAAAAAYgGenmpCvwJIymUaK1yV\n",
       "QtPET8gROioRrdAF958nm54JgfbPtAGbm1ezH/5tcPxp80GN2zMfbXBbbDTv0M3rHbhSikiNImn0\n",
       "Y0oyme1Y2E37Y1avFBLtEigUe6NA6AyVqMb0AAAAr0Gag0moQWyZTAh///6plgAAVMVy3x9AF/kF\n",
       "xTPf44HHJ23p5hzD+jDl0lSiWx2LgynuVPGonkznfhe9ggJtbxp0kVBE9sef9y3yuRmYmjzaFyjq\n",
       "67FdEO28zRXLbVtIT0XRMgzxYTiBQXCAdXOaH7ekaMFlbJQCNnefRW7yAdiFFKNROqkLTDxUEQ43\n",
       "10xOlv92+0QqmhgBUawlaUtO1ueodkFLDdCOjNHuVLbn9jUAAACDQZ6hRRUsM/8BQq7xJ8nDInQs\n",
       "V16ATt1RzyUxGKAARB6+9/Gn7Wam7LO8Ive5UJ+aXncimuGCy1i3QsAnAPZW6KeJJ5sHehB4sUnn\n",
       "RvBcxy0Anb7LY7OMu7UvN1Kxp3dnMPqlsWCIMrpy0ckrQQyCsNYn8gW9DPYw081qDE5Op1uVekAA\n",
       "AABgAZ7AdEK/AkfAZRJnDbjOz4/i8Uh5VTbhZy+XABjEtmorvTnxBcn96wWuSB3K9Dlu+Hb5fXBf\n",
       "SiDxURH2xGfRKob3+U7Z0uL+ocJhYK6peCtyQxyQf8EaxW5H1wF/Wy7hAAAAXAGewmpCvwJIymUa\n",
       "K1yVQtPET87lwYkBbkAJfaUhBpekwsRzMJw4GqUPEnyZBUtuJaRiFw2SjMkcGauB/AiDAmoiNTh7\n",
       "nhAmi+Rl5mh+6SFLLiRanZIiuBJ/OLyAAAABKUGax0moQWyZTAh///6plgAAVLi9ZIArToFHZjc3\n",
       "PJA59nsflP3tpDZ12XsGSG5U7gCOKcXm8anFfZLAODjAjHCMcOU2Ww+It+OjjlKA0mDPu4tIMH6Z\n",
       "HKc6JQ+AHK9u7hspu+dk9MotEXiVMjqC9N7iv66n8IdRfWE/CSBVVsSewf1ahwgtOFBe2BQL+RHh\n",
       "MJryf+QOsm7O24WGFheBDZpW86kiXkcIOjQiPUwhB7VrbDtQldk/fA2ujbmVu1LCq2aUyOjHLoS5\n",
       "IvEDGbCyBlks3sNeW3Z2kpydBwA5QR7hhBzpjJj28ak3OaTMKo9CIhJpIVNF+8YJQYXCNsdQUs+G\n",
       "xr10FrNdrr313bbOtaGN7xF75XK0s7671LpcIWjfALc3hHSqwF/a2QAAAIFBnuVFFSwz/wFCrvEn\n",
       "ycMidCxXXoBO3VHPW9BsAhy8AA5TqCxtotFA3KIwYYIxr0VoWtvLpRh0vyW0Z5pATylSnGtBzjtm\n",
       "jyTtOPt0+ZXsE6Ye7PRpETV+qPvZkqSEmhxMBZ5FMZTcbsT3X7EK0j1FgSUZZsp3g8kRBY3dTe5G\n",
       "WsEAAAB4AZ8EdEK/AkfAZRJnDbjOz4/i8Sy+xMvEDTakgAtnla+rbat0HHBubQYVOWai9lizksEd\n",
       "HGu17gP6xDQI5AkdQZ7kCMkyLU/3ySoZlNSNRkC5tgQtHg8xkzYf6Zzwc1b2Qb/gEClux2GyF8sD\n",
       "5xxCcgv6q45vYZpxAAAAbgGfBmpCvwJIymUaK1yVQtPET87g8jLqEO4reSpACIHkejsSCtAPM5qB\n",
       "00OqeIzsNm7kvBoqzBgLG8Ng+kLeXWwylITXjWkgbU+HAMO9GtGfRYCzzcVQNaKhP0qHC+KAdDWj\n",
       "5adFh1xHxgPQQqJPAAABH0GbCkmoQWyZTAh///6plgAAVLqiwAFCxUxbiJfwnYardkirWrRVx9m6\n",
       "1yCvEhhaT3DmaSwe0Sq7Z55WOx11Etw7sYAPXfb/JfFOXt7L2vgfTUTp1MuoWdBhD/aMJQkNxyK6\n",
       "cnjsW3ogWFZm/Dn/Vr0orpnHeU91dFs/JFk97Jq/w4/T7Hfr4Mc+Cy5QJBPP7cb2VEWIttFwyGck\n",
       "7Fg6Me8gMmEiFnyzdkiHIDyCBN1pGkAfnE5DimYMg3kGlI0FqIdeTYcLgsrGUNGUNk0UYo+LiSc6\n",
       "zhN8sfUwOx8XfnHkHL8PtbtCZ/UmDAGv8NJs0L5ZqbYfl1A7DBF/jPlyUCs1seIkwsQqRo3JT7WH\n",
       "c+crjWI28qLAtKBpLO4AT1t8AAAAi0GfKEUVLC//AbLhfk/loUn+v+DraxIw6HoG76du1DwMUqbb\n",
       "YATTOWpZBEDXldFkF1Zj8EZIplH8E+u/YyMs2ML5Sk+++gU9yL2u+p+x+0JRFHtQQb3dEYNfwO19\n",
       "uVKO4/1/bJBS+52cBTUcZXrssbFMx4qFzCy+jKOF4yFRHDU65e0+IY8NybH872gAAABpAZ9JakK/\n",
       "AkjKZRorXJVC08RPx7i2UAARBwFxEBZo2+QZK2AuVr7vR9lk0QrU+l+XmNWOxBNuC1u2A6zk8UlR\n",
       "n+kAGL8cLuwS1Y015HkSucwEBjQ4KVoHpeq+O7v6s5xtiIVZvLBQk/i5AAABHkGbTkmoQWyZTAh/\n",
       "//6plgAAVLge7QAhxU3Rvnmg0ZEvqUAXeBCAKEsc5WGJ5W2M1wF+Itd9ohKzdcEifMzgTmxSa9tn\n",
       "+FJMxAgav9vjbdv8pb80V5V7SdKd6njLLfSCMAznV/OW85gCwQWL8DSHNiKqyZ9Y5Rko1UHoJUS4\n",
       "enE4Z2PH/66KrycLvzChI8qPuR1bF5aOJnsnGHgxgYTEncpRPjiSGxD5fk0tznzW6UVn0TXLqwZx\n",
       "58NeqYyZIJojgt4HWE50UtU9DyqILMx3Eux9FrPOcjUxTmAczS8hvSL2p7iYJhDxmy3KnSwi8uQb\n",
       "Xfld5ytct8OZ54yHmkmecFUIXDuLSeEdxiHv9DeMic8VoZ68jEhUlqI6xwrQMeAAAACIQZ9sRRUs\n",
       "M/8BQq7xJ8nDInQsV16ATt1TbTdD42z4AINeV5g67iM6jvulrr5c113uQb6FTlFcfvsogWIKJ89Y\n",
       "mTr2OHR5U5oLo+fVl3K2YDQn7C4dzIur+r1AHOBRNXeYlg0sYT62MMC3Gb4q54Gurzk9KZ3fcmJF\n",
       "b44TUE4vU+q5NEntSPW64AAAAEoBn4t0Qr8CR8BlEmcNuM7Pj+Lm3Lo11bEAITbeL/FrHBqxBtH6\n",
       "VFu0u1fNEU0fCTB2jqFbmC1GTTGVxwmT6CY5rerotwa8ih0nFwAAAF8Bn41qQr8CSMplGitclULT\n",
       "xE/IEjhDqgAAufso1UiabgYCG2sfhnDCFrO8C8HTrrYJtT/f1kgutV0b/vhwb7Pw4iWIY6Z/x/aH\n",
       "xcxLQ9olVDHc3rh4U0LuyuXLQncqmQAAAQ9Bm5JJqEFsmUwIf//+qZYAAFTFVfSeAGkTw59F6pAr\n",
       "pWcHIHzqPzStzA0XfhrOYfmwDef3chzGhOsh6tqo4IkOPTVmFP0JTmR2k+RS/AU1hC3oUAm13EtA\n",
       "qsedrtpzaReG0z1Juikg2DEJ7hFvFqT/JERRjGClpZns6HM1jD8mFwocHvyZMJxBN24wqfWdWrLl\n",
       "qUtSAcCaAnaKXPI4mu7+p4pUncNgrv5k+WW3Jg3pEZM6KypCCaPGrRMQdQ9pA0pZfv+jKPoaVwP2\n",
       "R3QepnBkBXDd/hzkS2H/OS6qyzN/fBFbax0rxrLziEfsKKLL9YpnzZrXxT+nql1K2D0akz/V0sVS\n",
       "Q2C+YVbfcywkfcuBAAAAe0GfsEUVLDP/AUKu8SfJwyJ0LFdegE7dUdDD4fCOukOQCNWbkggmpM2p\n",
       "seVccEqW1N/Pxayrznr5aleAcBWnTeCA/cvpyzAWAeTcvoRqVW1H//qTpaAC4247SlE37s937Bnr\n",
       "quIxNAzKYeunno1cHzNhySrVrt/4sBrGDAAAAHEBn890Qr8CR8BlEmcNuM7Pj+Lm2fl6AFh4IcX4\n",
       "Q8NO/I81WpdqyADF5YbDFEjoieCYyHxlv2ybHNtrKQcfpFe/pJkVFwJ09//2CPoVHVQA9eE6a/pC\n",
       "sVnQjC7caL+brsWqAy39pWt5MFuCN6EUZjphjgAAAE4Bn9FqQr8CSMplGitclULTxE/IECSo3DeT\n",
       "S5pn3xYAD8CzUKQqLc5FcyzOcek2PTuU9P3cqFfz8iDWmZUBr6W+OMGkNbavSI1yu9ZnTwkAAAD2\n",
       "QZvWSahBbJlMCH///qmWAABXeFv+hvigAdCQAsSeVI2x9gg+TomhY4t4STWMZ1ZnnoMJmbHyGuTm\n",
       "peUijoi66cpS27119xvGdzalZ1ucCFrdYAuP1nHmy/PHwsVMWgnTk+j0PmzEWMVf1hRVXcViSlb1\n",
       "Z2C8CqnDoFViNtzXdp2iWX9SMWO5XMRbJH3WaRWG2PKeEh4AcDo+pAmcbXL5WZf4pljwcjl0FCOZ\n",
       "BCMzmsPKK52EUq4V+tf6AIF4Stim00VXU7bhGbk2gfeaLo0qjZWqOxsHLKXlHINnbjvIgqqL7Fl5\n",
       "HC8Qguo7TNIvrLh9Pt/Ppa5XAAAAXUGf9EUVLDP/AUKu8SfJwyJ0LFdegE7dUdoherItKf75ACah\n",
       "fAA+gs9XLgGoG7Oi05ZKZKagzgiDSvgOlNX7Q80Xxijo3gPzgEqdfiKfOpaIfm47Y0Yzb6CfnYza\n",
       "cAAAAEkBnhN0Qr8CR8BlEmcNuM7Pj+Lm5B2MEZ8xutpP7Z3U8AFw6Cl052htVBxhfHJziuiFgS5K\n",
       "uFnQIEYLi7uNJao2b5lWPJX88nS9AAAATgGeFWpCvwJIymUaK1yVQtPET8g8nsQAqRYTITYbhrsZ\n",
       "FqAwvK1ltGFmVhI5wcWhzXR+gJ84hUBRJZiHfCIS+I4QI5RCYbMcSV4CrRU5eAAAAIBBmhlJqEFs\n",
       "mUwIV//+OEAACo8HNs64AJ+81ZjcD5OTPM2wOTWIbDW+cl8qtkwBaE50iAtEMu/p4Pv584gTP79G\n",
       "dqVfrCsZy9lVeTYxIQ/o1KF0F6wFBrd0+VL1IMeCuOvY9Owqyv7Ui3wyXVbwJc2mpZiMQYa9L8ce\n",
       "vawHJAP77QAAAGxBnjdFFSwr/wJJXpJ66bPWvX7VAjlh6e0yX4uelGMAcw7ZPO6/PxrgF197rVmn\n",
       "LmSEcRU9U3mn/9MqFEFt5wQH7Wmvv7iquEp/LCYHHSvLYCwyNZF6cY4Hv32LMNLzIUDDFJJR/doz\n",
       "fCNdbOEAAABwAZ5YakK/AkjKZRorXJVC08RPyGXwxMy+OIAWHzlg0EUiuJJzpDn/JHdOEeFruN5B\n",
       "6+D4AEpGwCW1FqlDBsjZknkjVxzSoQFWjP77tr3ryx1aIJU1ZDUZAiAnxHvesU6GOTlA3Y2wqtcN\n",
       "IzAPxEWrkAAACONliIIABL/+963fgU3DKzVrulc4tMurlDQ9UfaUpni2SAAAAwADjh6zXRqSe5rQ\n",
       "aAAFvAAKaNG6lotWC+L/NsvsiNYmAS8NDeBYy+FeD1NYpbgA9RkFSFSQiASOwEBD37ZIernLiaKu\n",
       "2UMTaCsaxV4l8VBWi5P/wK+326+gG/Bg/DGQOHdoJv6/34jXzvE/PTOVcMnIdYzkSz5MHk4v17ia\n",
       "DXQ6xPjR73o+Ob10/Eq6W9KFIiYhkSQssOsab4udK9JXHkuOtopj8WDIGp6geZ/AUvBPngiTjBpl\n",
       "8RgtB2sFsOxqPaJOvIZjk31kcsVkViyXbXxlW9Si3Y6uLruG6IoZf51AblqImOvGBl4J4XT6x8KR\n",
       "qMik12D0kYxkDhtuQK+hpC0lfHB/zpcRJ/zTeTeuqwnQcrP6Hib2kfX/T7bHxsUunGxx4OtdvUXx\n",
       "CnFF5JrdLHv9A8rkXsrVy7v9PWFrHPkJjPM+pCOJbZcFVpQR/mflFkeIwK+YNDdLsdipf3gRbS16\n",
       "Sq3yh0mqqzQ0H6ehEPH3bcpFaKwNvt78AhnNCjHKGnMyAMkWbcP8fB+q4swxqQUrwwPx0uDULw+C\n",
       "L44BIip35dmUYRrpKJRFzss4Z4iJzeDU7zsDwQ6bYYSTfQT/XpSqz4uexqDzrryZcS519wAAAwA4\n",
       "WOpFzTi48QypGSM6ZW+dVRTBRb6NwspsjcmhiyLMp1wwNZPbduOaj46lpd31+v9kyQrkn14uBNys\n",
       "P7mPaD7HZQwYbvJjuR/S69DcGzOlLFcT5CjeGyzy9V1rbccOHugspSGIj1FSmId/Ss5I2bW6X+HO\n",
       "FTjiG/QKhF/Hn4uXjDwbTj81gQmKkK6h2+VkY02aeW+0TH3nGBPOdb8XruV5aq25nqNBn8WAg5OX\n",
       "TSDfWohbae/nj5S00oKB87yGJvCGokQzbR31kZFkqlKHJHrfEajNkT01UqW1U/B5/YKpJt5T1L/M\n",
       "1BzUbmIzAR1B39LdfkDROCzgef+XkGfAla1cUMQtF8mI/0LWXcTRFbmMxsS8xk+H26YkPfOmO6Ee\n",
       "dB9F1svwDNOPS9VH+VhGrCnqYfwmAPU7EwtImuvlqGToRpVb88TRZrGL6Y2PMLvuUA2YnqS7TSk8\n",
       "q0OpU1sW6Bn8neE2XY9MPDz/YDxF8UJJ0t45WS1Q83v/EYLxjHnwnVhJZY6yQDkoD5X8BysASN5i\n",
       "Xc0KA0h8swU1JIlJBfS1fVa2ezG0a1FyNA1bZWCs1e7lNJT4P/5BdJm2IkeNBy/zA/v/3gs0DvWf\n",
       "aYnt5bEz/mnhYI+9IUDWUHhRSEiswQxPxDCfp4LWzAJzLXgg9+1L+HOSYyb9x7IX5KbZJvIRDK6Z\n",
       "ILCcnAc4sj+iA8Vo+ZanjTfclPPuzyYauai74fz3Q7yMNXXnakrKmlSbgj9J+h7NiSVl8w7fPqdK\n",
       "w+GEuaGWH4HN9hOoFF5htgk3hVZcvWzrOeOMwWfmVTAV8hx+BwnVle2THFQRkwSzDN4UsD9akPD+\n",
       "1S2jBlfV35EcbV9HSIqo0DIuAAxXMThc+wchEnkiGOVi1Xcrfhx5D+IrXtzSoinUpeQYnCZdV+YO\n",
       "bKbP2SaPoAqWQ9N/BZ9lcCPtStLSY+Oq8gT9gi3YXF7FF7HyZCiihbbxmCTFdoDQGM+CiUL33txr\n",
       "aZ1LP5ltD4oBy3bpfXLU9NsHIB9F/6NpFPQnJtp7Jw8cMPCga74Rv2xBHNUvAVzV53YF57ZS3tIV\n",
       "1tJIOiAAzfFrEHFe5E2IpH7mXhzrFMzQwwCljGtH1laBshrxsJpsKAMwR3As3Dwd/InTkoB7HwCY\n",
       "y6nLxaMCVLD67Z9+HrU6inEsmx63D1944ixAOpiprXUFyhmFcaCzWXsLnGg/EBaWnoV0pdjrqepF\n",
       "b3ZYHcRjXthiMT5s7Yv75OMQHicP3UkWPRPo9S9xMx7VCCnNpsOeprqCxNHNRUxtfeYZk13p2mpF\n",
       "PId/50veb1r4L7sWSwh+F1WEWtCqDoydy4+Z3sKUc/8awMUZWHjeP8OxsgSTOFY0vCSRuDo4uSku\n",
       "5/OEJ/BKbX/bzSm9Kq8hyU9GBSDkeVwpY5Y5upfC5mMTkQzyGGzTGH6No7RGNStVEoluijZORGg4\n",
       "sL5p3q81T3FohXfkw12+cu3La4EbPEDe5PXwMzhRRjPMXT17WH4QsGPZqFzzyTVQPaoB2wIp3AU9\n",
       "lGjpybmdFFZHS6fEbAGPYP9C0Bu8dUH4pLGnzsOGIgB4jHIENU+ZsJbsNOgP7icSvwaSjrJIPaJI\n",
       "NOImOkg7JtFaIYy9mnTYkPY0qFB4p4G/Kdpsj2WzuIoe3zB/gxS7U2dI7r1qGHBbSwGZmdVwiwc5\n",
       "8666ln2T3ygj4Gfv+6hbfXG7nE0yGfgn3LWdED2Ph5dniRdh7Gxhhn6EJzWS4U4zF11Hrkqc1xnK\n",
       "1ewxA7gm9Pup4SSFJirPEiAPP4pPGtyEXjZYNNGp1Yzkq9/03ZivI6BanpTjLoy/DpB9uJLs0Xdc\n",
       "OKXfW3n2QC6Yp4FYIJDGdsBPUpduJdyqD5OZDjA1A35WnillZhwlqJt0C0BAyB02I68dr3QEOsIP\n",
       "Ucs5SovyapnMWRFCp0hX1FT7TqFvqKrrvx41zZcuLAV366VLsNFprogpoRzOd1WJVOtudzLMv0RK\n",
       "m5ghcVNe/KnVrSC5J1ORjU0hXCR8VY2d6KHyPv2j4/oDWVULlT1kk2kYUExNirCfOm0THNxqf4Yl\n",
       "1eGIU1FF70/c33Hc8TkPERTf5rHLEisseTU1lT2FlnN2B45Jsw09NyZV39rMLYyappeXGt74sNSz\n",
       "lRN7Y45D00CAqFs+MXZgs3OchNqTwyYSDNxD6KK6P/MiIiLFP5GGWusCr2p2jvUBBbHceFIlCfrK\n",
       "hwZ7qo+F74lo19o9UMOgh1dWUL7kdF0wuDuL0EepH4fUXRqv1czhqRuqvAuQqw+L1DNcJLvziJLt\n",
       "B79bJ9/xIUtXM21ulCRbagV58mnADW91k6qLzWPfeNradn4rXQi0DaUeYKpYmo4z5Ads2alaB+5E\n",
       "qnbagZGNAAAAs0GaJGxD//6plgAAXcWswCEfId2oDsl4MZCJj1FA8cNP0tPFnr8/zW21KEpZI8j7\n",
       "oWhefE/2i7r1oed4rwVrzyZcF7ZmrqlE0fmrxtIA2JXqGymFB9vOHUxr7vzlv2nKHGDPJFGjvl7t\n",
       "G9ORlTYyRYoavNpZGEWyH0wUYxw9lxeuxngP+AS7Z2zr604Fbcl3CiNQLpDCb7s6Y+As8TR2fjRi\n",
       "+3UnxvWEjjXZutnSR5Y4pTrAAAAANkGeQniGfwAAn0mYPVEXiWKvGP1IA2lCHLTNuww3LwF4xTgR\n",
       "rWmcF+cXTW8r4voocANUTeSDbwAAADwBnmF0Qr8AAJa5s/eAB+58IShZdbxYkI13v+gAEJZ/wFqL\n",
       "ElwIgxMdW7dmODf9RuUnZUKmut6xaP4vhYEAAAAmAZ5jakK/AAEl2AtKP4VQNuaAFs4yZ6ydku7A\n",
       "lo/p4PmJWVwGq0AAAACdQZpoSahBaJlMCH///qmWAABdu3VgEETo09sBMY1o5phRlPRbMoo+tgla\n",
       "DvBMcP2RGKcTwEDAeaoqy+oBdzAWRubtPt6vcxuA+6oxJt932G8mNfSDTWt2x1IDEWAuOP/hp4Xt\n",
       "oDXyrmlT8ey0BCbPiswss5CXxYNtjyZVPeEOIAcbBs81VnlnVxzwbvuEb1yjoOyG29jlQon0lJCf\n",
       "QAAAAB5BnoZFESwz/wAAn1NS0s9s7zRRNGq0swVxNOo/seEAAAAYAZ6ldEK/AAEldEdCgeHVXfpJ\n",
       "Tr4gDa2AAAAADwGep2pCvwABJdgLSioZMQAAABVBmqxJqEFsmUwIf//+qZYAAAMA8IAAAAASQZ7K\n",
       "RRUsM/8AAJ9TVWxxd9HBAAAADwGe6XRCvwABJXRHQmV9sQAAAA8BnutqQr8AASXYC0oqGTEAAAA/\n",
       "QZrwSahBbJlMCH///qmWAAAqXY4cAOWXvLi8gMAGsuOP4dVbUGXXqb0G0dBAA+KqWBZ0drgVDM8J\n",
       "/ds/0B4tAAAAFEGfDkUVLDP/AACfU1VscYDPClWgAAAADwGfLXRCvwABJXRHQmV9sAAAABEBny9q\n",
       "Qr8AASXYC0ord5T7qQAAABVBmzRJqEFsmUwIf//+qZYAAAMA8IAAAAASQZ9SRRUsM/8AAJ9TVWxx\n",
       "d9HAAAAADwGfcXRCvwABJXRHQmV9sQAAAA8Bn3NqQr8AASXYC0oqGTEAAAAVQZt4SahBbJlMCH//\n",
       "/qmWAAADAPCBAAAAEkGflkUVLDP/AACfU1VscXfRwAAAAA8Bn7V0Qr8AASV0R0JlfbAAAAAPAZ+3\n",
       "akK/AAEl2AtKKhkxAAAAFUGbvEmoQWyZTAh///6plgAAAwDwgAAAABJBn9pFFSwz/wAAn1NVbHF3\n",
       "0cAAAAAPAZ/5dEK/AAEldEdCZX2xAAAADwGf+2pCvwABJdgLSioZMAAAABVBm+BJqEFsmUwIf//+\n",
       "qZYAAAMA8IEAAAASQZ4eRRUsM/8AAJ9TVWxxd9HBAAAADwGePXRCvwABJXRHQmV9sAAAAA8Bnj9q\n",
       "Qr8AASXYC0oqGTEAAAAVQZokSahBbJlMCHf//qmWAAADAPCAAAAAEkGeQkUVLDP/AACfU1VscXfR\n",
       "wQAAAA8BnmF0Qr8AASV0R0JlfbEAAAAPAZ5jakK/AAEl2AtKKhkwAAAAFUGaaEmoQWyZTAh3//6p\n",
       "lgAAAwDwgAAAABJBnoZFFSwz/wAAn1NVbHF30cEAAAAPAZ6ldEK/AAEldEdCZX2wAAAADwGep2pC\n",
       "vwABJdgLSioZMQAAABRBmqxJqEFsmUwIb//+p4QAAAMB3QAAABJBnspFFSwz/wAAn1NVbHF30cEA\n",
       "AAAPAZ7pdEK/AAEldEdCZX2xAAAADwGe62pCvwABJdgLSioZMQAAABNBmu9JqEFsmUwIV//+OEAA\n",
       "ABxxAAAAEkGfDUUVLC//AADYRGH5qlftgAAAAA8Bny5qQr8AASXYC0oqGTAAABDibW9vdgAAAGxt\n",
       "dmhkAAAAAAAAAAAAAAAAAAAD6AAAOjQAAQAAAQAAAAAAAAAAAAAAAAEAAAAAAAAAAAAAAAAAAAAB\n",
       "AAAAAAAAAAAAAAAAAABAAAAAAAAAAAAAAAAAAAAAAAAAAAAAAAAAAAAAAAAAAgAAEAx0cmFrAAAA\n",
       "XHRraGQAAAADAAAAAAAAAAAAAAABAAAAAAAAOjQAAAAAAAAAAAAAAAAAAAAAAAEAAAAAAAAAAAAA\n",
       "AAAAAAABAAAAAAAAAAAAAAAAAABAAAAAAbAAAAEgAAAAAAAkZWR0cwAAABxlbHN0AAAAAAAAAAEA\n",
       "ADo0AAAEAAABAAAAAA+EbWRpYQAAACBtZGhkAAAAAAAAAAAAAAAAAAAoAAACVABVxAAAAAAALWhk\n",
       "bHIAAAAAAAAAAHZpZGUAAAAAAAAAAAAAAABWaWRlb0hhbmRsZXIAAAAPL21pbmYAAAAUdm1oZAAA\n",
       "AAEAAAAAAAAAAAAAACRkaW5mAAAAHGRyZWYAAAAAAAAAAQAAAAx1cmwgAAAAAQAADu9zdGJsAAAA\n",
       "s3N0c2QAAAAAAAAAAQAAAKNhdmMxAAAAAAAAAAEAAAAAAAAAAAAAAAAAAAAAAbABIABIAAAASAAA\n",
       "AAAAAAABAAAAAAAAAAAAAAAAAAAAAAAAAAAAAAAAAAAAAAAAAAAAGP//AAAAMWF2Y0MBZAAV/+EA\n",
       "GGdkABWs2UGwloQAAAMABAAAAwCgPFi2WAEABmjr48siwAAAABx1dWlka2hA8l8kT8W6OaUbzwMj\n",
       "8wAAAAAAAAAYc3R0cwAAAAAAAAABAAABKgAAAgAAAAAYc3RzcwAAAAAAAAACAAAAAQAAAPsAAAkY\n",
       "Y3R0cwAAAAAAAAEhAAAAAQAABAAAAAABAAAKAAAAAAEAAAQAAAAAAQAAAAAAAAABAAACAAAAAAEA\n",
       "AAoAAAAAAQAABAAAAAABAAAAAAAAAAEAAAIAAAAAAQAACgAAAAABAAAEAAAAAAEAAAAAAAAAAQAA\n",
       "AgAAAAABAAAKAAAAAAEAAAQAAAAAAQAAAAAAAAABAAACAAAAAAEAAAoAAAAAAQAABAAAAAABAAAA\n",
       "AAAAAAEAAAIAAAAAAQAACgAAAAABAAAEAAAAAAEAAAAAAAAAAQAAAgAAAAABAAAKAAAAAAEAAAQA\n",
       "AAAAAQAAAAAAAAABAAACAAAAAAEAAAoAAAAAAQAABAAAAAABAAAAAAAAAAEAAAIAAAAAAQAABgAA\n",
       "AAABAAACAAAAAAEAAAoAAAAAAQAABAAAAAABAAAAAAAAAAEAAAIAAAAAAQAACgAAAAABAAAEAAAA\n",
       "AAEAAAAAAAAAAQAAAgAAAAABAAAKAAAAAAEAAAQAAAAAAQAAAAAAAAABAAACAAAAAAEAAAoAAAAA\n",
       "AQAABAAAAAABAAAAAAAAAAEAAAIAAAAAAQAACAAAAAACAAACAAAAAAEAAAoAAAAAAQAABAAAAAAB\n",
       "AAAAAAAAAAEAAAIAAAAAAQAACgAAAAABAAAEAAAAAAEAAAAAAAAAAQAAAgAAAAABAAAKAAAAAAEA\n",
       "AAQAAAAAAQAAAAAAAAABAAACAAAAAAEAAAoAAAAAAQAABAAAAAABAAAAAAAAAAEAAAIAAAAAAQAA\n",
       "CgAAAAABAAAEAAAAAAEAAAAAAAAAAQAAAgAAAAABAAAKAAAAAAEAAAQAAAAAAQAAAAAAAAABAAAC\n",
       "AAAAAAEAAAoAAAAAAQAABAAAAAABAAAAAAAAAAEAAAIAAAAAAQAACgAAAAABAAAEAAAAAAEAAAAA\n",
       "AAAAAQAAAgAAAAABAAAIAAAAAAIAAAIAAAAAAQAACAAAAAACAAACAAAAAAEAAAoAAAAAAQAABAAA\n",
       "AAABAAAAAAAAAAEAAAIAAAAAAQAACAAAAAACAAACAAAAAAEAAAoAAAAAAQAABAAAAAABAAAAAAAA\n",
       "AAEAAAIAAAAAAQAACgAAAAABAAAEAAAAAAEAAAAAAAAAAQAAAgAAAAABAAAKAAAAAAEAAAQAAAAA\n",
       "AQAAAAAAAAABAAACAAAAAAEAAAoAAAAAAQAABAAAAAABAAAAAAAAAAEAAAIAAAAAAQAACAAAAAAC\n",
       "AAACAAAAAAEAAAoAAAAAAQAABAAAAAABAAAAAAAAAAEAAAIAAAAAAQAACgAAAAABAAAEAAAAAAEA\n",
       "AAAAAAAAAQAAAgAAAAABAAAKAAAAAAEAAAQAAAAAAQAAAAAAAAABAAACAAAAAAEAAAQAAAAAAQAA\n",
       "CgAAAAABAAAEAAAAAAEAAAAAAAAAAQAAAgAAAAABAAAKAAAAAAEAAAQAAAAAAQAAAAAAAAABAAAC\n",
       "AAAAAAEAAAoAAAAAAQAABAAAAAABAAAAAAAAAAEAAAIAAAAAAQAACgAAAAABAAAEAAAAAAEAAAAA\n",
       "AAAAAQAAAgAAAAABAAAKAAAAAAEAAAQAAAAAAQAAAAAAAAABAAACAAAAAAEAAAoAAAAAAQAABAAA\n",
       "AAABAAAAAAAAAAEAAAIAAAAAAQAACgAAAAABAAAEAAAAAAEAAAAAAAAAAQAAAgAAAAABAAAKAAAA\n",
       "AAEAAAQAAAAAAQAAAAAAAAABAAACAAAAAAEAAAoAAAAAAQAABAAAAAABAAAAAAAAAAEAAAIAAAAA\n",
       "AQAACgAAAAABAAAEAAAAAAEAAAAAAAAAAQAAAgAAAAABAAAKAAAAAAEAAAQAAAAAAQAAAAAAAAAB\n",
       "AAACAAAAAAEAAAoAAAAAAQAABAAAAAABAAAAAAAAAAEAAAIAAAAAAQAACgAAAAABAAAEAAAAAAEA\n",
       "AAAAAAAAAQAAAgAAAAABAAAKAAAAAAEAAAQAAAAAAQAAAAAAAAABAAACAAAAAAEAAAoAAAAAAQAA\n",
       "BAAAAAABAAAAAAAAAAEAAAIAAAAAAQAACgAAAAABAAAEAAAAAAEAAAAAAAAAAQAAAgAAAAABAAAG\n",
       "AAAAAAEAAAIAAAAAAQAACgAAAAABAAAEAAAAAAEAAAAAAAAAAQAAAgAAAAABAAAKAAAAAAEAAAQA\n",
       "AAAAAQAAAAAAAAABAAACAAAAAAEAAAoAAAAAAQAABAAAAAABAAAAAAAAAAEAAAIAAAAAAQAACgAA\n",
       "AAABAAAEAAAAAAEAAAAAAAAAAQAAAgAAAAABAAAIAAAAAAIAAAIAAAAAAQAACgAAAAABAAAEAAAA\n",
       "AAEAAAAAAAAAAQAAAgAAAAABAAAKAAAAAAEAAAQAAAAAAQAAAAAAAAABAAACAAAAAAEAAAoAAAAA\n",
       "AQAABAAAAAABAAAAAAAAAAEAAAIAAAAAAQAACgAAAAABAAAEAAAAAAEAAAAAAAAAAQAAAgAAAAAB\n",
       "AAAIAAAAAAIAAAIAAAAAAQAACgAAAAABAAAEAAAAAAEAAAAAAAAAAQAAAgAAAAABAAAKAAAAAAEA\n",
       "AAQAAAAAAQAAAAAAAAABAAACAAAAAAEAAAoAAAAAAQAABAAAAAABAAAAAAAAAAEAAAIAAAAAAQAA\n",
       "CAAAAAACAAACAAAAAAEAAAQAAAAAAQAACgAAAAABAAAEAAAAAAEAAAAAAAAAAQAAAgAAAAABAAAK\n",
       "AAAAAAEAAAQAAAAAAQAAAAAAAAABAAACAAAAAAEAAAoAAAAAAQAABAAAAAABAAAAAAAAAAEAAAIA\n",
       "AAAAAQAACgAAAAABAAAEAAAAAAEAAAAAAAAAAQAAAgAAAAABAAAKAAAAAAEAAAQAAAAAAQAAAAAA\n",
       "AAABAAACAAAAAAEAAAoAAAAAAQAABAAAAAABAAAAAAAAAAEAAAIAAAAAAQAACgAAAAABAAAEAAAA\n",
       "AAEAAAAAAAAAAQAAAgAAAAABAAAKAAAAAAEAAAQAAAAAAQAAAAAAAAABAAACAAAAAAEAAAoAAAAA\n",
       "AQAABAAAAAABAAAAAAAAAAEAAAIAAAAAAQAACgAAAAABAAAEAAAAAAEAAAAAAAAAAQAAAgAAAAAB\n",
       "AAAKAAAAAAEAAAQAAAAAAQAAAAAAAAABAAACAAAAAAEAAAgAAAAAAgAAAgAAAAAcc3RzYwAAAAAA\n",
       "AAABAAAAAQAAASoAAAABAAAEvHN0c3oAAAAAAAAAAAAAASoAAAk9AAAArwAAAD8AAAA4AAAAPgAA\n",
       "AI4AAABAAAAAMAAAADQAAACrAAAAVQAAADoAAABXAAAAiQAAAF8AAABTAAAAPAAAAF0AAAAtAAAA\n",
       "JgAAABoAAACHAAAAOgAAAB4AAAAoAAAAtAAAAEcAAAAqAAAAMQAAAMoAAAA9AAAAJgAAAD8AAADQ\n",
       "AAAAXgAAANcAAAByAAAAUAAAAG8AAADvAAAAhAAAAHoAAACHAAABDQAAAJEAAABsAAAAXAAAAR0A\n",
       "AACXAAAAiQAAAHwAAAC1AAAAhgAAAJIAAAEWAAAAqgAAAGsAAACMAAABHQAAAKkAAACXAAAAfwAA\n",
       "APYAAADIAAAAfgAAAJEAAADlAAAAiwAAAHUAAACNAAABCAAAAJ8AAACCAAAAfQAAAOkAAACsAAAA\n",
       "lAAAAJYAAAEAAAAAuwAAAIUAAACqAAABBQAAAKMAAAB0AAAAlgAAAOEAAACjAAAAnAAAAPsAAACm\n",
       "AAAAxAAAARwAAACuAAAAewAAALEAAADkAAAArgAAAIgAAAEpAAAAqQAAAKUAAAB1AAAA+AAAAI4A\n",
       "AACEAAAAgQAAAPMAAACuAAAAXgAAAGcAAADuAAAAqgAAAGsAAABiAAAA2QAAAI0AAAByAAAA8wAA\n",
       "AKYAAAChAAAAjgAAAPMAAACkAAAAlAAAAIMAAAEIAAAApQAAAKQAAACBAAABDgAAASEAAADAAAAA\n",
       "iAAAAH8AAAEQAAAArwAAAIoAAACPAAABGgAAAJYAAACPAAAAlQAAASgAAACSAAAAfwAAAHQAAAFE\n",
       "AAAAkAAAAI4AAACZAAABSgAAAI0AAACQAAAAYwAAAWkAAACwAAAAeAAAAHwAAAEZAAAAqwAAAIkA\n",
       "AAB1AAABCwAAAKQAAACEAAAAiAAAATIAAACXAAAAewAAAIkAAAERAAAArAAAAIsAAACUAAAA+AAA\n",
       "AJ8AAAB6AAAAZwAAAQYAAADFAAAAcwAAAK4AAAD4AAAAegAAAHIAAAB0AAAA0AAAAIYAAABpAAAA\n",
       "aQAAAQAAAACVAAAAewAAAG8AAACxAAAAaQAAAKsAAABpAAAAWAAAAFUAAADtAAAAdQAAAEUAAABm\n",
       "AAAA7wAAAHYAAABtAAAAbQAAAQoAAACIAAAAXgAAAGkAAADrAAAAggAAAIkAAADiAAAAcgAAAFAA\n",
       "AABiAAAA2gAAAHcAAABTAAAAZgAAALMAAACHAAAAZAAAAGAAAAEtAAAAhQAAAHwAAAByAAABIwAA\n",
       "AI8AAABtAAABIgAAAIwAAABOAAAAYwAAARMAAAB/AAAAdQAAAFIAAAD6AAAAYQAAAE0AAABSAAAA\n",
       "hAAAAHAAAAB0AAAI5wAAALcAAAA6AAAAQAAAACoAAAChAAAAIgAAABwAAAATAAAAGQAAABYAAAAT\n",
       "AAAAEwAAAEMAAAAYAAAAEwAAABUAAAAZAAAAFgAAABMAAAATAAAAGQAAABYAAAATAAAAEwAAABkA\n",
       "AAAWAAAAEwAAABMAAAAZAAAAFgAAABMAAAATAAAAGQAAABYAAAATAAAAEwAAABkAAAAWAAAAEwAA\n",
       "ABMAAAAYAAAAFgAAABMAAAATAAAAFwAAABYAAAATAAAAFHN0Y28AAAAAAAAAAQAAACwAAABidWR0\n",
       "YQAAAFptZXRhAAAAAAAAACFoZGxyAAAAAAAAAABtZGlyYXBwbAAAAAAAAAAAAAAAAC1pbHN0AAAA\n",
       "Jal0b28AAAAdZGF0YQAAAAEAAAAATGF2ZjU4LjI5LjEwMA==\n",
       "\">\n",
       "  Your browser does not support the video tag.\n",
       "</video>"
      ],
      "text/plain": [
       "<IPython.core.display.HTML object>"
      ]
     },
     "metadata": {},
     "output_type": "display_data"
    }
   ],
   "source": [
    "# Play animation in notebook\n",
    "html = display.HTML(vid.to_html5_video())\n",
    "display.display(html)\n",
    "plt.close() "
   ]
  },
  {
   "cell_type": "markdown",
   "id": "generic-valentine",
   "metadata": {},
   "source": [
    "### Create Videos of Model"
   ]
  },
  {
   "cell_type": "code",
   "execution_count": 19,
   "id": "small-helping",
   "metadata": {},
   "outputs": [
    {
     "name": "stderr",
     "output_type": "stream",
     "text": [
      "/home/aaron/anaconda3/envs/ml/lib/python3.9/site-packages/ipykernel/ipkernel.py:283: DeprecationWarning: `should_run_async` will not call `transform_cell` automatically in the future. Please pass the result to `transformed_cell` argument and any exception that happen during thetransform in `preprocessing_exc_tuple` in IPython 7.17 and above.\n",
      "  and should_run_async(code)\n"
     ]
    }
   ],
   "source": [
    "create_videos = True\n",
    "videos_per_model = 5"
   ]
  },
  {
   "cell_type": "code",
   "execution_count": null,
   "id": "quiet-registration",
   "metadata": {},
   "outputs": [],
   "source": [
    "if create_videos:\n",
    "    model_episodes = set([1, 10, 25, 50, 75, 100, 150, 200, 250, 300, 350, 400, 450, 500])\n",
    "    import os\n",
    "    video_folder = 'videos'\n",
    "    if not os.path.exists(video_folder):\n",
    "        os.makedirs(video_folder)\n",
    "        \n",
    "    for episode in sorted(model_episodes):\n",
    "        text = '{} episode'.format(episode) if episode == 1 else '{} episodes'.format(episode)\n",
    "        text = 'Model after ' + text\n",
    "        \n",
    "        path = 'Q_policy_model_episodes_{}.pt'.format(episode)\n",
    "        agent.Q_policy_nn.load_state_dict(torch.load(path))\n",
    "        \n",
    "        for i in range(videos_per_model):\n",
    "            vid = create_episode_video(env, agent, text=text)\n",
    "            vid.save('videos/Model_Episodes_{}_{}.mp4'.format(episode, i), writer='ffmpeg', fps=30)\n",
    "            \n",
    "    # Create additional videos for last model\n",
    "    episode = sorted(model_episodes)[-1]\n",
    "    path = 'Q_policy_model_episodes_{}.pt'.format(episode)\n",
    "    agent.Q_policy_nn.load_state_dict(torch.load(path))\n",
    "    text = '{} episode'.format(episode) if episode == 1 else '{} episodes'.format(episode)\n",
    "    text = 'Model after ' + text\n",
    "    for i in range(videos_per_model, 25):\n",
    "        vid = create_episode_video(env, agent, text=text)\n",
    "        vid.save('videos/Model_Episodes_{}_{}.mp4'.format(episode, i), writer='ffmpeg', fps=30)"
   ]
  },
  {
   "cell_type": "markdown",
   "id": "centered-method",
   "metadata": {},
   "source": [
    "# Additional Analysis"
   ]
  },
  {
   "cell_type": "markdown",
   "id": "legitimate-puzzle",
   "metadata": {},
   "source": [
    "## Train without Target Network"
   ]
  },
  {
   "cell_type": "code",
   "execution_count": 16,
   "id": "legislative-iraqi",
   "metadata": {},
   "outputs": [],
   "source": [
    "agent2 = DQN_Agent(gamma=0.99, epsilon=1.0, n_actions=4, input_size=8, lr=0.001,\n",
    "                  epsilon_min=0.1, epsilon_decay=0.9999,\n",
    "                  batch_size=64, max_mem_size=100000, use_target_net=False)"
   ]
  },
  {
   "cell_type": "code",
   "execution_count": null,
   "id": "graphic-demand",
   "metadata": {},
   "outputs": [],
   "source": [
    "initial_training_data2 = {'scores':[], 'epsilons':[], 'gamma':agent2.gamma, 'lr':agent2.lr,\n",
    "                         'epsilon_start':agent2.epsilon, 'epsilon_min':agent2.epsilon_min, \n",
    "                         'epsilon_decay':agent2.epsilon_decay, 'batch_size':agent2.batch_size,\n",
    "                        'max_mem_size':agent2.max_mem_size,\n",
    "                         'target_update_itnerval':agent2.target_update_interval}\n",
    "\n",
    "scores = []\n",
    "epsilons = []\n",
    "\n",
    "episodes = 500\n",
    "\n",
    "initial_training_data2['epsiodes'] = episodes\n",
    "\n",
    "learn_n = 1\n",
    "counter = 0\n",
    "for i in range(episodes):\n",
    "    score = 0\n",
    "    done = False\n",
    "    state = env.reset()\n",
    "    while not done:\n",
    "        action = agent2.select_action(state)\n",
    "        next_state, reward, done, info = env.step(action)\n",
    "        score += reward\n",
    "        agent2.add_transition(state, action, reward, \n",
    "                                next_state, done)\n",
    "        state = next_state\n",
    "        \n",
    "        #if counter % learn_n == 0:\n",
    "        agent2.learn()\n",
    "        #counter += 1\n",
    "    initial_training_data2['scores'].append(score)\n",
    "    initial_training_data2['epsilons'].append(agent.epsilon)\n",
    "\n",
    "    avg_score = np.mean(initial_training_data2['scores'][-100:])\n",
    "\n",
    "    print('Episode: {} \\tScore: {:.2f} \\tAverage Score: {:.2f} \\tEpsilon: {:.2f}'.format(\n",
    "             i, initial_training_data2['scores'][i], avg_score, initial_training_data2['epsilons'][i]))"
   ]
  },
  {
   "cell_type": "code",
   "execution_count": 19,
   "id": "antique-compromise",
   "metadata": {},
   "outputs": [],
   "source": [
    "initial_train_file2 = 'initial_model_no_target_net.json'"
   ]
  },
  {
   "cell_type": "code",
   "execution_count": 20,
   "id": "vital-gilbert",
   "metadata": {},
   "outputs": [],
   "source": [
    "# Save the data\n",
    "with open(initial_train_file2, 'w') as json_file:\n",
    "    json.dump(initial_training_data2, json_file)"
   ]
  },
  {
   "cell_type": "code",
   "execution_count": 21,
   "id": "ordered-chair",
   "metadata": {},
   "outputs": [],
   "source": [
    "# Load saved data\n",
    "with open(initial_train_file2, 'r') as json_file:\n",
    "    initial_training_data2 = json.load(json_file)"
   ]
  },
  {
   "cell_type": "code",
   "execution_count": 22,
   "id": "intelligent-validation",
   "metadata": {},
   "outputs": [
    {
     "data": {
      "image/png": "[encoded data removed]",
      "text/plain": [
       "<Figure size 360x360 with 1 Axes>"
      ]
     },
     "metadata": {
      "needs_background": "light"
     },
     "output_type": "display_data"
    }
   ],
   "source": [
    "rolling_average = 50\n",
    "avg_scores = pd.DataFrame(initial_training_data2['scores']).rolling(rolling_average).mean()\n",
    "\n",
    "fig, (ax1) = plt.subplots(1, 1, figsize=(5,5))\n",
    "\n",
    "ax1.plot(range(len(avg_scores)), avg_scores)\n",
    "\n",
    "ax1.set_xlabel(\"Episode\")\n",
    "ax1.set_ylabel(\"Score (Average Over {} Episodes)\".format(rolling_average))\n",
    "ax1.set_title(\"Average Score vs Episode\")\n",
    "\n",
    "fig.suptitle('Initial Training (Without Target Network)')\n",
    "\n",
    "plt.show()"
   ]
  },
  {
   "cell_type": "markdown",
   "id": "accomplished-excess",
   "metadata": {},
   "source": [
    "# Tune Hyperparameters"
   ]
  },
  {
   "cell_type": "code",
   "execution_count": 7,
   "id": "chinese-estate",
   "metadata": {},
   "outputs": [
    {
     "data": {
      "text/plain": [
       "[1]"
      ]
     },
     "execution_count": 7,
     "metadata": {},
     "output_type": "execute_result"
    }
   ],
   "source": [
    "env = gym.make('LunarLander-v2')\n",
    "env.seed(1)"
   ]
  },
  {
   "cell_type": "code",
   "execution_count": 8,
   "id": "pleasant-sleeping",
   "metadata": {},
   "outputs": [],
   "source": [
    "num_episodes = 500\n",
    "\n",
    "target_update_interval = 10\n",
    "\n",
    "rolling_average = 50"
   ]
  },
  {
   "cell_type": "code",
   "execution_count": 9,
   "id": "curious-mortgage",
   "metadata": {},
   "outputs": [],
   "source": [
    "# Variable to change save path of data\n",
    "run_name = '_{}'.format(num_episodes)"
   ]
  },
  {
   "cell_type": "markdown",
   "id": "static-wiring",
   "metadata": {},
   "source": [
    "## Learning Rate"
   ]
  },
  {
   "cell_type": "code",
   "execution_count": 24,
   "id": "further-energy",
   "metadata": {},
   "outputs": [],
   "source": [
    "lrs = [0.05, 0.01, 0.005, 0.001, 0.0001]\n",
    "lr_tuning_data = dict()"
   ]
  },
  {
   "cell_type": "code",
   "execution_count": 25,
   "id": "integral-ghana",
   "metadata": {},
   "outputs": [
    {
     "name": "stdout",
     "output_type": "stream",
     "text": [
      "Learning Rate: 0.05\n",
      "Learning Rate: 0.01\n",
      "Learning Rate: 0.005\n",
      "Learning Rate: 0.001\n",
      "Learning Rate: 0.0001\n"
     ]
    }
   ],
   "source": [
    "# num_episodes = 2500\n",
    "\n",
    "learn_every_n = 1 # Change to learn every n instance\n",
    "\n",
    "# Fixed parameter values\n",
    "gamma=0.99\n",
    "epsilon=1.0\n",
    "epsilon_min=0.1\n",
    "epsilon_decay=0.9999\n",
    "batch_size=64\n",
    "max_mem_size=100000\n",
    "\n",
    "for lr in lrs:\n",
    "    print('Learning Rate:', lr)\n",
    "    \n",
    "    lr_tuning_data[lr] = {'episode_index':[], 'scores':[], 'episode_train_times':[], 'epsilons':[],\n",
    "        'gamma':gamma, 'epsilon_start':epsilon, 'epsilon_min':epsilon_min, 'epsilon_decay':epsilon_decay,\n",
    "        'batch_size':batch_size, 'max_mem_size':max_mem_size, 'learn_every_n':learn_every_n, 'total_time':-1,\n",
    "                         'target_update_interval':target_update_interval}\n",
    "    \n",
    "    tuning_agent = DQN_Agent(gamma=gamma, epsilon=epsilon, n_actions=4, input_size=8, lr=lr,\n",
    "                  epsilon_min=epsilon_min, epsilon_decay=epsilon_decay,\n",
    "                  batch_size=batch_size, max_mem_size=max_mem_size, target_update_interval=target_update_interval)\n",
    "    \n",
    "\n",
    "    counter = 0\n",
    "    \n",
    "    start_time = time.time()\n",
    "    last_time = start_time\n",
    "    for i in range(num_episodes):\n",
    "        lr_tuning_data[lr]['episode_index'].append(i)\n",
    "        \n",
    "        score = 0\n",
    "        done = False\n",
    "        state = env.reset()\n",
    "        while not done:\n",
    "            action = tuning_agent.select_action(state)\n",
    "            next_state, reward, done, info = env.step(action)\n",
    "            score += reward\n",
    "            tuning_agent.add_transition(state, action, reward, \n",
    "                                    next_state, done)\n",
    "            state = next_state\n",
    "\n",
    "            if counter % learn_every_n == 0:\n",
    "                tuning_agent.learn()\n",
    "            counter += 1\n",
    "        lr_tuning_data[lr]['scores'].append(score)\n",
    "        lr_tuning_data[lr]['epsilons'].append(tuning_agent.epsilon)\n",
    "        \n",
    "        current_time = time.time()\n",
    "        lr_tuning_data[lr]['episode_train_times'].append(current_time-last_time)\n",
    "        last_time = current_time\n",
    "\n",
    "        avg_score = np.mean(lr_tuning_data[lr]['scores'][-100:])\n",
    "        \n",
    "        #print('\\tEpisode: {} Score: {:.2f} Average Score: {:.2f}'.format(i, score, avg_score))\n",
    "        \n",
    "    lr_tuning_data[lr]['total_time'] = time.time()-start_time"
   ]
  },
  {
   "cell_type": "code",
   "execution_count": 15,
   "id": "level-september",
   "metadata": {},
   "outputs": [],
   "source": [
    "lr_json_file = 'lunar_lander_lr_tuning{}.json'.format(run_name)"
   ]
  },
  {
   "cell_type": "code",
   "execution_count": 27,
   "id": "formal-amendment",
   "metadata": {},
   "outputs": [],
   "source": [
    "# Save the data\n",
    "with open(lr_json_file, 'w') as json_file:\n",
    "    json.dump(lr_tuning_data, json_file)"
   ]
  },
  {
   "cell_type": "code",
   "execution_count": 16,
   "id": "variable-source",
   "metadata": {},
   "outputs": [],
   "source": [
    "# Load saved data\n",
    "with open(lr_json_file, 'r') as json_file:\n",
    "    lr_tuning_data = json.load(json_file)"
   ]
  },
  {
   "cell_type": "code",
   "execution_count": 17,
   "id": "disciplinary-arthur",
   "metadata": {},
   "outputs": [
    {
     "data": {
      "image/png": "[encoded data removed]",
      "text/plain": [
       "<Figure size 360x360 with 1 Axes>"
      ]
     },
     "metadata": {
      "needs_background": "light"
     },
     "output_type": "display_data"
    }
   ],
   "source": [
    "saved_lrs = [float(lr) for lr in lr_tuning_data.keys()]\n",
    "saved_scores = {float(lr):[score for score in lr_tuning_data[lr]['scores']] for lr in lr_tuning_data.keys()}\n",
    "\n",
    "# rolling_average = 500\n",
    "avg_scores = {float(lr):pd.DataFrame(saved_scores[lr]).rolling(rolling_average).mean()\n",
    "              for lr in saved_scores.keys()}\n",
    "\n",
    "\n",
    "\n",
    "fig, (ax1) = plt.subplots(1, 1, figsize=(5,5))\n",
    "\n",
    "for lr in saved_lrs:\n",
    "    ax1.plot(range(len(avg_scores[lr])), avg_scores[lr], label=lr)\n",
    "\n",
    "ax1.set_xlabel(\"Episode\")\n",
    "ax1.set_ylabel(\"Score (Average Over {} Episodes)\".format(rolling_average))\n",
    "ax1.set_title(\"Average Score vs Episode\")\n",
    "ax1.legend(title='Learning Rate')\n",
    "\n",
    "fig.suptitle('Learning Rate')\n",
    "\n",
    "plt.show()"
   ]
  },
  {
   "cell_type": "markdown",
   "id": "understood-charity",
   "metadata": {},
   "source": [
    "## Epsilon Min"
   ]
  },
  {
   "cell_type": "code",
   "execution_count": 16,
   "id": "flexible-navigation",
   "metadata": {},
   "outputs": [],
   "source": [
    "epsilon_mins = [0.2, 0.1, 0.05, 0.01, 0.005]\n",
    "eps_min_tuning_data = dict()"
   ]
  },
  {
   "cell_type": "code",
   "execution_count": 17,
   "id": "continental-swimming",
   "metadata": {
    "scrolled": true
   },
   "outputs": [
    {
     "name": "stdout",
     "output_type": "stream",
     "text": [
      "Epsilon Min: 0.2\n",
      "Epsilon Min: 0.1\n",
      "Epsilon Min: 0.05\n",
      "Epsilon Min: 0.01\n",
      "Epsilon Min: 0.005\n"
     ]
    }
   ],
   "source": [
    "# num_episodes = 2500\n",
    "\n",
    "learn_every_n = 1 # Change to learn every n instance\n",
    "\n",
    "# Fixed parameter values\n",
    "gamma=0.99\n",
    "epsilon=1.0\n",
    "lr=0.001\n",
    "epsilon_decay=0.9999\n",
    "batch_size=64\n",
    "max_mem_size=100000\n",
    "\n",
    "for epsilon_min in epsilon_mins:\n",
    "    print('Epsilon Min:', epsilon_min)\n",
    "    \n",
    "    eps_min_tuning_data[epsilon_min] = {'episode_index':[], 'scores':[], 'episode_train_times':[], 'epsilons':[],\n",
    "        'lr':lr, 'gamma':gamma, 'epsilon_start':epsilon, 'epsilon_decay':epsilon_decay,\n",
    "        'batch_size':batch_size, 'max_mem_size':max_mem_size, 'learn_every_n':learn_every_n, 'total_time':-1,\n",
    "                                       'target_update_interval':target_update_interval}\n",
    "    \n",
    "    tuning_agent = DQN_Agent(gamma=gamma, epsilon=epsilon, n_actions=4, input_size=8, lr=lr,\n",
    "                  epsilon_min=epsilon_min, epsilon_decay=epsilon_decay,\n",
    "                  batch_size=batch_size, max_mem_size=max_mem_size, target_update_interval=target_update_interval)\n",
    "    \n",
    "\n",
    "    counter = 0\n",
    "    \n",
    "    start_time = time.time()\n",
    "    last_time = start_time\n",
    "    for i in range(num_episodes):\n",
    "        eps_min_tuning_data[epsilon_min]['episode_index'].append(i)\n",
    "        \n",
    "        score = 0\n",
    "        done = False\n",
    "        state = env.reset()\n",
    "        while not done:\n",
    "            action = tuning_agent.select_action(state)\n",
    "            next_state, reward, done, info = env.step(action)\n",
    "            score += reward\n",
    "            tuning_agent.add_transition(state, action, reward, \n",
    "                                    next_state, done)\n",
    "            state = next_state\n",
    "\n",
    "            if counter % learn_every_n == 0:\n",
    "                tuning_agent.learn()\n",
    "            counter += 1\n",
    "        eps_min_tuning_data[epsilon_min]['scores'].append(score)\n",
    "        eps_min_tuning_data[epsilon_min]['epsilons'].append(tuning_agent.epsilon)\n",
    "        \n",
    "        current_time = time.time()\n",
    "        eps_min_tuning_data[epsilon_min]['episode_train_times'].append(current_time-last_time)\n",
    "        last_time = current_time\n",
    "\n",
    "        avg_score = np.mean(eps_min_tuning_data[epsilon_min]['scores'][-100:])\n",
    "        \n",
    "        #print('\\tEpisode: {} Score: {:.2f} Average Score: {:.2f} Epsilon: {:.3f}'.format(i, score, avg_score, \n",
    "        #                                                            tuning_agent.epsilon))\n",
    "        \n",
    "    eps_min_tuning_data[epsilon_min]['total_time'] = time.time()-start_time"
   ]
  },
  {
   "cell_type": "code",
   "execution_count": 19,
   "id": "threatened-services",
   "metadata": {},
   "outputs": [],
   "source": [
    "eps_min_json_file = 'lunar_lander_eps_min_tuning{}.json'.format(run_name)"
   ]
  },
  {
   "cell_type": "code",
   "execution_count": 19,
   "id": "broad-commons",
   "metadata": {},
   "outputs": [],
   "source": [
    "# Save the data\n",
    "with open(eps_min_json_file, 'w') as json_file:\n",
    "    json.dump(eps_min_tuning_data, json_file)"
   ]
  },
  {
   "cell_type": "code",
   "execution_count": 20,
   "id": "southwest-wednesday",
   "metadata": {},
   "outputs": [],
   "source": [
    "# Load saved data\n",
    "with open(eps_min_json_file, 'r') as json_file:\n",
    "    eps_min_tuning_data = json.load(json_file)"
   ]
  },
  {
   "cell_type": "code",
   "execution_count": 21,
   "id": "available-pulse",
   "metadata": {},
   "outputs": [
    {
     "data": {
      "image/png": "[encoded data removed]",
      "text/plain": [
       "<Figure size 360x360 with 1 Axes>"
      ]
     },
     "metadata": {
      "needs_background": "light"
     },
     "output_type": "display_data"
    }
   ],
   "source": [
    "saved_eps_mins = [float(eps_min) for eps_min in eps_min_tuning_data.keys()]\n",
    "saved_scores = {float(eps_min):[score for score in eps_min_tuning_data[eps_min]['scores']] \n",
    "                for eps_min in eps_min_tuning_data.keys()}\n",
    "\n",
    "# rolling_average = 500\n",
    "avg_scores = {float(eps_min):pd.DataFrame(saved_scores[eps_min]).rolling(rolling_average).mean()\n",
    "              for eps_min in saved_scores.keys()}\n",
    "\n",
    "\n",
    "\n",
    "fig, (ax1) = plt.subplots(1, 1, figsize=(5,5))\n",
    "\n",
    "for eps_min in saved_eps_mins:\n",
    "    ax1.plot(range(len(avg_scores[eps_min])), avg_scores[eps_min], label=eps_min)\n",
    "\n",
    "ax1.set_xlabel(\"Episode\")\n",
    "ax1.set_ylabel(\"Score (Average Over {} Episodes)\".format(rolling_average))\n",
    "ax1.set_title(\"Average Score vs Episode\")\n",
    "ax1.legend(title='Epsilon Min')\n",
    "\n",
    "fig.suptitle('Epsilon Min')\n",
    "\n",
    "plt.show()"
   ]
  },
  {
   "cell_type": "markdown",
   "id": "daily-method",
   "metadata": {},
   "source": [
    "## Epsilon Decay"
   ]
  },
  {
   "cell_type": "code",
   "execution_count": 22,
   "id": "cooperative-nursing",
   "metadata": {},
   "outputs": [],
   "source": [
    "epsilon_decays = [0.999, 0.9999, 0.99995, 0.99999, 0.999999]\n",
    "eps_decay_tuning_data = dict()"
   ]
  },
  {
   "cell_type": "code",
   "execution_count": 23,
   "id": "constitutional-possible",
   "metadata": {},
   "outputs": [
    {
     "name": "stdout",
     "output_type": "stream",
     "text": [
      "Epsilon Decay: 0.999\n",
      "Epsilon Decay: 0.9999\n",
      "Epsilon Decay: 0.99995\n",
      "Epsilon Decay: 0.99999\n",
      "Epsilon Decay: 0.999999\n"
     ]
    }
   ],
   "source": [
    "learn_every_n = 1 # Change to learn every n instance\n",
    "\n",
    "# Fixed parameter values\n",
    "gamma=0.99\n",
    "epsilon=1.0\n",
    "lr=0.001\n",
    "epsilon_min=0.1\n",
    "batch_size=64\n",
    "max_mem_size=100000\n",
    "\n",
    "for epsilon_decay in epsilon_decays:\n",
    "    print('Epsilon Decay:', epsilon_decay)\n",
    "    \n",
    "    eps_decay_tuning_data[epsilon_decay] = {'episode_index':[], 'scores':[], 'episode_train_times':[], 'epsilons':[],\n",
    "        'lr':lr, 'gamma':gamma, 'epsilon_start':epsilon, 'epsilon_min':epsilon_min,\n",
    "        'batch_size':batch_size, 'max_mem_size':max_mem_size, 'learn_every_n':learn_every_n, 'total_time':-1,\n",
    "                                           'target_update_interval':target_update_interval}\n",
    "    \n",
    "    tuning_agent = DQN_Agent(gamma=gamma, epsilon=epsilon, n_actions=4, input_size=8, lr=lr,\n",
    "                  epsilon_min=epsilon_min, epsilon_decay=epsilon_decay,\n",
    "                  batch_size=batch_size, max_mem_size=max_mem_size, target_update_interval=target_update_interval)\n",
    "    \n",
    "\n",
    "    counter = 0\n",
    "    \n",
    "    start_time = time.time()\n",
    "    last_time = start_time\n",
    "    for i in range(num_episodes):\n",
    "        eps_decay_tuning_data[epsilon_decay]['episode_index'].append(i)\n",
    "        \n",
    "        score = 0\n",
    "        done = False\n",
    "        state = env.reset()\n",
    "        while not done:\n",
    "            action = tuning_agent.select_action(state)\n",
    "            next_state, reward, done, info = env.step(action)\n",
    "            score += reward\n",
    "            tuning_agent.add_transition(state, action, reward, \n",
    "                                    next_state, done)\n",
    "            state = next_state\n",
    "\n",
    "            if counter % learn_every_n == 0:\n",
    "                tuning_agent.learn()\n",
    "            counter += 1\n",
    "        eps_decay_tuning_data[epsilon_decay]['scores'].append(score)\n",
    "        eps_decay_tuning_data[epsilon_decay]['epsilons'].append(tuning_agent.epsilon)\n",
    "        \n",
    "        current_time = time.time()\n",
    "        eps_decay_tuning_data[epsilon_decay]['episode_train_times'].append(current_time-last_time)\n",
    "        last_time = current_time\n",
    "\n",
    "        avg_score = np.mean(eps_decay_tuning_data[epsilon_decay]['scores'][-100:])\n",
    "        \n",
    "        #print('\\tEpisode: {} Score: {:.2f} Average Score: {:.2f} Epsilon: {:.2f}'.format(i, score, avg_score, \n",
    "        #                                                            tuning_agent.epsilon))\n",
    "        \n",
    "    eps_decay_tuning_data[epsilon_decay]['total_time'] = time.time()-start_time"
   ]
  },
  {
   "cell_type": "code",
   "execution_count": 11,
   "id": "tamil-cleaning",
   "metadata": {},
   "outputs": [],
   "source": [
    "eps_decay_json_file = 'lunar_lander_eps_decay_tuning{}.json'.format(run_name)"
   ]
  },
  {
   "cell_type": "code",
   "execution_count": 25,
   "id": "operating-preference",
   "metadata": {},
   "outputs": [],
   "source": [
    "# Save the data\n",
    "with open(eps_decay_json_file, 'w') as json_file:\n",
    "    json.dump(eps_decay_tuning_data, json_file)"
   ]
  },
  {
   "cell_type": "code",
   "execution_count": 13,
   "id": "statutory-blowing",
   "metadata": {},
   "outputs": [],
   "source": [
    "# Load saved data\n",
    "with open(eps_decay_json_file, 'r') as json_file:\n",
    "    eps_decay_tuning_data = json.load(json_file)"
   ]
  },
  {
   "cell_type": "code",
   "execution_count": 53,
   "id": "intimate-jamaica",
   "metadata": {},
   "outputs": [
    {
     "data": {
      "image/png": "[encoded data removed]",
      "text/plain": [
       "<Figure size 360x360 with 1 Axes>"
      ]
     },
     "metadata": {
      "needs_background": "light"
     },
     "output_type": "display_data"
    }
   ],
   "source": [
    "saved_eps_decays = [float(eps_decay) for eps_decay in eps_decay_tuning_data.keys()]\n",
    "saved_scores = {float(eps_decay):[score for score in eps_decay_tuning_data[eps_decay]['scores']] \n",
    "                for eps_decay in eps_decay_tuning_data.keys()}\n",
    "\n",
    "# rolling_average = 500\n",
    "avg_scores = {float(eps_decay):pd.DataFrame(saved_scores[eps_decay]).rolling(rolling_average).mean()\n",
    "              for eps_decay in saved_scores.keys()}\n",
    "\n",
    "\n",
    "\n",
    "fig, (ax1) = plt.subplots(1, 1, figsize=(5,5))\n",
    "\n",
    "for eps_decay in saved_eps_decays:\n",
    "    ax1.plot(range(len(avg_scores[eps_decay])), avg_scores[eps_decay], label=eps_decay)\n",
    "\n",
    "ax1.set_xlabel(\"Episode\")\n",
    "ax1.set_ylabel(\"Score (Average Over {} Episodes)\".format(rolling_average))\n",
    "ax1.set_title(\"Average Score vs Episode\")\n",
    "ax1.legend(title='Epsilon Decay')\n",
    "\n",
    "fig.suptitle('Epsilon Decay')\n",
    "\n",
    "plt.show()"
   ]
  },
  {
   "cell_type": "markdown",
   "id": "coral-rendering",
   "metadata": {},
   "source": [
    "## Gamma (Discount)"
   ]
  },
  {
   "cell_type": "code",
   "execution_count": 28,
   "id": "virgin-health",
   "metadata": {},
   "outputs": [],
   "source": [
    "gammas = [0.9, 0.99, 0.999]\n",
    "gamma_tuning_data = dict()"
   ]
  },
  {
   "cell_type": "code",
   "execution_count": 29,
   "id": "surprised-minimum",
   "metadata": {},
   "outputs": [
    {
     "name": "stdout",
     "output_type": "stream",
     "text": [
      "Gamma: 0.9\n",
      "Gamma: 0.99\n",
      "Gamma: 0.999\n"
     ]
    }
   ],
   "source": [
    "# num_episodes = 2500\n",
    "\n",
    "learn_every_n = 1 # Change to learn every n instance\n",
    "\n",
    "# Fixed parameter values\n",
    "#gamma=0.99\n",
    "epsilon=1.0\n",
    "lr=0.001\n",
    "epsilon_min=0.1\n",
    "epsilon_decay=.9999\n",
    "batch_size=64\n",
    "max_mem_size=100000\n",
    "\n",
    "for gamma in gammas:\n",
    "    print('Gamma:', gamma)\n",
    "    \n",
    "    gamma_tuning_data[gamma] = {'episode_index':[], 'scores':[], 'episode_train_times':[], 'epsilons':[],\n",
    "        'lr':lr, 'gamma':gamma, 'epsilon_start':epsilon, 'epsilon_min':epsilon_min,\n",
    "        'batch_size':batch_size, 'max_mem_size':max_mem_size, 'learn_every_n':learn_every_n, 'total_time':-1,\n",
    "                                           'target_update_interval':target_update_interval}\n",
    "    \n",
    "    tuning_agent = DQN_Agent(gamma=gamma, epsilon=epsilon, n_actions=4, input_size=8, lr=lr,\n",
    "                  epsilon_min=epsilon_min, epsilon_decay=epsilon_decay,\n",
    "                  batch_size=batch_size, max_mem_size=max_mem_size, target_update_interval=target_update_interval)\n",
    "    \n",
    "\n",
    "    counter = 0\n",
    "    \n",
    "    start_time = time.time()\n",
    "    last_time = start_time\n",
    "    for i in range(num_episodes):\n",
    "        gamma_tuning_data[gamma]['episode_index'].append(i)\n",
    "        \n",
    "        score = 0\n",
    "        done = False\n",
    "        state = env.reset()\n",
    "        while not done:\n",
    "            action = tuning_agent.select_action(state)\n",
    "            next_state, reward, done, info = env.step(action)\n",
    "            score += reward\n",
    "            tuning_agent.add_transition(state, action, reward, \n",
    "                                    next_state, done)\n",
    "            state = next_state\n",
    "\n",
    "            if counter % learn_every_n == 0:\n",
    "                tuning_agent.learn()\n",
    "            counter += 1\n",
    "        gamma_tuning_data[gamma]['scores'].append(score)\n",
    "        gamma_tuning_data[gamma]['epsilons'].append(tuning_agent.epsilon)\n",
    "        \n",
    "        current_time = time.time()\n",
    "        gamma_tuning_data[gamma]['episode_train_times'].append(current_time-last_time)\n",
    "        last_time = current_time\n",
    "\n",
    "        avg_score = np.mean(gamma_tuning_data[gamma]['scores'][-100:])\n",
    "        \n",
    "        #print('\\tEpisode: {} Score: {:.2f} Average Score: {:.2f} Epsilon: {:.2f}'.format(i, score, avg_score, \n",
    "        #                                                            tuning_agent.epsilon))\n",
    "        \n",
    "    gamma_tuning_data[gamma]['total_time'] = time.time()-start_time"
   ]
  },
  {
   "cell_type": "code",
   "execution_count": 22,
   "id": "mediterranean-future",
   "metadata": {},
   "outputs": [],
   "source": [
    "gamma_json_file = 'lunar_lander_gamma_tuning{}.json'.format(run_name)"
   ]
  },
  {
   "cell_type": "code",
   "execution_count": 31,
   "id": "worth-reverse",
   "metadata": {},
   "outputs": [],
   "source": [
    "# Save the data\n",
    "with open(gamma_json_file, 'w') as json_file:\n",
    "    json.dump(gamma_tuning_data, json_file)"
   ]
  },
  {
   "cell_type": "code",
   "execution_count": 23,
   "id": "corrected-dominican",
   "metadata": {},
   "outputs": [],
   "source": [
    "# Load saved data\n",
    "with open(gamma_json_file, 'r') as json_file:\n",
    "    gamma_tuning_data = json.load(json_file)"
   ]
  },
  {
   "cell_type": "code",
   "execution_count": 25,
   "id": "verified-equipment",
   "metadata": {},
   "outputs": [
    {
     "data": {
      "image/png": "[encoded data removed]",
      "text/plain": [
       "<Figure size 360x360 with 1 Axes>"
      ]
     },
     "metadata": {
      "needs_background": "light"
     },
     "output_type": "display_data"
    }
   ],
   "source": [
    "saved_gammas = [float(gamma) for gamma in gamma_tuning_data.keys()]\n",
    "saved_scores = {float(gamma):[score for score in gamma_tuning_data[gamma]['scores']] \n",
    "                for gamma in gamma_tuning_data.keys()}\n",
    "\n",
    "# rolling_average = 500\n",
    "avg_scores = {float(gamma):pd.DataFrame(saved_scores[gamma]).rolling(rolling_average).mean()\n",
    "              for gamma in saved_scores.keys()}\n",
    "\n",
    "\n",
    "\n",
    "fig, (ax1) = plt.subplots(1, 1, figsize=(5,5))\n",
    "\n",
    "for gamma in saved_gammas:\n",
    "    ax1.plot(range(len(avg_scores[gamma])), avg_scores[gamma], label=gamma)\n",
    "\n",
    "ax1.set_xlabel(\"Episode\")\n",
    "ax1.set_ylabel(\"Score (Average Over {} Episodes)\".format(rolling_average))\n",
    "ax1.set_title(\"Average Score vs Episode\")\n",
    "ax1.legend(title='Gamma')\n",
    "\n",
    "fig.suptitle('Discount')\n",
    "\n",
    "plt.show()"
   ]
  },
  {
   "cell_type": "markdown",
   "id": "false-reading",
   "metadata": {},
   "source": [
    "# Train the Tuned Agent"
   ]
  },
  {
   "cell_type": "code",
   "execution_count": 8,
   "id": "color-remains",
   "metadata": {},
   "outputs": [
    {
     "data": {
      "text/plain": [
       "[1]"
      ]
     },
     "execution_count": 8,
     "metadata": {},
     "output_type": "execute_result"
    }
   ],
   "source": [
    "env = gym.make('LunarLander-v2')\n",
    "env.seed(1)"
   ]
  },
  {
   "cell_type": "code",
   "execution_count": 9,
   "id": "labeled-institute",
   "metadata": {},
   "outputs": [],
   "source": [
    "final_agent = DQN_Agent(gamma=0.99, epsilon=1.0, n_actions=4, input_size=8, lr=0.001,\n",
    "                  epsilon_min=0.05, epsilon_decay=0.9999,\n",
    "                  batch_size=64, max_mem_size=100000, target_update_interval=10)"
   ]
  },
  {
   "cell_type": "code",
   "execution_count": null,
   "id": "fantastic-diesel",
   "metadata": {},
   "outputs": [],
   "source": [
    "tuned_training_data = {'scores':[], 'epsilons':[], 'gamma':final_agent.gamma, 'lr':final_agent.lr,\n",
    "                         'epsilon_start':final_agent.epsilon, 'epsilon_min':final_agent.epsilon_min, \n",
    "                         'epsilon_decay':final_agent.epsilon_decay, 'batch_size':final_agent.batch_size,\n",
    "                        'max_mem_size':final_agent.max_mem_size,\n",
    "                         'target_update_itnerval':final_agent.target_update_interval}\n",
    "\n",
    "scores = []\n",
    "\n",
    "avg_scores = []\n",
    "epsilons = []\n",
    "\n",
    "n_games = 500\n",
    "#n_games = 50\n",
    "\n",
    "tuned_training_data['episodes'] = n_games\n",
    "\n",
    "print_prev_n = 20\n",
    "\n",
    "learn_n = 1\n",
    "counter = 0\n",
    "for i in range(n_games):\n",
    "    score = 0\n",
    "    done = False\n",
    "    state = env.reset()\n",
    "    while not done:\n",
    "        action = final_agent.select_action(state)\n",
    "        next_state, reward, done, info = env.step(action)\n",
    "        score += reward\n",
    "        final_agent.add_transition(state, action, reward, \n",
    "                                next_state, done)\n",
    "        state = next_state\n",
    "        \n",
    "        if counter % learn_n == 0:\n",
    "            final_agent.learn()\n",
    "        counter += 1\n",
    "    scores.append(score)\n",
    "    #eps_history.append(final_agent.epsilon)\n",
    "\n",
    "    avg_score = np.mean(scores[-100:])\n",
    "    avg_scores.append(avg_score)\n",
    "    \n",
    "    #epsilons.append(final_agent.epsilon)\n",
    "    \n",
    "    tuned_training_data['scores'].append(score)\n",
    "    tuned_training_data['epsilons'].append(final_agent.epsilon)\n",
    "\n",
    "    print('Episode: {} \\tScore: {:.2f} \\tAverage Score: {:.2f} \\tEpsilon: {:.2f}'.format(\n",
    "                 i, scores[i], avg_scores[i], tuned_training_data['epsilons'][i]))\n",
    "#     clear_output(wait=True)\n",
    "#     for j in range(print_prev_n, -1, -1):\n",
    "#         if i-j < len(scores) and i-j >= 0:\n",
    "#             print('Episode: {} Score: {:.2f} Average Score: {:.2f} Epsilon: {:.2f}'.format(\n",
    "#                 i-j, scores[i-j], avg_scores[i-j], epsilons[i-j]))\n",
    "    \n",
    "#     print('episode ', i, 'score %.2f' % score,\n",
    "#             'average score %.2f' % avg_score,\n",
    "#             'epsilon %.2f' % agent.epsilon)"
   ]
  },
  {
   "cell_type": "code",
   "execution_count": 54,
   "id": "accredited-scott",
   "metadata": {},
   "outputs": [],
   "source": [
    "# Save model\n",
    "q_policy_tuned_save_path = \"Q_policy_tuned_model.pt\"\n",
    "\n",
    "torch.save(final_agent.Q_policy_nn.state_dict(), q_policy_tuned_save_path)"
   ]
  },
  {
   "cell_type": "code",
   "execution_count": null,
   "id": "strange-lancaster",
   "metadata": {},
   "outputs": [],
   "source": [
    "# Load model\n",
    "q_policy_tuned_save_path = \"Q_policy_tuned_model.pt\"\n",
    "\n",
    "final_agent.Q_policy_nn.load_state_dict(torch.load(q_policy_tuned_save_path))"
   ]
  },
  {
   "cell_type": "code",
   "execution_count": 61,
   "id": "alien-plymouth",
   "metadata": {},
   "outputs": [],
   "source": [
    "tuned_train_file = 'tuned_model.json'"
   ]
  },
  {
   "cell_type": "code",
   "execution_count": 56,
   "id": "prostate-award",
   "metadata": {},
   "outputs": [],
   "source": [
    "# Save the data\n",
    "with open(tuned_train_file, 'w') as json_file:\n",
    "    json.dump(tuned_training_data, json_file)"
   ]
  },
  {
   "cell_type": "code",
   "execution_count": 62,
   "id": "introductory-configuration",
   "metadata": {},
   "outputs": [],
   "source": [
    "# Load saved data\n",
    "with open(tuned_train_file, 'r') as json_file:\n",
    "    tuned_training_data = json.load(json_file)"
   ]
  },
  {
   "cell_type": "code",
   "execution_count": 65,
   "id": "incoming-viking",
   "metadata": {},
   "outputs": [
    {
     "data": {
      "image/png": "[encoded data removed]",
      "text/plain": [
       "<Figure size 360x360 with 1 Axes>"
      ]
     },
     "metadata": {
      "needs_background": "light"
     },
     "output_type": "display_data"
    }
   ],
   "source": [
    "rolling_average = 50\n",
    "avg_scores = pd.DataFrame(tuned_training_data['scores']).rolling(rolling_average).mean()\n",
    "\n",
    "fig, (ax1) = plt.subplots(1, 1, figsize=(5,5))\n",
    "\n",
    "ax1.plot(range(len(avg_scores)), avg_scores)\n",
    "\n",
    "ax1.set_xlabel(\"Episode\")\n",
    "ax1.set_ylabel(\"Error (RMS, Rolling {} Episodes)\".format(rolling_average))\n",
    "ax1.set_title(\"Rolling Average Error vs Episode\")\n",
    "\n",
    "fig.suptitle('Fine Tuned Model')\n",
    "\n",
    "plt.show()"
   ]
  },
  {
   "cell_type": "code",
   "execution_count": 64,
   "id": "characteristic-spine",
   "metadata": {},
   "outputs": [
    {
     "name": "stdout",
     "output_type": "stream",
     "text": [
      "Final Average Score: 215.71341245094186\n"
     ]
    }
   ],
   "source": [
    "print('Final Average Score:', float(avg_scores.iloc[-1]))"
   ]
  },
  {
   "cell_type": "markdown",
   "id": "indirect-fluid",
   "metadata": {},
   "source": [
    "## Train Tuned Agent Only Until Average Score 200 over 100 episodes"
   ]
  },
  {
   "cell_type": "code",
   "execution_count": 17,
   "id": "proper-feature",
   "metadata": {},
   "outputs": [
    {
     "data": {
      "text/plain": [
       "[1]"
      ]
     },
     "execution_count": 17,
     "metadata": {},
     "output_type": "execute_result"
    }
   ],
   "source": [
    "env = gym.make('LunarLander-v2')\n",
    "env.seed(1)"
   ]
  },
  {
   "cell_type": "code",
   "execution_count": 18,
   "id": "stable-trademark",
   "metadata": {},
   "outputs": [],
   "source": [
    "final_agent = DQN_Agent(gamma=0.99, epsilon=1.0, n_actions=4, input_size=8, lr=0.001,\n",
    "                  epsilon_min=0.05, epsilon_decay=0.99995,\n",
    "                  batch_size=64, max_mem_size=100000, target_update_interval=10)"
   ]
  },
  {
   "cell_type": "code",
   "execution_count": null,
   "id": "quick-proceeding",
   "metadata": {
    "scrolled": true
   },
   "outputs": [],
   "source": [
    "tuned_training_data = {'scores':[], 'epsilons':[], 'gamma':final_agent.gamma, 'lr':final_agent.lr,\n",
    "                         'epsilon_start':final_agent.epsilon, 'epsilon_min':final_agent.epsilon_min, \n",
    "                         'epsilon_decay':final_agent.epsilon_decay, 'batch_size':final_agent.batch_size,\n",
    "                        'max_mem_size':final_agent.max_mem_size,\n",
    "                         'target_update_itnerval':final_agent.target_update_interval}\n",
    "\n",
    "scores = []\n",
    "\n",
    "avg_scores = []\n",
    "epsilons = []\n",
    "\n",
    "n_games = 500\n",
    "#n_games = 50\n",
    "\n",
    "tuned_training_data['episodes'] = n_games\n",
    "\n",
    "print_prev_n = 20\n",
    "\n",
    "learn_n = 1\n",
    "counter = 0\n",
    "for i in range(n_games):\n",
    "    score = 0\n",
    "    done = False\n",
    "    state = env.reset()\n",
    "    while not done:\n",
    "        action = final_agent.select_action(state)\n",
    "        next_state, reward, done, info = env.step(action)\n",
    "        score += reward\n",
    "        final_agent.add_transition(state, action, reward, \n",
    "                                next_state, done)\n",
    "        state = next_state\n",
    "        \n",
    "        if counter % learn_n == 0:\n",
    "            final_agent.learn()\n",
    "        counter += 1\n",
    "    scores.append(score)\n",
    "    #eps_history.append(final_agent.epsilon)\n",
    "\n",
    "    avg_score = np.mean(scores[-100:])\n",
    "    avg_scores.append(avg_score)\n",
    "    \n",
    "    #epsilons.append(final_agent.epsilon)\n",
    "    \n",
    "    tuned_training_data['scores'].append(score)\n",
    "    tuned_training_data['epsilons'].append(final_agent.epsilon)\n",
    "\n",
    "    print('Episode: {} \\tScore: {:.2f} \\tAverage Score: {:.2f} \\tEpsilon: {:.2f}'.format(\n",
    "                 i, scores[i], avg_scores[i], tuned_training_data['epsilons'][i]))\n",
    "    \n",
    "    if avg_score >= 200:\n",
    "        break"
   ]
  },
  {
   "cell_type": "code",
   "execution_count": 20,
   "id": "quick-newark",
   "metadata": {},
   "outputs": [],
   "source": [
    "# Save model\n",
    "q_policy_tuned_save_path = \"Q_policy_tuned_model2.pt\"\n",
    "\n",
    "torch.save(final_agent.Q_policy_nn.state_dict(), q_policy_tuned_save_path)"
   ]
  },
  {
   "cell_type": "code",
   "execution_count": 21,
   "id": "banner-junction",
   "metadata": {},
   "outputs": [
    {
     "data": {
      "text/plain": [
       "<All keys matched successfully>"
      ]
     },
     "execution_count": 21,
     "metadata": {},
     "output_type": "execute_result"
    }
   ],
   "source": [
    "# Load model\n",
    "q_policy_tuned_save_path = \"Q_policy_tuned_model2.pt\"\n",
    "\n",
    "final_agent.Q_policy_nn.load_state_dict(torch.load(q_policy_tuned_save_path))"
   ]
  },
  {
   "cell_type": "code",
   "execution_count": 10,
   "id": "religious-heavy",
   "metadata": {},
   "outputs": [],
   "source": [
    "tuned_train_file = 'tuned_model2.json'"
   ]
  },
  {
   "cell_type": "code",
   "execution_count": 23,
   "id": "bridal-dressing",
   "metadata": {},
   "outputs": [],
   "source": [
    "# Save the data\n",
    "with open(tuned_train_file, 'w') as json_file:\n",
    "    json.dump(tuned_training_data, json_file)"
   ]
  },
  {
   "cell_type": "code",
   "execution_count": 11,
   "id": "african-armenia",
   "metadata": {},
   "outputs": [],
   "source": [
    "# Load saved data\n",
    "with open(tuned_train_file, 'r') as json_file:\n",
    "    tuned_training_data = json.load(json_file)"
   ]
  },
  {
   "cell_type": "code",
   "execution_count": 12,
   "id": "partial-calculator",
   "metadata": {},
   "outputs": [
    {
     "data": {
      "image/png": "[encoded data removed]",
      "text/plain": [
       "<Figure size 360x360 with 1 Axes>"
      ]
     },
     "metadata": {
      "needs_background": "light"
     },
     "output_type": "display_data"
    }
   ],
   "source": [
    "rolling_average = 50\n",
    "avg_scores = pd.DataFrame(tuned_training_data['scores']).rolling(rolling_average).mean()\n",
    "\n",
    "fig, (ax1) = plt.subplots(1, 1, figsize=(5,5))\n",
    "\n",
    "ax1.plot(range(len(avg_scores)), avg_scores)\n",
    "\n",
    "ax1.set_xlabel(\"Episode\")\n",
    "ax1.set_ylabel(\"Error (RMS, Rolling {} Episodes)\".format(rolling_average))\n",
    "ax1.set_title(\"Rolling Average Error vs Episode\")\n",
    "\n",
    "fig.suptitle('Fine Tuned Training (Until Solved)')\n",
    "\n",
    "plt.show()"
   ]
  },
  {
   "cell_type": "code",
   "execution_count": 44,
   "id": "floppy-examination",
   "metadata": {},
   "outputs": [
    {
     "name": "stdout",
     "output_type": "stream",
     "text": [
      "Final Average Score: 202.62434983608048\n"
     ]
    }
   ],
   "source": [
    "print('Final Average Score:', float(avg_scores.iloc[-1]))"
   ]
  },
  {
   "cell_type": "markdown",
   "id": "nearby-defensive",
   "metadata": {},
   "source": [
    "## Analysis on the Tuned Agent"
   ]
  },
  {
   "cell_type": "code",
   "execution_count": 40,
   "id": "prostate-august",
   "metadata": {},
   "outputs": [
    {
     "data": {
      "text/plain": [
       "<All keys matched successfully>"
      ]
     },
     "execution_count": 40,
     "metadata": {},
     "output_type": "execute_result"
    }
   ],
   "source": [
    "# Load model\n",
    "if 'final_agent' not in locals():\n",
    "    final_agent = DQN_Agent(gamma=0.99, epsilon=1.0, n_actions=4, input_size=8, lr=0.001,\n",
    "                  epsilon_min=0.01, epsilon_decay=0.99995,\n",
    "                  batch_size=64, max_mem_size=100000, target_update_interval=10)\n",
    "\n",
    "q_policy_tuned_save_path = \"Q_policy_tuned_model.pt\"\n",
    "\n",
    "final_agent.Q_policy_nn.load_state_dict(torch.load(q_policy_tuned_save_path))"
   ]
  },
  {
   "cell_type": "code",
   "execution_count": 41,
   "id": "breathing-grade",
   "metadata": {},
   "outputs": [
    {
     "data": {
      "text/plain": [
       "[1]"
      ]
     },
     "execution_count": 41,
     "metadata": {},
     "output_type": "execute_result"
    }
   ],
   "source": [
    "env = gym.make('LunarLander-v2')\n",
    "env.seed(1)"
   ]
  },
  {
   "cell_type": "code",
   "execution_count": 42,
   "id": "advised-ribbon",
   "metadata": {},
   "outputs": [
    {
     "data": {
      "text/plain": [
       "DQN(\n",
       "  (layer1): Linear(in_features=8, out_features=64, bias=True)\n",
       "  (layer2): Linear(in_features=64, out_features=64, bias=True)\n",
       "  (layer3): Linear(in_features=64, out_features=4, bias=True)\n",
       "  (loss): MSELoss()\n",
       ")"
      ]
     },
     "execution_count": 42,
     "metadata": {},
     "output_type": "execute_result"
    }
   ],
   "source": [
    "model = final_agent.Q_policy_nn\n",
    "model.device = torch.device('cpu')\n",
    "model.to(model.device)"
   ]
  },
  {
   "cell_type": "markdown",
   "id": "protecting-clearance",
   "metadata": {},
   "source": [
    "### Test Model for 100 Episodes"
   ]
  },
  {
   "cell_type": "code",
   "execution_count": 43,
   "id": "sized-referral",
   "metadata": {},
   "outputs": [],
   "source": [
    "num_episodes = 100"
   ]
  },
  {
   "cell_type": "code",
   "execution_count": null,
   "id": "passive-brighton",
   "metadata": {
    "scrolled": true
   },
   "outputs": [],
   "source": [
    "model_data = {'frames':[], 'scores':[], 'frame_scores':[], 'accumulated_frame_scores':[]}\n",
    "\n",
    "save_frames = False\n",
    "for episode in range(num_episodes):\n",
    "    print('Episode:', episode)\n",
    "    \n",
    "    score = 0\n",
    "    frames = []\n",
    "    frame_score = [0]\n",
    "    accumulated_frame_scores = [0]\n",
    "    \n",
    "    state = env.reset()\n",
    "    \n",
    "    if save_frames:\n",
    "        frames.append(env.render(mode=\"rgb_array\"))\n",
    "    \n",
    "    #state = np.array(state, dtype=np.float32)\n",
    "    state = torch.FloatTensor(state).to(model.device)\n",
    "    prediction = model(state)\n",
    "    \n",
    "    done = False\n",
    "    while not done:\n",
    "        action = np.argmax(model(state).detach().numpy())\n",
    "        next_state, reward, done, info = env.step(action)\n",
    "        score += reward\n",
    "        state = torch.FloatTensor(next_state).to(model.device)\n",
    "        \n",
    "        if save_frames:\n",
    "            frame_score.append(reward)\n",
    "            frames.append(env.render(mode=\"rgb_array\"))\n",
    "            accumulated_frame_scores.append(score)\n",
    "        \n",
    "    model_data['frames'].append(frames)\n",
    "    model_data['scores'].append(score)\n",
    "    model_data['frame_scores'].append(frame_score)\n",
    "    model_data['accumulated_frame_scores'].append(accumulated_frame_scores)"
   ]
  },
  {
   "cell_type": "code",
   "execution_count": 14,
   "id": "handy-subscriber",
   "metadata": {},
   "outputs": [],
   "source": [
    "model_data_path = 'model_data.json'"
   ]
  },
  {
   "cell_type": "code",
   "execution_count": 46,
   "id": "soviet-monkey",
   "metadata": {},
   "outputs": [],
   "source": [
    "# Save the data\n",
    "with open(model_data_path, 'w') as json_file:\n",
    "    json.dump(model_data, json_file)"
   ]
  },
  {
   "cell_type": "code",
   "execution_count": 15,
   "id": "deadly-jewelry",
   "metadata": {},
   "outputs": [],
   "source": [
    "# Load saved data\n",
    "with open(model_data_path, 'r') as json_file:\n",
    "    model_data = json.load(json_file)"
   ]
  },
  {
   "cell_type": "code",
   "execution_count": 48,
   "id": "tired-connection",
   "metadata": {},
   "outputs": [],
   "source": [
    "if save_frames: # Frames cannot be easily saved.  This should only run if episodes were generated.\n",
    "    episode = 0\n",
    "\n",
    "    frames = model_data['frames'][episode]\n",
    "    #accumulated_frame_score =  model_data['accumulated_frame_scores'][episode]\n",
    "\n",
    "    fig, (ax) = plt.subplots(figsize=(frames[0].shape[1]/70, frames[0].shape[0]/70), dpi=72)\n",
    "    plt.axis('off')\n",
    "\n",
    "    current_frame = plt.imshow(frames[0])\n",
    "\n",
    "    def animate(frame):\n",
    "        current_frame.set_data(frames[frame])\n",
    "        #plt.text(0, 0, accumulated_frame_score[frame], color='r')\n",
    "        #ax.annotate('Accumulated Score: {:.2f}'.format(accumulated_frame_score[frame]), (1,1), color='red')\n",
    "\n",
    "    anim = animation.FuncAnimation(fig, animate, frames = len(frames), interval=1000/60)\n",
    "    plt.close()\n",
    "    HTML(anim.to_html5_video())"
   ]
  },
  {
   "cell_type": "code",
   "execution_count": 24,
   "id": "bigger-fields",
   "metadata": {},
   "outputs": [
    {
     "data": {
      "image/png": "[encoded data removed]",
      "text/plain": [
       "<Figure size 864x360 with 1 Axes>"
      ]
     },
     "metadata": {
      "needs_background": "light"
     },
     "output_type": "display_data"
    }
   ],
   "source": [
    "fig, (ax1) = plt.subplots(1, 1, figsize=(12,5))\n",
    "\n",
    "ax1.plot(range(len(model_data['scores'])), model_data['scores'])\n",
    "\n",
    "ax1.set_xlabel(\"Episode\")\n",
    "ax1.set_ylabel(\"Score\")\n",
    "ax1.set_title(\"Score vs Episode\")\n",
    "ax1.hlines(y=np.mean(model_data['scores']), xmin=0, xmax=len(model_data['scores']), color='r', label='Average')\n",
    "ax1.legend()\n",
    "\n",
    "fig.suptitle('Tuned Model')\n",
    "\n",
    "plt.show()"
   ]
  },
  {
   "cell_type": "code",
   "execution_count": 52,
   "id": "virtual-smart",
   "metadata": {},
   "outputs": [
    {
     "name": "stdout",
     "output_type": "stream",
     "text": [
      "202.2274824788616\n"
     ]
    }
   ],
   "source": [
    "print(np.mean(model_data['scores']))"
   ]
  },
  {
   "cell_type": "code",
   "execution_count": 26,
   "id": "experimental-undergraduate",
   "metadata": {},
   "outputs": [
    {
     "name": "stdout",
     "output_type": "stream",
     "text": [
      "Number of samples above 200: 53\n"
     ]
    }
   ],
   "source": [
    "count = 0\n",
    "for i in model_data['scores']:\n",
    "    if i > 200:\n",
    "        count+=1\n",
    "print('Number of samples above 200:', count)"
   ]
  },
  {
   "cell_type": "code",
   "execution_count": null,
   "id": "embedded-theology",
   "metadata": {},
   "outputs": [],
   "source": []
  }
 ],
 "metadata": {
  "kernelspec": {
   "display_name": "Python 3",
   "language": "python",
   "name": "python3"
  },
  "language_info": {
   "codemirror_mode": {
    "name": "ipython",
    "version": 3
   },
   "file_extension": ".py",
   "mimetype": "text/x-python",
   "name": "python",
   "nbconvert_exporter": "python",
   "pygments_lexer": "ipython3",
   "version": "3.9.1"
  }
 },
 "nbformat": 4,
 "nbformat_minor": 5
}
